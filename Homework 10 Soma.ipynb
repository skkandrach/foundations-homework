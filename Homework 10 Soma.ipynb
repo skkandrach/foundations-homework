{
 "cells": [
  {
   "cell_type": "markdown",
   "metadata": {},
   "source": [
    "### Grade: 10 / 10 -- this looks great! "
   ]
  },
  {
   "cell_type": "code",
   "execution_count": 8,
   "metadata": {
    "collapsed": false
   },
   "outputs": [],
   "source": [
    "import requests"
   ]
  },
  {
   "cell_type": "code",
   "execution_count": 9,
   "metadata": {
    "collapsed": false
   },
   "outputs": [
    {
     "name": "stdout",
     "output_type": "stream",
     "text": [
      "Requirement already satisfied (use --upgrade to upgrade): requests in /Users/skkandrach/.virtualenvs/lede/lib/python3.5/site-packages\r\n"
     ]
    }
   ],
   "source": [
    "!pip install requests "
   ]
  },
  {
   "cell_type": "code",
   "execution_count": 10,
   "metadata": {
    "collapsed": false
   },
   "outputs": [
    {
     "name": "stdout",
     "output_type": "stream",
     "text": [
      "dict_keys(['daily', 'offset', 'currently', 'longitude', 'hourly', 'flags', 'latitude', 'timezone'])\n"
     ]
    }
   ],
   "source": [
    "response = requests.get(\"https://api.forecast.io/forecast/c9d64e80aa02ca113562a075e57256d7/40.7128,74.0059\")\n",
    "forecast = response.json()\n",
    "print(forecast.keys())"
   ]
  },
  {
   "cell_type": "code",
   "execution_count": 11,
   "metadata": {
    "collapsed": false
   },
   "outputs": [
    {
     "data": {
      "text/plain": [
       "dict_keys(['summary', 'icon', 'data'])"
      ]
     },
     "execution_count": 11,
     "metadata": {},
     "output_type": "execute_result"
    }
   ],
   "source": [
    "forecast['daily'].keys()"
   ]
  },
  {
   "cell_type": "code",
   "execution_count": 12,
   "metadata": {
    "collapsed": false
   },
   "outputs": [
    {
     "data": {
      "text/plain": [
       "[{'apparentTemperatureMax': 68.26,\n",
       "  'apparentTemperatureMaxTime': 1467194400,\n",
       "  'apparentTemperatureMin': 42.22,\n",
       "  'apparentTemperatureMinTime': 1467158400,\n",
       "  'cloudCover': 0.07,\n",
       "  'dewPoint': 35.02,\n",
       "  'humidity': 0.49,\n",
       "  'icon': 'clear-day',\n",
       "  'moonPhase': 0.81,\n",
       "  'ozone': 295.42,\n",
       "  'precipIntensity': 0,\n",
       "  'precipIntensityMax': 0,\n",
       "  'precipProbability': 0,\n",
       "  'pressure': 1012.95,\n",
       "  'summary': 'Clear throughout the day.',\n",
       "  'sunriseTime': 1467157009,\n",
       "  'sunsetTime': 1467211226,\n",
       "  'temperatureMax': 68.26,\n",
       "  'temperatureMaxTime': 1467194400,\n",
       "  'temperatureMin': 42.22,\n",
       "  'temperatureMinTime': 1467158400,\n",
       "  'time': 1467136800,\n",
       "  'windBearing': 277,\n",
       "  'windSpeed': 2.19},\n",
       " {'apparentTemperatureMax': 69.63,\n",
       "  'apparentTemperatureMaxTime': 1467280800,\n",
       "  'apparentTemperatureMin': 42.92,\n",
       "  'apparentTemperatureMinTime': 1467241200,\n",
       "  'cloudCover': 0,\n",
       "  'dewPoint': 33.79,\n",
       "  'humidity': 0.44,\n",
       "  'icon': 'clear-day',\n",
       "  'moonPhase': 0.85,\n",
       "  'ozone': 291.31,\n",
       "  'precipIntensity': 0,\n",
       "  'precipIntensityMax': 0,\n",
       "  'precipProbability': 0,\n",
       "  'pressure': 1011.36,\n",
       "  'summary': 'Clear throughout the day.',\n",
       "  'sunriseTime': 1467243436,\n",
       "  'sunsetTime': 1467297622,\n",
       "  'temperatureMax': 69.63,\n",
       "  'temperatureMaxTime': 1467280800,\n",
       "  'temperatureMin': 42.92,\n",
       "  'temperatureMinTime': 1467241200,\n",
       "  'time': 1467223200,\n",
       "  'windBearing': 269,\n",
       "  'windSpeed': 3.08},\n",
       " {'apparentTemperatureMax': 67.59,\n",
       "  'apparentTemperatureMaxTime': 1467367200,\n",
       "  'apparentTemperatureMin': 45.39,\n",
       "  'apparentTemperatureMinTime': 1467327600,\n",
       "  'cloudCover': 0,\n",
       "  'dewPoint': 36.76,\n",
       "  'humidity': 0.49,\n",
       "  'icon': 'clear-day',\n",
       "  'moonPhase': 0.88,\n",
       "  'ozone': 292.41,\n",
       "  'precipIntensity': 0.0005,\n",
       "  'precipIntensityMax': 0.0011,\n",
       "  'precipIntensityMaxTime': 1467374400,\n",
       "  'precipProbability': 0.02,\n",
       "  'precipType': 'rain',\n",
       "  'pressure': 1008.9,\n",
       "  'summary': 'Clear throughout the day.',\n",
       "  'sunriseTime': 1467329864,\n",
       "  'sunsetTime': 1467384015,\n",
       "  'temperatureMax': 67.59,\n",
       "  'temperatureMaxTime': 1467367200,\n",
       "  'temperatureMin': 45.39,\n",
       "  'temperatureMinTime': 1467327600,\n",
       "  'time': 1467309600,\n",
       "  'windBearing': 289,\n",
       "  'windSpeed': 3.56},\n",
       " {'apparentTemperatureMax': 67.61,\n",
       "  'apparentTemperatureMaxTime': 1467457200,\n",
       "  'apparentTemperatureMin': 45.35,\n",
       "  'apparentTemperatureMinTime': 1467417600,\n",
       "  'cloudCover': 0.01,\n",
       "  'dewPoint': 35.52,\n",
       "  'humidity': 0.46,\n",
       "  'icon': 'clear-day',\n",
       "  'moonPhase': 0.92,\n",
       "  'ozone': 287.36,\n",
       "  'precipIntensity': 0,\n",
       "  'precipIntensityMax': 0,\n",
       "  'precipProbability': 0,\n",
       "  'pressure': 1006.48,\n",
       "  'summary': 'Clear throughout the day.',\n",
       "  'sunriseTime': 1467416294,\n",
       "  'sunsetTime': 1467470407,\n",
       "  'temperatureMax': 67.61,\n",
       "  'temperatureMaxTime': 1467457200,\n",
       "  'temperatureMin': 45.35,\n",
       "  'temperatureMinTime': 1467417600,\n",
       "  'time': 1467396000,\n",
       "  'windBearing': 289,\n",
       "  'windSpeed': 3.04},\n",
       " {'apparentTemperatureMax': 64.76,\n",
       "  'apparentTemperatureMaxTime': 1467540000,\n",
       "  'apparentTemperatureMin': 45.94,\n",
       "  'apparentTemperatureMinTime': 1467504000,\n",
       "  'cloudCover': 0.14,\n",
       "  'dewPoint': 35.46,\n",
       "  'humidity': 0.47,\n",
       "  'icon': 'partly-cloudy-night',\n",
       "  'moonPhase': 0.96,\n",
       "  'ozone': 293.39,\n",
       "  'precipIntensity': 0,\n",
       "  'precipIntensityMax': 0,\n",
       "  'precipProbability': 0,\n",
       "  'pressure': 1006.25,\n",
       "  'summary': 'Mostly cloudy starting in the evening.',\n",
       "  'sunriseTime': 1467502726,\n",
       "  'sunsetTime': 1467556796,\n",
       "  'temperatureMax': 64.76,\n",
       "  'temperatureMaxTime': 1467540000,\n",
       "  'temperatureMin': 45.94,\n",
       "  'temperatureMinTime': 1467504000,\n",
       "  'time': 1467482400,\n",
       "  'windBearing': 298,\n",
       "  'windSpeed': 4.26},\n",
       " {'apparentTemperatureMax': 62.37,\n",
       "  'apparentTemperatureMaxTime': 1467626400,\n",
       "  'apparentTemperatureMin': 46.1,\n",
       "  'apparentTemperatureMinTime': 1467590400,\n",
       "  'cloudCover': 0.26,\n",
       "  'dewPoint': 35.93,\n",
       "  'humidity': 0.5,\n",
       "  'icon': 'partly-cloudy-day',\n",
       "  'moonPhase': 0.99,\n",
       "  'ozone': 297.3,\n",
       "  'precipIntensity': 0.0008,\n",
       "  'precipIntensityMax': 0.001,\n",
       "  'precipIntensityMaxTime': 1467648000,\n",
       "  'precipProbability': 0.01,\n",
       "  'precipType': 'rain',\n",
       "  'pressure': 1006.08,\n",
       "  'summary': 'Partly cloudy starting in the evening.',\n",
       "  'sunriseTime': 1467589158,\n",
       "  'sunsetTime': 1467643184,\n",
       "  'temperatureMax': 62.37,\n",
       "  'temperatureMaxTime': 1467626400,\n",
       "  'temperatureMin': 46.1,\n",
       "  'temperatureMinTime': 1467590400,\n",
       "  'time': 1467568800,\n",
       "  'windBearing': 305,\n",
       "  'windSpeed': 4.08},\n",
       " {'apparentTemperatureMax': 60.36,\n",
       "  'apparentTemperatureMaxTime': 1467709200,\n",
       "  'apparentTemperatureMin': 44.42,\n",
       "  'apparentTemperatureMinTime': 1467676800,\n",
       "  'cloudCover': 0.38,\n",
       "  'dewPoint': 35.38,\n",
       "  'humidity': 0.53,\n",
       "  'icon': 'partly-cloudy-day',\n",
       "  'moonPhase': 0.03,\n",
       "  'ozone': 303.73,\n",
       "  'precipIntensity': 0.0014,\n",
       "  'precipIntensityMax': 0.0032,\n",
       "  'precipIntensityMaxTime': 1467734400,\n",
       "  'precipProbability': 0.11,\n",
       "  'precipType': 'rain',\n",
       "  'pressure': 1006.24,\n",
       "  'summary': 'Mostly cloudy starting in the afternoon.',\n",
       "  'sunriseTime': 1467675593,\n",
       "  'sunsetTime': 1467729569,\n",
       "  'temperatureMax': 60.36,\n",
       "  'temperatureMaxTime': 1467709200,\n",
       "  'temperatureMin': 44.42,\n",
       "  'temperatureMinTime': 1467676800,\n",
       "  'time': 1467655200,\n",
       "  'windBearing': 304,\n",
       "  'windSpeed': 3.58},\n",
       " {'apparentTemperatureMax': 61.86,\n",
       "  'apparentTemperatureMaxTime': 1467795600,\n",
       "  'apparentTemperatureMin': 43.39,\n",
       "  'apparentTemperatureMinTime': 1467763200,\n",
       "  'cloudCover': 0.54,\n",
       "  'dewPoint': 35.88,\n",
       "  'humidity': 0.53,\n",
       "  'icon': 'partly-cloudy-day',\n",
       "  'moonPhase': 0.07,\n",
       "  'ozone': 303.09,\n",
       "  'precipIntensity': 0.0015,\n",
       "  'precipIntensityMax': 0.0046,\n",
       "  'precipIntensityMaxTime': 1467824400,\n",
       "  'precipProbability': 0.18,\n",
       "  'precipType': 'rain',\n",
       "  'pressure': 1007.25,\n",
       "  'summary': 'Partly cloudy throughout the day.',\n",
       "  'sunriseTime': 1467762029,\n",
       "  'sunsetTime': 1467815953,\n",
       "  'temperatureMax': 61.86,\n",
       "  'temperatureMaxTime': 1467795600,\n",
       "  'temperatureMin': 43.39,\n",
       "  'temperatureMinTime': 1467763200,\n",
       "  'time': 1467741600,\n",
       "  'windBearing': 307,\n",
       "  'windSpeed': 3.29}]"
      ]
     },
     "execution_count": 12,
     "metadata": {},
     "output_type": "execute_result"
    }
   ],
   "source": [
    "forecast['daily']['data']"
   ]
  },
  {
   "cell_type": "code",
   "execution_count": 13,
   "metadata": {
    "collapsed": false
   },
   "outputs": [
    {
     "data": {
      "text/plain": [
       "dict_keys(['time', 'temperature', 'pressure', 'summary', 'cloudCover', 'dewPoint', 'precipProbability', 'windBearing', 'ozone', 'windSpeed', 'precipIntensity', 'apparentTemperature', 'icon', 'humidity'])"
      ]
     },
     "execution_count": 13,
     "metadata": {},
     "output_type": "execute_result"
    }
   ],
   "source": [
    "forecast['currently'].keys()"
   ]
  },
  {
   "cell_type": "code",
   "execution_count": 14,
   "metadata": {
    "collapsed": true
   },
   "outputs": [],
   "source": [
    "current_temperature = forecast['currently']['temperature']"
   ]
  },
  {
   "cell_type": "code",
   "execution_count": 15,
   "metadata": {
    "collapsed": false
   },
   "outputs": [
    {
     "name": "stdout",
     "output_type": "stream",
     "text": [
      "47.84\n"
     ]
    }
   ],
   "source": [
    "print(current_temperature)"
   ]
  },
  {
   "cell_type": "code",
   "execution_count": 16,
   "metadata": {
    "collapsed": true
   },
   "outputs": [],
   "source": [
    "current_summary = forecast['currently']['summary']"
   ]
  },
  {
   "cell_type": "code",
   "execution_count": 17,
   "metadata": {
    "collapsed": false
   },
   "outputs": [
    {
     "name": "stdout",
     "output_type": "stream",
     "text": [
      "Partly Cloudy\n"
     ]
    }
   ],
   "source": [
    "print(current_summary)"
   ]
  },
  {
   "cell_type": "code",
   "execution_count": 18,
   "metadata": {
    "collapsed": false
   },
   "outputs": [
    {
     "name": "stdout",
     "output_type": "stream",
     "text": [
      "{'time': 1467136800, 'temperatureMaxTime': 1467194400, 'sunsetTime': 1467211226, 'pressure': 1012.95, 'temperatureMax': 68.26, 'temperatureMin': 42.22, 'windBearing': 277, 'apparentTemperatureMaxTime': 1467194400, 'dewPoint': 35.02, 'apparentTemperatureMin': 42.22, 'humidity': 0.49, 'apparentTemperatureMinTime': 1467158400, 'ozone': 295.42, 'precipIntensityMax': 0, 'precipIntensity': 0, 'summary': 'Clear throughout the day.', 'apparentTemperatureMax': 68.26, 'sunriseTime': 1467157009, 'moonPhase': 0.81, 'windSpeed': 2.19, 'temperatureMinTime': 1467158400, 'cloudCover': 0.07, 'icon': 'clear-day', 'precipProbability': 0}\n"
     ]
    }
   ],
   "source": [
    "daily_forecast = forecast['daily']['data'][0]\n",
    "print(daily_forecast)"
   ]
  },
  {
   "cell_type": "code",
   "execution_count": 48,
   "metadata": {
    "collapsed": false
   },
   "outputs": [],
   "source": [
    "def temp_feeling(t):\n",
    "    data = t['daily']['data']\n",
    "    for item in data:\n",
    "        temp_feeling = item['temperatureMin']\n",
    "        if temp_feeling < 60:\n",
    "            return \"cold\"\n",
    "        elif temp_feeling > 60:\n",
    "            return \"moderate\"\n",
    "        elif temp_feeling < 75:\n",
    "            return \"warm\"\n",
    "        elif temp_feeling > 75:\n",
    "            return \"hot\""
   ]
  },
  {
   "cell_type": "code",
   "execution_count": 49,
   "metadata": {
    "collapsed": false
   },
   "outputs": [
    {
     "name": "stdout",
     "output_type": "stream",
     "text": [
      "68.26\n"
     ]
    }
   ],
   "source": [
    "high_temp_forecast= forecast['daily']['data'][0]['temperatureMax'] \n",
    "print(high_temp_forecast)"
   ]
  },
  {
   "cell_type": "code",
   "execution_count": 50,
   "metadata": {
    "collapsed": false
   },
   "outputs": [
    {
     "name": "stdout",
     "output_type": "stream",
     "text": [
      "42.22\n"
     ]
    }
   ],
   "source": [
    "low_temp_forecast= forecast['daily']['data'][0]['temperatureMin'] \n",
    "print(low_temp_forecast)"
   ]
  },
  {
   "cell_type": "code",
   "execution_count": 51,
   "metadata": {
    "collapsed": false
   },
   "outputs": [
    {
     "name": "stdout",
     "output_type": "stream",
     "text": [
      "\n"
     ]
    }
   ],
   "source": [
    "rain_forecast= forecast['daily']['data'][0]['precipIntensity']\n",
    "rain_warning = \"\"\n",
    "if rain_forecast <= 0:\n",
    "    rain_warning = ''\n",
    "if rain_forecast > 0:\n",
    "    rain_warning = 'Prepare for some precipitation...Bring your umbrella!'\n",
    "print(rain_warning)"
   ]
  },
  {
   "cell_type": "code",
   "execution_count": 52,
   "metadata": {
    "collapsed": false
   },
   "outputs": [
    {
     "ename": "TypeError",
     "evalue": "sequence item 1: expected str instance, float found",
     "output_type": "error",
     "traceback": [
      "\u001b[0;31m---------------------------------------------------------------------------\u001b[0m",
      "\u001b[0;31mTypeError\u001b[0m                                 Traceback (most recent call last)",
      "\u001b[0;32m<ipython-input-52-bf47ecfca4c9>\u001b[0m in \u001b[0;36m<module>\u001b[0;34m()\u001b[0m\n\u001b[1;32m      1\u001b[0m \u001b[0mdaily_mail\u001b[0m \u001b[0;34m=\u001b[0m \u001b[0;34m\"Right now it is\"\u001b[0m\u001b[0;34m,\u001b[0m \u001b[0mcurrent_temperature\u001b[0m\u001b[0;34m,\u001b[0m \u001b[0;34m\"degrees out and\"\u001b[0m\u001b[0;34m,\u001b[0m \u001b[0mcurrent_summary\u001b[0m\u001b[0;34m,\u001b[0m\u001b[0;34m\"Today will be\"\u001b[0m\u001b[0;34m,\u001b[0m \u001b[0mtemp_feeling\u001b[0m\u001b[0;34m,\u001b[0m \u001b[0;34m\"with a high of\"\u001b[0m\u001b[0;34m,\u001b[0m \u001b[0mhigh_temp_forecast\u001b[0m \u001b[0;34m,\u001b[0m \u001b[0;34m\"and a low of\"\u001b[0m\u001b[0;34m,\u001b[0m\u001b[0;34m\u001b[0m\u001b[0m\n\u001b[1;32m      2\u001b[0m \u001b[0mlow_temp_forecast\u001b[0m\u001b[0;34m,\u001b[0m\u001b[0;34m\".\"\u001b[0m\u001b[0;34m,\u001b[0m \u001b[0mrain_warning\u001b[0m\u001b[0;34m\u001b[0m\u001b[0m\n\u001b[0;32m----> 3\u001b[0;31m \u001b[0mprint\u001b[0m\u001b[0;34m(\u001b[0m\u001b[0;34m' '\u001b[0m\u001b[0;34m.\u001b[0m\u001b[0mjoin\u001b[0m\u001b[0;34m(\u001b[0m\u001b[0mdaily_mail\u001b[0m\u001b[0;34m)\u001b[0m\u001b[0;34m)\u001b[0m\u001b[0;34m\u001b[0m\u001b[0m\n\u001b[0m",
      "\u001b[0;31mTypeError\u001b[0m: sequence item 1: expected str instance, float found"
     ]
    }
   ],
   "source": [
    "daily_mail = \"Right now it is\", current_temperature, \"degrees out and\", current_summary,\"Today will be\", temp_feeling, \"with a high of\", high_temp_forecast , \"and a low of\",\n",
    "low_temp_forecast,\".\", rain_warning\n",
    "print(' '.join(daily_mail))"
   ]
  },
  {
   "cell_type": "code",
   "execution_count": 53,
   "metadata": {
    "collapsed": false
   },
   "outputs": [
    {
     "name": "stdout",
     "output_type": "stream",
     "text": [
      "Right now it is 47.84 degrees out and Partly Cloudy. Today will be <function temp_feeling at 0x110d23620> with a high of 68.26 and a low of 42.22.\n"
     ]
    }
   ],
   "source": [
    "mail_text = \"Right now it is {} degrees out and {}. Today will be {} with a high of {} and a low of {}.{}\".format(current_temperature, current_summary, temp_feeling, high_temp_forecast, low_temp_forecast, rain_warning)\n",
    "print(mail_text)"
   ]
  },
  {
   "cell_type": "code",
   "execution_count": 54,
   "metadata": {
    "collapsed": true
   },
   "outputs": [],
   "source": [
    "import time\n"
   ]
  },
  {
   "cell_type": "code",
   "execution_count": 55,
   "metadata": {
    "collapsed": true
   },
   "outputs": [],
   "source": [
    "time = time.strftime(\"%B,%d %Y\")"
   ]
  },
  {
   "cell_type": "code",
   "execution_count": 56,
   "metadata": {
    "collapsed": false
   },
   "outputs": [
    {
     "data": {
      "text/plain": [
       "'June,28 2016'"
      ]
     },
     "execution_count": 56,
     "metadata": {},
     "output_type": "execute_result"
    }
   ],
   "source": [
    "time"
   ]
  },
  {
   "cell_type": "code",
   "execution_count": 57,
   "metadata": {
    "collapsed": false
   },
   "outputs": [
    {
     "data": {
      "text/plain": [
       "str"
      ]
     },
     "execution_count": 57,
     "metadata": {},
     "output_type": "execute_result"
    }
   ],
   "source": [
    "type(time)"
   ]
  },
  {
   "cell_type": "code",
   "execution_count": 61,
   "metadata": {
    "collapsed": false
   },
   "outputs": [
    {
     "data": {
      "text/plain": [
       "<Response [401]>"
      ]
     },
     "execution_count": 61,
     "metadata": {},
     "output_type": "execute_result"
    }
   ],
   "source": [
    "requests.post(\n",
    "        \"https://api.mailgun.net/v3/sandbox9fe7853d8f49467cb3233031623028cc.mailgun.org/messages\",\n",
    "        auth=(\"api\", \"\"),\n",
    "        data={\"from\": \"Mailgun Sandbox <postmaster@sandbox9fe7853d8f49467cb3233031623028cc.mailgun.org>\",\n",
    "              \"to\": \"sasha kandrach <skkandrach@hotomail.com.com>\",\n",
    "              \"subject\": \"8AM Weather forecast:\" + time,\n",
    "              \"text\": mail_text })"
   ]
  },
  {
   "cell_type": "code",
   "execution_count": null,
   "metadata": {
    "collapsed": true
   },
   "outputs": [],
   "source": []
  },
  {
   "cell_type": "code",
   "execution_count": null,
   "metadata": {
    "collapsed": true
   },
   "outputs": [],
   "source": []
  }
 ],
 "metadata": {
  "kernelspec": {
   "display_name": "Python 3",
   "language": "python",
   "name": "python3"
  },
  "language_info": {
   "codemirror_mode": {
    "name": "ipython",
    "version": 3
   },
   "file_extension": ".py",
   "mimetype": "text/x-python",
   "name": "python",
   "nbconvert_exporter": "python",
   "pygments_lexer": "ipython3",
   "version": "3.5.0"
  }
 },
 "nbformat": 4,
 "nbformat_minor": 0
}
