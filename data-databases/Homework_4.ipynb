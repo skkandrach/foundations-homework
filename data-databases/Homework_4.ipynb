{
 "cells": [
  {
   "cell_type": "markdown",
   "metadata": {},
   "source": [
    "# Homework #4\n",
    "\n",
    "These problem sets focus on list comprehensions, string operations and regular expressions.\n",
    "\n",
    "## Problem set #1: List slices and list comprehensions\n",
    "\n",
    "Let's start with some data. The following cell contains a string with comma-separated integers, assigned to a variable called `numbers_str`:"
   ]
  },
  {
   "cell_type": "code",
   "execution_count": 1,
   "metadata": {
    "collapsed": true
   },
   "outputs": [],
   "source": [
    "numbers_str = '496,258,332,550,506,699,7,985,171,581,436,804,736,528,65,855,68,279,721,120'"
   ]
  },
  {
   "cell_type": "markdown",
   "metadata": {},
   "source": [
    "In the following cell, complete the code with an expression that evaluates to a list of integers derived from the raw numbers in `numbers_str`, assigning the value of this expression to a variable `numbers`. If you do everything correctly, executing the cell should produce the output `985` (*not* `'985'`)."
   ]
  },
  {
   "cell_type": "code",
   "execution_count": null,
   "metadata": {
    "collapsed": false
   },
   "outputs": [],
   "source": [
    "numbers = None # replace 'None' with an expression, as described above\n",
    "max(numbers)"
   ]
  },
  {
   "cell_type": "markdown",
   "metadata": {},
   "source": [
    "Great! We'll be using the `numbers` list you created above in the next few problems.\n",
    "\n",
    "In the cell below, fill in the square brackets so that the expression evaluates to a list of the ten largest values in `numbers`. Expected output:\n",
    "\n",
    "    [506, 528, 550, 581, 699, 721, 736, 804, 855, 985]\n",
    "    \n",
    "(Hint: use a slice.)"
   ]
  },
  {
   "cell_type": "code",
   "execution_count": null,
   "metadata": {
    "collapsed": false
   },
   "outputs": [],
   "source": [
    "sorted(numbers)[???]"
   ]
  },
  {
   "cell_type": "markdown",
   "metadata": {},
   "source": [
    "In the cell below, write an expression that evaluates to a list of the integers from `numbers` that are evenly divisible by three, *sorted in numerical order*. Expected output:\n",
    "\n",
    "    [120, 171, 258, 279, 528, 699, 804, 855]"
   ]
  },
  {
   "cell_type": "code",
   "execution_count": 1,
   "metadata": {
    "collapsed": false
   },
   "outputs": [
    {
     "data": {
      "text/plain": [
       "[120, 171, 258, 279, 528, 699, 804, 855]"
      ]
     },
     "execution_count": 1,
     "metadata": {},
     "output_type": "execute_result"
    }
   ],
   "source": [
    "sorted([120, 171, 258, 279, 528, 699, 804, 855])"
   ]
  },
  {
   "cell_type": "markdown",
   "metadata": {},
   "source": [
    "Okay. You're doing great. Now, in the cell below, write an expression that evaluates to a list of the square roots of all the integers in `numbers` that are less than 100. In order to do this, you'll need to use the `sqrt` function from the `math` module, which I've already imported for you. Expected output:\n",
    "\n",
    "    [2.6457513110645907, 8.06225774829855, 8.246211251235321]\n",
    "    \n",
    "(These outputs might vary slightly depending on your platform.)"
   ]
  },
  {
   "cell_type": "code",
   "execution_count": null,
   "metadata": {
    "collapsed": false
   },
   "outputs": [],
   "source": [
    "from math import sqrt\n",
    "# your code here"
   ]
  },
  {
   "cell_type": "markdown",
   "metadata": {},
   "source": [
    "## Problem set #2: Still more list comprehensions\n",
    "\n",
    "Still looking good. Let's do a few more with some different data. In the cell below, I've defined a data structure and assigned it to a variable `planets`. It's a list of dictionaries, with each dictionary describing the characteristics of a planet in the solar system. Make sure to run the cell before you proceed."
   ]
  },
  {
   "cell_type": "code",
   "execution_count": 6,
   "metadata": {
    "collapsed": true
   },
   "outputs": [],
   "source": [
    "planets = [\n",
    " {'diameter': 0.382,\n",
    "  'mass': 0.06,\n",
    "  'moons': 0,\n",
    "  'name': 'Mercury',\n",
    "  'orbital_period': 0.24,\n",
    "  'rings': 'no',\n",
    "  'type': 'terrestrial'},\n",
    " {'diameter': 0.949,\n",
    "  'mass': 0.82,\n",
    "  'moons': 0,\n",
    "  'name': 'Venus',\n",
    "  'orbital_period': 0.62,\n",
    "  'rings': 'no',\n",
    "  'type': 'terrestrial'},\n",
    " {'diameter': 1.00,\n",
    "  'mass': 1.00,\n",
    "  'moons': 1,\n",
    "  'name': 'Earth',\n",
    "  'orbital_period': 1.00,\n",
    "  'rings': 'no',\n",
    "  'type': 'terrestrial'},\n",
    " {'diameter': 0.532,\n",
    "  'mass': 0.11,\n",
    "  'moons': 2,\n",
    "  'name': 'Mars',\n",
    "  'orbital_period': 1.88,\n",
    "  'rings': 'no',\n",
    "  'type': 'terrestrial'},\n",
    " {'diameter': 11.209,\n",
    "  'mass': 317.8,\n",
    "  'moons': 67,\n",
    "  'name': 'Jupiter',\n",
    "  'orbital_period': 11.86,\n",
    "  'rings': 'yes',\n",
    "  'type': 'gas giant'},\n",
    " {'diameter': 9.449,\n",
    "  'mass': 95.2,\n",
    "  'moons': 62,\n",
    "  'name': 'Saturn',\n",
    "  'orbital_period': 29.46,\n",
    "  'rings': 'yes',\n",
    "  'type': 'gas giant'},\n",
    " {'diameter': 4.007,\n",
    "  'mass': 14.6,\n",
    "  'moons': 27,\n",
    "  'name': 'Uranus',\n",
    "  'orbital_period': 84.01,\n",
    "  'rings': 'yes',\n",
    "  'type': 'ice giant'},\n",
    " {'diameter': 3.883,\n",
    "  'mass': 17.2,\n",
    "  'moons': 14,\n",
    "  'name': 'Neptune',\n",
    "  'orbital_period': 164.8,\n",
    "  'rings': 'yes',\n",
    "  'type': 'ice giant'}]"
   ]
  },
  {
   "cell_type": "markdown",
   "metadata": {},
   "source": [
    "Now, in the cell below, write a list comprehension that evaluates to a list of names of the planets that have a diameter greater than four earth radii. Expected output:\n",
    "\n",
    "    ['Jupiter', 'Saturn', 'Uranus']"
   ]
  },
  {
   "cell_type": "code",
   "execution_count": 7,
   "metadata": {
    "collapsed": false
   },
   "outputs": [
    {
     "ename": "TypeError",
     "evalue": "list indices must be integers or slices, not str",
     "output_type": "error",
     "traceback": [
      "\u001b[0;31m---------------------------------------------------------------------------\u001b[0m",
      "\u001b[0;31mTypeError\u001b[0m                                 Traceback (most recent call last)",
      "\u001b[0;32m<ipython-input-7-2021614ac028>\u001b[0m in \u001b[0;36m<module>\u001b[0;34m()\u001b[0m\n\u001b[1;32m      4\u001b[0m         \u001b[0mbig_diameter\u001b[0m\u001b[0;34m.\u001b[0m\u001b[0mappend\u001b[0m\u001b[0;34m(\u001b[0m\u001b[0mx\u001b[0m\u001b[0;34m*\u001b[0m\u001b[0;36m4\u001b[0m\u001b[0;34m)\u001b[0m\u001b[0;34m\u001b[0m\u001b[0m\n\u001b[1;32m      5\u001b[0m \u001b[0;34m\u001b[0m\u001b[0m\n\u001b[0;32m----> 6\u001b[0;31m \u001b[0mplanets\u001b[0m\u001b[0;34m[\u001b[0m\u001b[0;34m'name'\u001b[0m\u001b[0;34m]\u001b[0m\u001b[0;34m\u001b[0m\u001b[0m\n\u001b[0m",
      "\u001b[0;31mTypeError\u001b[0m: list indices must be integers or slices, not str"
     ]
    }
   ],
   "source": [
    "big_diameter = []\n",
    "for diameter in range(10):\n",
    "    if diameter * 4 > 1.00:\n",
    "        big_diameter.append(x*4)\n",
    "        \n",
    "planets['name']"
   ]
  },
  {
   "cell_type": "markdown",
   "metadata": {},
   "source": [
    "In the cell below, write a single expression that evaluates to the sum of the mass of all planets in the solar system. Expected output: `446.79`"
   ]
  },
  {
   "cell_type": "code",
   "execution_count": 10,
   "metadata": {
    "collapsed": false
   },
   "outputs": [],
   "source": [
    "mass = \"0.06,0.82,1.00,0.11,317.8,95.2,14.6,17.2\" "
   ]
  },
  {
   "cell_type": "code",
   "execution_count": 14,
   "metadata": {
    "collapsed": false
   },
   "outputs": [
    {
     "ename": "ValueError",
     "evalue": "invalid literal for int() with base 10: '0.06,0.82,1.00,0.11,317.8,95.2,14.6,17.2'",
     "output_type": "error",
     "traceback": [
      "\u001b[0;31m---------------------------------------------------------------------------\u001b[0m",
      "\u001b[0;31mValueError\u001b[0m                                Traceback (most recent call last)",
      "\u001b[0;32m<ipython-input-14-e64b3899ce59>\u001b[0m in \u001b[0;36m<module>\u001b[0;34m()\u001b[0m\n\u001b[1;32m      5\u001b[0m \u001b[0mtype\u001b[0m\u001b[0;34m(\u001b[0m\u001b[0mconverted\u001b[0m\u001b[0;34m)\u001b[0m\u001b[0;34m\u001b[0m\u001b[0m\n\u001b[1;32m      6\u001b[0m \u001b[0;34m\u001b[0m\u001b[0m\n\u001b[0;32m----> 7\u001b[0;31m \u001b[0mint\u001b[0m\u001b[0;34m(\u001b[0m\u001b[0mmass\u001b[0m\u001b[0;34m)\u001b[0m\u001b[0;34m\u001b[0m\u001b[0m\n\u001b[0m\u001b[1;32m      8\u001b[0m \u001b[0;34m\u001b[0m\u001b[0m\n\u001b[1;32m      9\u001b[0m \u001b[0;34m[\u001b[0m\u001b[0mint\u001b[0m\u001b[0;34m(\u001b[0m\u001b[0mmass\u001b[0m\u001b[0;34m)\u001b[0m \u001b[0;32mfor\u001b[0m \u001b[0mmasses\u001b[0m \u001b[0;32min\u001b[0m \u001b[0mmass\u001b[0m\u001b[0;34m]\u001b[0m\u001b[0;34m\u001b[0m\u001b[0m\n",
      "\u001b[0;31mValueError\u001b[0m: invalid literal for int() with base 10: '0.06,0.82,1.00,0.11,317.8,95.2,14.6,17.2'"
     ]
    }
   ],
   "source": [
    "srcstr = \"1237\"\n",
    "type(srcstr)\n",
    "\n",
    "converted = int(srcstr)\n",
    "type(converted)\n",
    "\n",
    "int(mass)\n",
    "\n",
    "[int(mass) for masses in mass]\n",
    "\n",
    "num_mass = [int(mass) for masses in mass]\n",
    "num_mass\n",
    "\n",
    "sum(mass)"
   ]
  },
  {
   "cell_type": "markdown",
   "metadata": {},
   "source": [
    "Good work. Last one with the planets. Write an expression that evaluates to the names of the planets that have the word `giant` anywhere in the value for their `type` key. Expected output:\n",
    "\n",
    "    ['Jupiter', 'Saturn', 'Uranus', 'Neptune']"
   ]
  },
  {
   "cell_type": "code",
   "execution_count": 18,
   "metadata": {
    "collapsed": false
   },
   "outputs": [
    {
     "ename": "TypeError",
     "evalue": "expected string or bytes-like object",
     "output_type": "error",
     "traceback": [
      "\u001b[0;31m---------------------------------------------------------------------------\u001b[0m",
      "\u001b[0;31mTypeError\u001b[0m                                 Traceback (most recent call last)",
      "\u001b[0;32m<ipython-input-18-a4fae6f467a9>\u001b[0m in \u001b[0;36m<module>\u001b[0;34m()\u001b[0m\n\u001b[1;32m      1\u001b[0m \u001b[0;32mimport\u001b[0m \u001b[0mre\u001b[0m\u001b[0;34m\u001b[0m\u001b[0m\n\u001b[0;32m----> 2\u001b[0;31m \u001b[0;34m[\u001b[0m\u001b[0mline\u001b[0m \u001b[0;32mfor\u001b[0m \u001b[0mline\u001b[0m \u001b[0;32min\u001b[0m \u001b[0mplanets\u001b[0m \u001b[0;32mif\u001b[0m \u001b[0mre\u001b[0m\u001b[0;34m.\u001b[0m\u001b[0msearch\u001b[0m\u001b[0;34m(\u001b[0m\u001b[0;34mr\"\\bgiant\\b\"\u001b[0m\u001b[0;34m,\u001b[0m \u001b[0mline\u001b[0m\u001b[0;34m)\u001b[0m\u001b[0;34m]\u001b[0m\u001b[0;34m\u001b[0m\u001b[0m\n\u001b[0m",
      "\u001b[0;32m<ipython-input-18-a4fae6f467a9>\u001b[0m in \u001b[0;36m<listcomp>\u001b[0;34m(.0)\u001b[0m\n\u001b[1;32m      1\u001b[0m \u001b[0;32mimport\u001b[0m \u001b[0mre\u001b[0m\u001b[0;34m\u001b[0m\u001b[0m\n\u001b[0;32m----> 2\u001b[0;31m \u001b[0;34m[\u001b[0m\u001b[0mline\u001b[0m \u001b[0;32mfor\u001b[0m \u001b[0mline\u001b[0m \u001b[0;32min\u001b[0m \u001b[0mplanets\u001b[0m \u001b[0;32mif\u001b[0m \u001b[0mre\u001b[0m\u001b[0;34m.\u001b[0m\u001b[0msearch\u001b[0m\u001b[0;34m(\u001b[0m\u001b[0;34mr\"\\bgiant\\b\"\u001b[0m\u001b[0;34m,\u001b[0m \u001b[0mline\u001b[0m\u001b[0;34m)\u001b[0m\u001b[0;34m]\u001b[0m\u001b[0;34m\u001b[0m\u001b[0m\n\u001b[0m",
      "\u001b[0;32m/usr/local/Cellar/python3/3.5.1/Frameworks/Python.framework/Versions/3.5/lib/python3.5/re.py\u001b[0m in \u001b[0;36msearch\u001b[0;34m(pattern, string, flags)\u001b[0m\n\u001b[1;32m    171\u001b[0m     \"\"\"Scan through string looking for a match to the pattern, returning\n\u001b[1;32m    172\u001b[0m     a match object, or None if no match was found.\"\"\"\n\u001b[0;32m--> 173\u001b[0;31m     \u001b[0;32mreturn\u001b[0m \u001b[0m_compile\u001b[0m\u001b[0;34m(\u001b[0m\u001b[0mpattern\u001b[0m\u001b[0;34m,\u001b[0m \u001b[0mflags\u001b[0m\u001b[0;34m)\u001b[0m\u001b[0;34m.\u001b[0m\u001b[0msearch\u001b[0m\u001b[0;34m(\u001b[0m\u001b[0mstring\u001b[0m\u001b[0;34m)\u001b[0m\u001b[0;34m\u001b[0m\u001b[0m\n\u001b[0m\u001b[1;32m    174\u001b[0m \u001b[0;34m\u001b[0m\u001b[0m\n\u001b[1;32m    175\u001b[0m \u001b[0;32mdef\u001b[0m \u001b[0msub\u001b[0m\u001b[0;34m(\u001b[0m\u001b[0mpattern\u001b[0m\u001b[0;34m,\u001b[0m \u001b[0mrepl\u001b[0m\u001b[0;34m,\u001b[0m \u001b[0mstring\u001b[0m\u001b[0;34m,\u001b[0m \u001b[0mcount\u001b[0m\u001b[0;34m=\u001b[0m\u001b[0;36m0\u001b[0m\u001b[0;34m,\u001b[0m \u001b[0mflags\u001b[0m\u001b[0;34m=\u001b[0m\u001b[0;36m0\u001b[0m\u001b[0;34m)\u001b[0m\u001b[0;34m:\u001b[0m\u001b[0;34m\u001b[0m\u001b[0m\n",
      "\u001b[0;31mTypeError\u001b[0m: expected string or bytes-like object"
     ]
    }
   ],
   "source": [
    "import re \n",
    "[line for line in planets if re.search(r\"\\bgiant\\b\", line)]"
   ]
  },
  {
   "cell_type": "markdown",
   "metadata": {},
   "source": [
    "*EXTREME BONUS ROUND*: Write an expression below that evaluates to a list of the names of the planets in ascending order by their number of moons. (The easiest way to do this involves using the [`key` parameter of the `sorted` function](https://docs.python.org/3.5/library/functions.html#sorted), which we haven't yet discussed in class! That's why this is an EXTREME BONUS question.) Expected output:\n",
    "\n",
    "    ['Mercury', 'Venus', 'Earth', 'Mars', 'Neptune', 'Uranus', 'Saturn', 'Jupiter']"
   ]
  },
  {
   "cell_type": "code",
   "execution_count": null,
   "metadata": {
    "collapsed": false,
    "scrolled": true
   },
   "outputs": [],
   "source": []
  },
  {
   "cell_type": "markdown",
   "metadata": {},
   "source": [
    "## Problem set #3: Regular expressions"
   ]
  },
  {
   "cell_type": "markdown",
   "metadata": {},
   "source": [
    "In the following section, we're going to do a bit of digital humanities. (I guess this could also be journalism if you were... writing an investigative piece about... early 20th century American poetry?) We'll be working with the following text, Robert Frost's *The Road Not Taken*. Make sure to run the following cell before you proceed."
   ]
  },
  {
   "cell_type": "code",
   "execution_count": 19,
   "metadata": {
    "collapsed": true
   },
   "outputs": [],
   "source": [
    "import re\n",
    "poem_lines = ['Two roads diverged in a yellow wood,',\n",
    " 'And sorry I could not travel both',\n",
    " 'And be one traveler, long I stood',\n",
    " 'And looked down one as far as I could',\n",
    " 'To where it bent in the undergrowth;',\n",
    " '',\n",
    " 'Then took the other, as just as fair,',\n",
    " 'And having perhaps the better claim,',\n",
    " 'Because it was grassy and wanted wear;',\n",
    " 'Though as for that the passing there',\n",
    " 'Had worn them really about the same,',\n",
    " '',\n",
    " 'And both that morning equally lay',\n",
    " 'In leaves no step had trodden black.',\n",
    " 'Oh, I kept the first for another day!',\n",
    " 'Yet knowing how way leads on to way,',\n",
    " 'I doubted if I should ever come back.',\n",
    " '',\n",
    " 'I shall be telling this with a sigh',\n",
    " 'Somewhere ages and ages hence:',\n",
    " 'Two roads diverged in a wood, and I---',\n",
    " 'I took the one less travelled by,',\n",
    " 'And that has made all the difference.']"
   ]
  },
  {
   "cell_type": "markdown",
   "metadata": {},
   "source": [
    "In the cell above, I defined a variable `poem_lines` which has a list of lines in the poem, and `import`ed the `re` library.\n",
    "\n",
    "In the cell below, write a list comprehension (using `re.search()`) that evaluates to a list of lines that contain two words next to each other (separated by a space) that have exactly four characters. (Hint: use the `\\b` anchor. Don't overthink the \"two words in a row\" requirement.)\n",
    "\n",
    "Expected result:\n",
    "\n",
    "```\n",
    "['Then took the other, as just as fair,',\n",
    " 'Had worn them really about the same,',\n",
    " 'And both that morning equally lay',\n",
    " 'I doubted if I should ever come back.',\n",
    " 'I shall be telling this with a sigh']\n",
    "```"
   ]
  },
  {
   "cell_type": "code",
   "execution_count": 21,
   "metadata": {
    "collapsed": false
   },
   "outputs": [
    {
     "data": {
      "text/plain": [
       "['Then took the other, as just as fair,',\n",
       " 'Had worn them really about the same,',\n",
       " 'And both that morning equally lay',\n",
       " 'I doubted if I should ever come back.',\n",
       " 'I shall be telling this with a sigh']"
      ]
     },
     "execution_count": 21,
     "metadata": {},
     "output_type": "execute_result"
    }
   ],
   "source": [
    "[line for line in poem_lines if re.search(r\"\\b\\w\\w\\w\\w\\s\\w\\w\\w\\w\\b\", line)]"
   ]
  },
  {
   "cell_type": "markdown",
   "metadata": {},
   "source": [
    "Good! Now, in the following cell, write a list comprehension that evaluates to a list of lines in the poem that end with a five-letter word, regardless of whether or not there is punctuation following the word at the end of the line. (Hint: Try using the `?` quantifier. Is there an existing character class, or a way to *write* a character class, that matches non-alphanumeric characters?) Expected output:\n",
    "\n",
    "```\n",
    "['And be one traveler, long I stood',\n",
    " 'And looked down one as far as I could',\n",
    " 'And having perhaps the better claim,',\n",
    " 'Though as for that the passing there',\n",
    " 'In leaves no step had trodden black.',\n",
    " 'Somewhere ages and ages hence:']\n",
    "```"
   ]
  },
  {
   "cell_type": "code",
   "execution_count": 33,
   "metadata": {
    "collapsed": false
   },
   "outputs": [
    {
     "data": {
      "text/plain": [
       "['And be one traveler, long I stood',\n",
       " 'And looked down one as far as I could',\n",
       " 'Though as for that the passing there']"
      ]
     },
     "execution_count": 33,
     "metadata": {},
     "output_type": "execute_result"
    }
   ],
   "source": [
    "[line for line in poem_lines if re.search(r\"\\b(?:\\w\\w\\w\\w\\w$)\\b\", line)]\n",
    "                                        "
   ]
  },
  {
   "cell_type": "markdown",
   "metadata": {},
   "source": [
    "Okay, now a slightly trickier one. In the cell below, I've created a string `all_lines` which evaluates to the entire text of the poem in one string. Execute this cell."
   ]
  },
  {
   "cell_type": "code",
   "execution_count": 34,
   "metadata": {
    "collapsed": true
   },
   "outputs": [],
   "source": [
    "all_lines = \" \".join(poem_lines)"
   ]
  },
  {
   "cell_type": "markdown",
   "metadata": {},
   "source": [
    "Now, write an expression that evaluates to all of the words in the poem that follow the word 'I'. (The strings in the resulting list should *not* include the `I`.) Hint: Use `re.findall()` and grouping! Expected output:\n",
    "\n",
    "    ['could', 'stood', 'could', 'kept', 'doubted', 'should', 'shall', 'took']"
   ]
  },
  {
   "cell_type": "code",
   "execution_count": 40,
   "metadata": {
    "collapsed": false
   },
   "outputs": [
    {
     "data": {
      "text/plain": [
       "['could', 'stood', 'could', 'kept', 'doubted', 'should', 'shall', 'took']"
      ]
     },
     "execution_count": 40,
     "metadata": {},
     "output_type": "execute_result"
    }
   ],
   "source": [
    "re.findall(r\"I (\\b\\w+\\b)\", all_lines)"
   ]
  },
  {
   "cell_type": "markdown",
   "metadata": {},
   "source": [
    "Finally, something super tricky. Here's a list of strings that contains a restaurant menu. Your job is to wrangle this plain text, slightly-structured data into a list of dictionaries."
   ]
  },
  {
   "cell_type": "code",
   "execution_count": 43,
   "metadata": {
    "collapsed": true
   },
   "outputs": [],
   "source": [
    "entrees = [\n",
    "    \"Yam, Rosemary and Chicken Bowl with Hot Sauce $10.95\",\n",
    "    \"Lavender and Pepperoni Sandwich $8.49\",\n",
    "    \"Water Chestnuts and Peas Power Lunch (with mayonnaise) $12.95 - v\",\n",
    "    \"Artichoke, Mustard Green and Arugula with Sesame Oil over noodles $9.95 - v\",\n",
    "    \"Flank Steak with Lentils And Tabasco Pepper With Sweet Chilli Sauce $19.95\",\n",
    "    \"Rutabaga And Cucumber Wrap $8.49 - v\"\n",
    "]"
   ]
  },
  {
   "cell_type": "markdown",
   "metadata": {},
   "source": [
    "You'll need to pull out the name of the dish and the price of the dish. The `v` after the hyphen indicates that the dish is vegetarian---you'll need to include that information in your dictionary as well. I've included the basic framework; you just need to fill in the contents of the `for` loop.\n",
    "\n",
    "Expected output:\n",
    "\n",
    "```\n",
    "[{'name': 'Yam, Rosemary and Chicken Bowl with Hot Sauce ',\n",
    "  'price': 10.95,\n",
    "  'vegetarian': False},\n",
    " {'name': 'Lavender and Pepperoni Sandwich ',\n",
    "  'price': 8.49,\n",
    "  'vegetarian': False},\n",
    " {'name': 'Water Chestnuts and Peas Power Lunch (with mayonnaise) ',\n",
    "  'price': 12.95,\n",
    "  'vegetarian': True},\n",
    " {'name': 'Artichoke, Mustard Green and Arugula with Sesame Oil over noodles ',\n",
    "  'price': 9.95,\n",
    "  'vegetarian': True},\n",
    " {'name': 'Flank Steak with Lentils And Tabasco Pepper With Sweet Chilli Sauce ',\n",
    "  'price': 19.95,\n",
    "  'vegetarian': False},\n",
    " {'name': 'Rutabaga And Cucumber Wrap ', 'price': 8.49, 'vegetarian': True}]\n",
    "```"
   ]
  },
  {
   "cell_type": "code",
   "execution_count": 52,
   "metadata": {
    "collapsed": false
   },
   "outputs": [
    {
     "ename": "AttributeError",
     "evalue": "'NoneType' object has no attribute 'group'",
     "output_type": "error",
     "traceback": [
      "\u001b[0;31m---------------------------------------------------------------------------\u001b[0m",
      "\u001b[0;31mAttributeError\u001b[0m                            Traceback (most recent call last)",
      "\u001b[0;32m<ipython-input-52-8770109b5236>\u001b[0m in \u001b[0;36m<module>\u001b[0;34m()\u001b[0m\n\u001b[1;32m      2\u001b[0m \u001b[0;32mfor\u001b[0m \u001b[0mitem\u001b[0m \u001b[0;32min\u001b[0m \u001b[0mentrees\u001b[0m\u001b[0;34m:\u001b[0m\u001b[0;34m\u001b[0m\u001b[0m\n\u001b[1;32m      3\u001b[0m     \u001b[0mmatch\u001b[0m \u001b[0;34m=\u001b[0m \u001b[0mre\u001b[0m\u001b[0;34m.\u001b[0m\u001b[0msearch\u001b[0m\u001b[0;34m(\u001b[0m\u001b[0;34mr\"^(\\b\\w+\\b) (\\d+): (\\b[v]\\b)$\"\u001b[0m\u001b[0;34m,\u001b[0m \u001b[0mitem\u001b[0m\u001b[0;34m)\u001b[0m\u001b[0;34m\u001b[0m\u001b[0m\n\u001b[0;32m----> 4\u001b[0;31m     \u001b[0mprint\u001b[0m\u001b[0;34m(\u001b[0m\u001b[0mmatch\u001b[0m\u001b[0;34m.\u001b[0m\u001b[0mgroup\u001b[0m\u001b[0;34m(\u001b[0m\u001b[0;34m)\u001b[0m\u001b[0;34m)\u001b[0m\u001b[0;34m\u001b[0m\u001b[0m\n\u001b[0m\u001b[1;32m      5\u001b[0m     \u001b[0mprint\u001b[0m\u001b[0;34m(\u001b[0m\u001b[0;34m\"name:\"\u001b[0m\u001b[0;34m,\u001b[0m \u001b[0mmatch\u001b[0m\u001b[0;34m.\u001b[0m\u001b[0mgroup\u001b[0m\u001b[0;34m(\u001b[0m\u001b[0;34m)\u001b[0m\u001b[0;34m)\u001b[0m\u001b[0;34m\u001b[0m\u001b[0m\n\u001b[1;32m      6\u001b[0m     \u001b[0mprint\u001b[0m\u001b[0;34m(\u001b[0m\u001b[0;34m\"price:\"\u001b[0m\u001b[0;34m,\u001b[0m \u001b[0mmatch\u001b[0m\u001b[0;34m.\u001b[0m\u001b[0mgroup\u001b[0m\u001b[0;34m(\u001b[0m\u001b[0;34m)\u001b[0m\u001b[0;34m)\u001b[0m\u001b[0;34m\u001b[0m\u001b[0m\n",
      "\u001b[0;31mAttributeError\u001b[0m: 'NoneType' object has no attribute 'group'"
     ]
    }
   ],
   "source": [
    "menu = []\n",
    "for item in entrees:\n",
    "    match = re.search(r\"^(\\w+) (\\d+): (\\b[v]\\b)$\", item)\n",
    "    print(match.group())\n",
    "    print(\"name:\", match.group())\n",
    "    print(\"price:\", match.group())\n",
    "    vegetarian = v\n",
    "    if vegetarian:\n",
    "        print(\"True\")\n",
    "    else:\n",
    "        print(\"False\")"
   ]
  },
  {
   "cell_type": "markdown",
   "metadata": {},
   "source": [
    "Great work! You are done. Go cavort in the sun, or whatever it is you students do when you're done with your homework"
   ]
  }
 ],
 "metadata": {
  "kernelspec": {
   "display_name": "Python 3",
   "language": "python",
   "name": "python3"
  },
  "language_info": {
   "codemirror_mode": {
    "name": "ipython",
    "version": 3
   },
   "file_extension": ".py",
   "mimetype": "text/x-python",
   "name": "python",
   "nbconvert_exporter": "python",
   "pygments_lexer": "ipython3",
   "version": "3.5.1"
  }
 },
 "nbformat": 4,
 "nbformat_minor": 0
}
