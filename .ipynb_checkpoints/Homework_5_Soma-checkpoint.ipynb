{
 "cells": [
  {
   "cell_type": "markdown",
   "metadata": {},
   "source": [
    "# 1) With \"Lil Wayne\" and \"Lil Kim\" there are a lot of \"Lil\" musicians. Do a search and print a list of 50 that are playable in the USA (or the country of your choice), along with their popularity score."
   ]
  },
  {
   "cell_type": "code",
   "execution_count": 3,
   "metadata": {
    "collapsed": false
   },
   "outputs": [
    {
     "name": "stdout",
     "output_type": "stream",
     "text": [
      "Collecting requests\n",
      "  Using cached requests-2.10.0-py2.py3-none-any.whl\n",
      "Installing collected packages: requests\n",
      "Successfully installed requests-2.10.0\n",
      "Lil Wayne 86 ['dirty south rap', 'pop rap', 'southern hip hop', 'trap music']\n",
      "Lil Yachty 72 []\n",
      "Lil Uzi Vert 73 []\n",
      "Lil Dicky 68 []\n",
      "Boosie Badazz 67 []\n",
      "Lil Jon 72 ['crunk', 'dirty south rap', 'southern hip hop']\n",
      "King Lil G 61 []\n",
      "Lil Durk 60 []\n",
      "Lil Jon & The East Side Boyz 60 []\n",
      "Lil Bibby 54 []\n",
      "G Herbo 53 []\n",
      "Lil Rob 50 ['chicano rap', 'latin hip hop']\n",
      "Lil Reese 50 []\n",
      "Lil Keke 48 []\n",
      "Bow Wow 57 ['hip pop', 'pop rap']\n",
      "Lil Scrappy 48 ['crunk', 'dirty south rap', 'southern hip hop', 'trap music']\n",
      "Lil Wyte 50 ['juggalo']\n",
      "Lil Blood 45 []\n",
      "Lil Snupe 45 []\n",
      "Lil Mama 45 ['hip pop']\n",
      "Lil B 44 []\n",
      "Lil' Kim 62 ['hip pop']\n",
      "Lil Cuete 40 ['chicano rap']\n",
      "Lil Phat 39 []\n",
      "Lil Debbie 43 []\n",
      "Lil Twist 39 ['jerk']\n",
      "Lil Trill 37 ['deep trap']\n",
      "Lil Boom 39 []\n",
      "Lil Twon 37 []\n",
      "Lil AJ 37 []\n",
      "Lil Lonnie 37 []\n",
      "Lil Goofy 35 []\n",
      "Lil Haiti 36 []\n",
      "Mr. Lil One 36 ['chicano rap']\n",
      "Lil Cray 35 []\n",
      "Lil Flash 38 []\n",
      "Lil Silva 43 []\n",
      "Lil Kesh 39 []\n",
      "Lil Rue 34 []\n",
      "Lil Yase 34 []\n",
      "Lil Eddie 41 []\n",
      "Lil Wayne, DJ Drama 35 []\n",
      "Lil Suzy 34 ['freestyle']\n",
      "Lil Mouse 34 []\n",
      "Lil C 33 []\n",
      "Lil Rick 39 ['soca']\n",
      "Lil June 32 []\n",
      "Lil E 34 []\n",
      "Lil Fate 34 []\n",
      "Lil' Flip 49 ['crunk', 'dirty south rap']\n"
     ]
    }
   ],
   "source": [
    "!pip3 install requests\n",
    "import requests\n",
    "response = requests.get('https://api.spotify.com/v1/search?query=Lil+&offset=0&limit=50&type=artist&market=US')\n",
    "data = response.json()\n",
    "data.keys()\n",
    "artist_data = data['artists']['items']\n",
    "for artist in artist_data:\n",
    "    print(artist['name'], artist['popularity'], artist['genres']) "
   ]
  },
  {
   "cell_type": "markdown",
   "metadata": {},
   "source": [
    "# 2) What genres are most represented in the search results? Edit your previous printout to also display a list of their genres in the format \"GENRE_1, GENRE_2, GENRE_3\". If there are no genres, print \"No genres listed\"."
   ]
  },
  {
   "cell_type": "code",
   "execution_count": 2,
   "metadata": {
    "collapsed": false
   },
   "outputs": [
    {
     "name": "stdout",
     "output_type": "stream",
     "text": [
      "['dirty south rap', 'pop rap', 'southern hip hop', 'trap music', 'crunk', 'dirty south rap', 'southern hip hop', 'chicano rap', 'latin hip hop', 'hip pop', 'pop rap', 'crunk', 'dirty south rap', 'southern hip hop', 'trap music', 'juggalo', 'hip pop', 'hip pop', 'chicano rap', 'jerk', 'deep trap', 'chicano rap', 'freestyle', 'soca', 'crunk', 'dirty south rap']\n",
      "['crunk', 'dirty south rap']\n",
      "['crunk', 'dirty south rap']\n"
     ]
    }
   ],
   "source": [
    "genre_list = []\n",
    "for artist in artist_data:\n",
    "    for genre in artist['genres']:\n",
    "        genre_list.append(genre)\n",
    "print(genre_list)\n",
    "genre_count = 0\n",
    "for genre in artist['genres']: \n",
    "    if True:\n",
    "        genre_count = genre_count + 1\n",
    "        print(artist['genres'])\n",
    "    else:\n",
    "        print(\"No genres listed\")\n",
    "        "
   ]
  },
  {
   "cell_type": "code",
   "execution_count": 4,
   "metadata": {
    "collapsed": false
   },
   "outputs": [
    {
     "name": "stdout",
     "output_type": "stream",
     "text": [
      "Lil Wayne 86\n",
      "Genre list:  dirty south rap, pop rap, southern hip hop, trap music\n",
      "Lil Yachty 72\n",
      "No genres listed\n",
      "Lil Uzi Vert 72\n",
      "No genres listed\n",
      "Lil Dicky 68\n",
      "No genres listed\n",
      "Boosie Badazz 67\n",
      "No genres listed\n",
      "Lil Jon 72\n",
      "Genre list:  crunk, dirty south rap, southern hip hop\n",
      "King Lil G 61\n",
      "No genres listed\n",
      "Lil Durk 60\n",
      "No genres listed\n",
      "Lil Jon & The East Side Boyz 60\n",
      "No genres listed\n",
      "Lil Bibby 54\n",
      "No genres listed\n",
      "G Herbo 53\n",
      "No genres listed\n",
      "Lil Rob 50\n",
      "Genre list:  chicano rap, latin hip hop\n",
      "Lil Reese 50\n",
      "No genres listed\n",
      "Lil Keke 48\n",
      "No genres listed\n",
      "Bow Wow 57\n",
      "Genre list:  hip pop, pop rap\n",
      "Lil Scrappy 48\n",
      "Genre list:  crunk, dirty south rap, southern hip hop, trap music\n",
      "Lil Wyte 50\n",
      "Genre list:  juggalo\n",
      "Lil Blood 45\n",
      "No genres listed\n",
      "Lil Snupe 45\n",
      "No genres listed\n",
      "Lil Mama 45\n",
      "Genre list:  hip pop\n",
      "Lil B 44\n",
      "No genres listed\n",
      "Lil' Kim 62\n",
      "Genre list:  hip pop\n",
      "Lil Cuete 40\n",
      "Genre list:  chicano rap\n",
      "Lil Phat 39\n",
      "No genres listed\n",
      "Lil Debbie 43\n",
      "No genres listed\n",
      "Lil Twist 39\n",
      "Genre list:  jerk\n",
      "Lil Trill 37\n",
      "Genre list:  deep trap\n",
      "Lil Twon 38\n",
      "No genres listed\n",
      "Lil AJ 37\n",
      "No genres listed\n",
      "Lil Lonnie 37\n",
      "No genres listed\n",
      "Lil Boom 35\n",
      "No genres listed\n",
      "Lil Goofy 35\n",
      "No genres listed\n",
      "Mr. Lil One 36\n",
      "Genre list:  chicano rap\n",
      "Lil Haiti 36\n",
      "No genres listed\n",
      "Lil Flash 38\n",
      "No genres listed\n",
      "Lil Kesh 39\n",
      "No genres listed\n",
      "Lil Cray 35\n",
      "No genres listed\n",
      "Lil Silva 43\n",
      "No genres listed\n",
      "Lil Rue 34\n",
      "No genres listed\n",
      "Lil Eddie 41\n",
      "No genres listed\n",
      "Lil Yase 33\n",
      "No genres listed\n",
      "Lil Wayne, DJ Drama 35\n",
      "No genres listed\n",
      "Lil Suzy 34\n",
      "Genre list:  freestyle\n",
      "Lil Mouse 34\n",
      "No genres listed\n",
      "Lil C 33\n",
      "No genres listed\n",
      "Lil Rick 39\n",
      "Genre list:  soca\n",
      "Lil June 32\n",
      "No genres listed\n",
      "Lil E 34\n",
      "No genres listed\n",
      "Lil Fate 34\n",
      "No genres listed\n",
      "Lil' Flip 49\n",
      "Genre list:  crunk, dirty south rap\n"
     ]
    }
   ],
   "source": [
    "import requests \n",
    "response = requests.get('https://api.spotify.com/v1/search?query=Lil+&offset=0&limit=50&type=artist&market=US')\n",
    "data = response.json()\n",
    "type(data)\n",
    "data.keys()\n",
    "type(data['artists'])\n",
    "data['artists'].keys()\n",
    "artists = data['artists']['items']\n",
    "artists\n",
    "\n",
    "for artist in artists:\n",
    "    print(artist['name'], artist['popularity']) \n",
    "    if len(artist['genres']) > 0:\n",
    "        genres = \", \".join(artist['genres'])\n",
    "        print(\"Genre list: \", genres)\n",
    "    else:\n",
    "        print(\"No genres listed\")"
   ]
  },
  {
   "cell_type": "code",
   "execution_count": 4,
   "metadata": {
    "collapsed": false,
    "scrolled": true
   },
   "outputs": [
    {
     "data": {
      "text/plain": [
       "dict_keys(['artists'])"
      ]
     },
     "execution_count": 4,
     "metadata": {},
     "output_type": "execute_result"
    }
   ],
   "source": [
    "response = requests.get('https://api.spotify.com/v1/search?query=Lil+&offset=0&limit=50&type=artist&market=US')\n",
    "data = response.json()\n",
    "\n",
    "\n",
    "# genres = data['genres']\n",
    "# genre_count = 0\n",
    "# for genre in genres:\n",
    "#     print(genres['name'])\n",
    "#     g = genres + 1\n",
    "#     genre_count.append(g)\n",
    "\n",
    "data.keys()\n"
   ]
  },
  {
   "cell_type": "code",
   "execution_count": 5,
   "metadata": {
    "collapsed": false
   },
   "outputs": [
    {
     "name": "stdout",
     "output_type": "stream",
     "text": [
      "{'href': 'https://api.spotify.com/v1/search?query=Lil+&offset=0&limit=50&type=artist&market=US', 'offset': 0, 'limit': 50, 'previous': None, 'items': [{'href': 'https://api.spotify.com/v1/artists/55Aa2cqylxrFIXC767Z865', 'name': 'Lil Wayne', 'genres': ['dirty south rap', 'pop rap', 'southern hip hop', 'trap music'], 'type': 'artist', 'uri': 'spotify:artist:55Aa2cqylxrFIXC767Z865', 'images': [{'width': 1000, 'url': 'https://i.scdn.co/image/cf012139c3b8681b46a66bae70558a8a336ab231', 'height': 1239}, {'width': 640, 'url': 'https://i.scdn.co/image/fffd48d60e27901f6e9ce99423f045cb2b893944', 'height': 793}, {'width': 200, 'url': 'https://i.scdn.co/image/bf03141629c202e94b206f1374a39326a9d8c6ca', 'height': 248}, {'width': 64, 'url': 'https://i.scdn.co/image/521f99f2469883b8806a69a3a2487fdd983bd621', 'height': 79}], 'popularity': 86, 'external_urls': {'spotify': 'https://open.spotify.com/artist/55Aa2cqylxrFIXC767Z865'}, 'id': '55Aa2cqylxrFIXC767Z865', 'followers': {'href': None, 'total': 2624859}}, {'href': 'https://api.spotify.com/v1/artists/6icQOAFXDZKsumw3YXyusw', 'name': 'Lil Yachty', 'genres': [], 'type': 'artist', 'uri': 'spotify:artist:6icQOAFXDZKsumw3YXyusw', 'images': [{'width': 640, 'url': 'https://i.scdn.co/image/add25baa69fc7bfd9cfd5d87716941028c2d6736', 'height': 640}, {'width': 300, 'url': 'https://i.scdn.co/image/3f8205117bdd028a648ad3fc925f9fb46dfa26fa', 'height': 300}, {'width': 64, 'url': 'https://i.scdn.co/image/ccc54e2911dbc5463acb401ee61489e27d991408', 'height': 64}], 'popularity': 72, 'external_urls': {'spotify': 'https://open.spotify.com/artist/6icQOAFXDZKsumw3YXyusw'}, 'id': '6icQOAFXDZKsumw3YXyusw', 'followers': {'href': None, 'total': 38466}}, {'href': 'https://api.spotify.com/v1/artists/4O15NlyKLIASxsJ0PrXPfz', 'name': 'Lil Uzi Vert', 'genres': [], 'type': 'artist', 'uri': 'spotify:artist:4O15NlyKLIASxsJ0PrXPfz', 'images': [{'width': 640, 'url': 'https://i.scdn.co/image/8c02344d1cb9069a5a2a9d1e860dc88b04088549', 'height': 640}, {'width': 320, 'url': 'https://i.scdn.co/image/28ac78387ad26048ccab0b671cbaddb30a2b52da', 'height': 320}, {'width': 160, 'url': 'https://i.scdn.co/image/6b074e198860470024e57ebbc1dda9f58088c506', 'height': 160}], 'popularity': 73, 'external_urls': {'spotify': 'https://open.spotify.com/artist/4O15NlyKLIASxsJ0PrXPfz'}, 'id': '4O15NlyKLIASxsJ0PrXPfz', 'followers': {'href': None, 'total': 56236}}, {'href': 'https://api.spotify.com/v1/artists/1tqhsYv8yBBdwANFNzHtcr', 'name': 'Lil Dicky', 'genres': [], 'type': 'artist', 'uri': 'spotify:artist:1tqhsYv8yBBdwANFNzHtcr', 'images': [{'width': 1000, 'url': 'https://i.scdn.co/image/a9c000526b14038b1fe69c72b0775f125bdf08af', 'height': 1000}, {'width': 640, 'url': 'https://i.scdn.co/image/31eac6ae8bdd6909236b5fd729d17406cc794e2d', 'height': 640}, {'width': 200, 'url': 'https://i.scdn.co/image/24dcb67ddd3afc794a4b1dab4cc1a47035a0beab', 'height': 200}, {'width': 64, 'url': 'https://i.scdn.co/image/2d2ebd85f676535129dbb7c3a4bb96e7bfd940a7', 'height': 64}], 'popularity': 68, 'external_urls': {'spotify': 'https://open.spotify.com/artist/1tqhsYv8yBBdwANFNzHtcr'}, 'id': '1tqhsYv8yBBdwANFNzHtcr', 'followers': {'href': None, 'total': 225174}}, {'href': 'https://api.spotify.com/v1/artists/6z7xFFHxYkE9t8bwIF0Bvg', 'name': 'Boosie Badazz', 'genres': [], 'type': 'artist', 'uri': 'spotify:artist:6z7xFFHxYkE9t8bwIF0Bvg', 'images': [{'width': 1000, 'url': 'https://i.scdn.co/image/f89376b78fe94a1692a5768f8f3440a4397bfb17', 'height': 667}, {'width': 640, 'url': 'https://i.scdn.co/image/fbf5353d4410a540cc74285d387d9e59d038592a', 'height': 427}, {'width': 200, 'url': 'https://i.scdn.co/image/39995515de01dc9eb91bc9c17d5c1921e7e54a1f', 'height': 133}, {'width': 64, 'url': 'https://i.scdn.co/image/b34f525381a78c72f423d74b76a47e1a1da9f7f8', 'height': 43}], 'popularity': 67, 'external_urls': {'spotify': 'https://open.spotify.com/artist/6z7xFFHxYkE9t8bwIF0Bvg'}, 'id': '6z7xFFHxYkE9t8bwIF0Bvg', 'followers': {'href': None, 'total': 220335}}, {'href': 'https://api.spotify.com/v1/artists/7sfl4Xt5KmfyDs2T3SVSMK', 'name': 'Lil Jon', 'genres': ['crunk', 'dirty south rap', 'southern hip hop'], 'type': 'artist', 'uri': 'spotify:artist:7sfl4Xt5KmfyDs2T3SVSMK', 'images': [{'width': 1000, 'url': 'https://i.scdn.co/image/885941564eadf27b7ee86d089e87967f9e3cf612', 'height': 664}, {'width': 640, 'url': 'https://i.scdn.co/image/b5495566665b41f3dc2560d37d043e4a3dc2ca41', 'height': 425}, {'width': 200, 'url': 'https://i.scdn.co/image/6ea9f92a43e23eaa7ced98d8773de37229b1410d', 'height': 133}, {'width': 64, 'url': 'https://i.scdn.co/image/ddef386b560619f296a27059874ad3fc7fd5d85d', 'height': 43}], 'popularity': 72, 'external_urls': {'spotify': 'https://open.spotify.com/artist/7sfl4Xt5KmfyDs2T3SVSMK'}, 'id': '7sfl4Xt5KmfyDs2T3SVSMK', 'followers': {'href': None, 'total': 256172}}, {'href': 'https://api.spotify.com/v1/artists/6L3x3if9RVimruryD9LoFb', 'name': 'King Lil G', 'genres': [], 'type': 'artist', 'uri': 'spotify:artist:6L3x3if9RVimruryD9LoFb', 'images': [{'width': 587, 'url': 'https://i.scdn.co/image/8942e9c0745697fa8e3e75f02aa461d722a0519d', 'height': 879}, {'width': 200, 'url': 'https://i.scdn.co/image/9fa49263a60cd27888e23b6c6c10c930af48114e', 'height': 299}, {'width': 64, 'url': 'https://i.scdn.co/image/c11e5e1e9d21cee430c1bd7c72e387422854bd6a', 'height': 96}], 'popularity': 61, 'external_urls': {'spotify': 'https://open.spotify.com/artist/6L3x3if9RVimruryD9LoFb'}, 'id': '6L3x3if9RVimruryD9LoFb', 'followers': {'href': None, 'total': 64321}}, {'href': 'https://api.spotify.com/v1/artists/3hcs9uc56yIGFCSy9leWe7', 'name': 'Lil Durk', 'genres': [], 'type': 'artist', 'uri': 'spotify:artist:3hcs9uc56yIGFCSy9leWe7', 'images': [{'width': 999, 'url': 'https://i.scdn.co/image/2b83f7df57f9098558c63047c494dea26f2da67e', 'height': 426}, {'width': 640, 'url': 'https://i.scdn.co/image/42e0d88103ed677b9a6cfa426e53428127ae903d', 'height': 273}, {'width': 199, 'url': 'https://i.scdn.co/image/b127461c288b3777fd18ffcd3523856b6063ea1e', 'height': 85}, {'width': 63, 'url': 'https://i.scdn.co/image/3674b105e3a72fbb92794029846a43dc66b2fcab', 'height': 27}], 'popularity': 60, 'external_urls': {'spotify': 'https://open.spotify.com/artist/3hcs9uc56yIGFCSy9leWe7'}, 'id': '3hcs9uc56yIGFCSy9leWe7', 'followers': {'href': None, 'total': 134201}}, {'href': 'https://api.spotify.com/v1/artists/3ciRvbBIVz9fBoPbtSYq4x', 'name': 'Lil Jon & The East Side Boyz', 'genres': [], 'type': 'artist', 'uri': 'spotify:artist:3ciRvbBIVz9fBoPbtSYq4x', 'images': [{'width': 554, 'url': 'https://i.scdn.co/image/aafc4156598fa9f8f052ec5687e648ba9120f07e', 'height': 500}, {'width': 200, 'url': 'https://i.scdn.co/image/7a9ccdaebabf83f763af6664d5d483c57332bc08', 'height': 181}, {'width': 64, 'url': 'https://i.scdn.co/image/e74083480033e85373d3deb546f16d8beedeccb3', 'height': 58}], 'popularity': 60, 'external_urls': {'spotify': 'https://open.spotify.com/artist/3ciRvbBIVz9fBoPbtSYq4x'}, 'id': '3ciRvbBIVz9fBoPbtSYq4x', 'followers': {'href': None, 'total': 17066}}, {'href': 'https://api.spotify.com/v1/artists/4uSN8Y3kgFNVULUWsZEAVW', 'name': 'Lil Bibby', 'genres': [], 'type': 'artist', 'uri': 'spotify:artist:4uSN8Y3kgFNVULUWsZEAVW', 'images': [{'width': 1000, 'url': 'https://i.scdn.co/image/07c75abe717a9b704083ef38c4446abbff10fda5', 'height': 1000}, {'width': 640, 'url': 'https://i.scdn.co/image/1903fd19c7279418c71da62aa02ce47cccf63e52', 'height': 640}, {'width': 200, 'url': 'https://i.scdn.co/image/9c37f8c40ab3594de42f1861f592f558f91d0f51', 'height': 200}, {'width': 64, 'url': 'https://i.scdn.co/image/efba595d34603b014b125d65f7851103185158b4', 'height': 64}], 'popularity': 54, 'external_urls': {'spotify': 'https://open.spotify.com/artist/4uSN8Y3kgFNVULUWsZEAVW'}, 'id': '4uSN8Y3kgFNVULUWsZEAVW', 'followers': {'href': None, 'total': 44184}}, {'href': 'https://api.spotify.com/v1/artists/5QdEbQJ3ylBnc3gsIASAT5', 'name': 'G Herbo', 'genres': [], 'type': 'artist', 'uri': 'spotify:artist:5QdEbQJ3ylBnc3gsIASAT5', 'images': [{'width': 1000, 'url': 'https://i.scdn.co/image/2cb955d0b6d08e1ff70cff98b332f6debf7a8e4a', 'height': 667}, {'width': 640, 'url': 'https://i.scdn.co/image/72667af5dfd57266ba7348bbec97c246986bdbfe', 'height': 427}, {'width': 199, 'url': 'https://i.scdn.co/image/f366a759361f875f6259ef805c76e39ff3dd754c', 'height': 133}, {'width': 64, 'url': 'https://i.scdn.co/image/d7b0cd61112a7b8b6326c6454652685c1d1baa1c', 'height': 43}], 'popularity': 53, 'external_urls': {'spotify': 'https://open.spotify.com/artist/5QdEbQJ3ylBnc3gsIASAT5'}, 'id': '5QdEbQJ3ylBnc3gsIASAT5', 'followers': {'href': None, 'total': 51567}}, {'href': 'https://api.spotify.com/v1/artists/7B7TGqQe7QTVm2U6q8jzk1', 'name': 'Lil Rob', 'genres': ['chicano rap', 'latin hip hop'], 'type': 'artist', 'uri': 'spotify:artist:7B7TGqQe7QTVm2U6q8jzk1', 'images': [{'width': 640, 'url': 'https://i.scdn.co/image/7b37dc3ed21b4236502d24a897ac02aa4eb9f183', 'height': 640}, {'width': 300, 'url': 'https://i.scdn.co/image/457e18474f5cf18eae93e1435dcc5d2fb88c8efd', 'height': 300}, {'width': 64, 'url': 'https://i.scdn.co/image/8e7c25760b9b5d6dbc58ebc30443114fdfdfb927', 'height': 64}], 'popularity': 50, 'external_urls': {'spotify': 'https://open.spotify.com/artist/7B7TGqQe7QTVm2U6q8jzk1'}, 'id': '7B7TGqQe7QTVm2U6q8jzk1', 'followers': {'href': None, 'total': 35866}}, {'href': 'https://api.spotify.com/v1/artists/1bPxKZtCdjB1aj1csBJpdS', 'name': 'Lil Reese', 'genres': [], 'type': 'artist', 'uri': 'spotify:artist:1bPxKZtCdjB1aj1csBJpdS', 'images': [{'width': 640, 'url': 'https://i.scdn.co/image/c3f33bf2d8bc3e00d0d82fd9e2a11c0594079833', 'height': 640}, {'width': 300, 'url': 'https://i.scdn.co/image/6535600354e3ff225b5704ab3c9b4a4033746fb1', 'height': 300}, {'width': 64, 'url': 'https://i.scdn.co/image/ba89cf9b97304f9f07132e8bb06293170109b64b', 'height': 64}], 'popularity': 50, 'external_urls': {'spotify': 'https://open.spotify.com/artist/1bPxKZtCdjB1aj1csBJpdS'}, 'id': '1bPxKZtCdjB1aj1csBJpdS', 'followers': {'href': None, 'total': 23861}}, {'href': 'https://api.spotify.com/v1/artists/1grI9x4Uzos1Asx8JmRW6T', 'name': 'Lil Keke', 'genres': [], 'type': 'artist', 'uri': 'spotify:artist:1grI9x4Uzos1Asx8JmRW6T', 'images': [{'width': 680, 'url': 'https://i.scdn.co/image/3e53d37d29794eccb5fc9744b962df8f2c2b1725', 'height': 1024}, {'width': 640, 'url': 'https://i.scdn.co/image/82bb674230d0b08e5c82e10dfe175759581e7800', 'height': 964}, {'width': 200, 'url': 'https://i.scdn.co/image/6f26c9f3aee5c6243f2abe210ab09446df90276b', 'height': 301}, {'width': 64, 'url': 'https://i.scdn.co/image/35fd540d7448475f46e06bc0b46f2ca106899910', 'height': 96}], 'popularity': 48, 'external_urls': {'spotify': 'https://open.spotify.com/artist/1grI9x4Uzos1Asx8JmRW6T'}, 'id': '1grI9x4Uzos1Asx8JmRW6T', 'followers': {'href': None, 'total': 18774}}, {'href': 'https://api.spotify.com/v1/artists/7352aRY2mqSxBZwzUb6LmA', 'name': 'Bow Wow', 'genres': ['hip pop', 'pop rap'], 'type': 'artist', 'uri': 'spotify:artist:7352aRY2mqSxBZwzUb6LmA', 'images': [{'width': 1000, 'url': 'https://i.scdn.co/image/bbc23f477201e3784b54516ef2ad548794947277', 'height': 1500}, {'width': 640, 'url': 'https://i.scdn.co/image/4014b68d6e33d16883c70aab0972087d38e8896d', 'height': 960}, {'width': 200, 'url': 'https://i.scdn.co/image/5d3a1e94fb0fe5cf2dfb600cd7e55e8213025968', 'height': 300}, {'width': 64, 'url': 'https://i.scdn.co/image/6799537642674ef52cf0064aaef74cf04202c301', 'height': 96}], 'popularity': 57, 'external_urls': {'spotify': 'https://open.spotify.com/artist/7352aRY2mqSxBZwzUb6LmA'}, 'id': '7352aRY2mqSxBZwzUb6LmA', 'followers': {'href': None, 'total': 118594}}, {'href': 'https://api.spotify.com/v1/artists/5einkgXXrjhfYCyac1FANB', 'name': 'Lil Scrappy', 'genres': ['crunk', 'dirty south rap', 'southern hip hop', 'trap music'], 'type': 'artist', 'uri': 'spotify:artist:5einkgXXrjhfYCyac1FANB', 'images': [{'width': 225, 'url': 'https://i.scdn.co/image/722a084be153a03ca1bfb0c1e7c83bd4d37db156', 'height': 300}, {'width': 200, 'url': 'https://i.scdn.co/image/9c68dc0bb9b147bd31cb13a7b1e1d95acf481a90', 'height': 267}, {'width': 64, 'url': 'https://i.scdn.co/image/96df8040ad3c03f9471139786c4ea60f3998ca81', 'height': 85}], 'popularity': 48, 'external_urls': {'spotify': 'https://open.spotify.com/artist/5einkgXXrjhfYCyac1FANB'}, 'id': '5einkgXXrjhfYCyac1FANB', 'followers': {'href': None, 'total': 27098}}, {'href': 'https://api.spotify.com/v1/artists/21O7WwRkik43ErKppxDKJq', 'name': 'Lil Wyte', 'genres': ['juggalo'], 'type': 'artist', 'uri': 'spotify:artist:21O7WwRkik43ErKppxDKJq', 'images': [{'width': 640, 'url': 'https://i.scdn.co/image/01140761147a97db6a100c4456b531fb2d5aad82', 'height': 640}, {'width': 300, 'url': 'https://i.scdn.co/image/0925d6476f14719b5ffd005fe0091e292c95e11e', 'height': 300}, {'width': 64, 'url': 'https://i.scdn.co/image/b232b4badce8651c11907c06ed6defcfc5616854', 'height': 64}], 'popularity': 50, 'external_urls': {'spotify': 'https://open.spotify.com/artist/21O7WwRkik43ErKppxDKJq'}, 'id': '21O7WwRkik43ErKppxDKJq', 'followers': {'href': None, 'total': 31123}}, {'href': 'https://api.spotify.com/v1/artists/74nSA5FdDOuuLw7Rn5JnuP', 'name': 'Lil Blood', 'genres': [], 'type': 'artist', 'uri': 'spotify:artist:74nSA5FdDOuuLw7Rn5JnuP', 'images': [{'width': 640, 'url': 'https://i.scdn.co/image/fc222056c3c65e02c96c3e94847a74ba7920757e', 'height': 640}, {'width': 300, 'url': 'https://i.scdn.co/image/052a2ef46226fa25801224fd676ba4abbb7da15a', 'height': 300}, {'width': 64, 'url': 'https://i.scdn.co/image/b3a4a57f6da39a5af2b2c56479819754caa51d35', 'height': 64}], 'popularity': 45, 'external_urls': {'spotify': 'https://open.spotify.com/artist/74nSA5FdDOuuLw7Rn5JnuP'}, 'id': '74nSA5FdDOuuLw7Rn5JnuP', 'followers': {'href': None, 'total': 5533}}, {'href': 'https://api.spotify.com/v1/artists/42FaEHFfyxTdZQ5W28dXnj', 'name': 'Lil Snupe', 'genres': [], 'type': 'artist', 'uri': 'spotify:artist:42FaEHFfyxTdZQ5W28dXnj', 'images': [{'width': 640, 'url': 'https://i.scdn.co/image/89c1a0ac4f8b95c843d633493bc3657a296e3e6b', 'height': 640}, {'width': 300, 'url': 'https://i.scdn.co/image/59654d32b34cfb51000ff26fec57ab36bf1781ae', 'height': 300}, {'width': 64, 'url': 'https://i.scdn.co/image/b3afd3776d6e3e6ed82d45b4541e8623389e347b', 'height': 64}], 'popularity': 45, 'external_urls': {'spotify': 'https://open.spotify.com/artist/42FaEHFfyxTdZQ5W28dXnj'}, 'id': '42FaEHFfyxTdZQ5W28dXnj', 'followers': {'href': None, 'total': 34025}}, {'href': 'https://api.spotify.com/v1/artists/5qK5bOC6wLtuLhG5KvU17c', 'name': 'Lil Mama', 'genres': ['hip pop'], 'type': 'artist', 'uri': 'spotify:artist:5qK5bOC6wLtuLhG5KvU17c', 'images': [{'width': 600, 'url': 'https://i.scdn.co/image/8e33c09ff1d5d91ea47254a389c36f626775275a', 'height': 750}, {'width': 200, 'url': 'https://i.scdn.co/image/991889a4147550d0421dfb80621c2e161ac7e043', 'height': 250}, {'width': 64, 'url': 'https://i.scdn.co/image/253d651a020406eb7c264304803463badabfe8cb', 'height': 80}], 'popularity': 45, 'external_urls': {'spotify': 'https://open.spotify.com/artist/5qK5bOC6wLtuLhG5KvU17c'}, 'id': '5qK5bOC6wLtuLhG5KvU17c', 'followers': {'href': None, 'total': 21122}}, {'href': 'https://api.spotify.com/v1/artists/4dqh62yIzDBmrMeBOLiP5F', 'name': 'Lil B', 'genres': [], 'type': 'artist', 'uri': 'spotify:artist:4dqh62yIzDBmrMeBOLiP5F', 'images': [{'width': 640, 'url': 'https://i.scdn.co/image/5fbeb835c159b8de635ef8f5c6cc002ce138aec2', 'height': 640}, {'width': 300, 'url': 'https://i.scdn.co/image/3002b77643ae099b657a5eca5f99a79ca064b2f7', 'height': 300}, {'width': 64, 'url': 'https://i.scdn.co/image/73507e320c68d9890524a15f2eca9390a9fec455', 'height': 64}], 'popularity': 44, 'external_urls': {'spotify': 'https://open.spotify.com/artist/4dqh62yIzDBmrMeBOLiP5F'}, 'id': '4dqh62yIzDBmrMeBOLiP5F', 'followers': {'href': None, 'total': 231}}, {'href': 'https://api.spotify.com/v1/artists/5tth2a3v0sWwV1C7bApBdX', 'name': \"Lil' Kim\", 'genres': ['hip pop'], 'type': 'artist', 'uri': 'spotify:artist:5tth2a3v0sWwV1C7bApBdX', 'images': [{'width': 1000, 'url': 'https://i.scdn.co/image/86a3e71ffa1706d337405150ec3bb7b4e246db7b', 'height': 667}, {'width': 640, 'url': 'https://i.scdn.co/image/aa469a2c66d8e71308dbfb3efdb116be37ccdcaa', 'height': 427}, {'width': 200, 'url': 'https://i.scdn.co/image/a0e5359dc08b113b293b9d46715dea3ade289ba0', 'height': 133}, {'width': 64, 'url': 'https://i.scdn.co/image/74c219f600ec1d671430515820392104a64be811', 'height': 43}], 'popularity': 62, 'external_urls': {'spotify': 'https://open.spotify.com/artist/5tth2a3v0sWwV1C7bApBdX'}, 'id': '5tth2a3v0sWwV1C7bApBdX', 'followers': {'href': None, 'total': 70279}}, {'href': 'https://api.spotify.com/v1/artists/1I5u5Umau1AgHl0ZbPL1oR', 'name': 'Lil Cuete', 'genres': ['chicano rap'], 'type': 'artist', 'uri': 'spotify:artist:1I5u5Umau1AgHl0ZbPL1oR', 'images': [{'width': 640, 'url': 'https://i.scdn.co/image/9a690f19d1f22f37c2d8ea2269d5d13c227059c7', 'height': 640}, {'width': 300, 'url': 'https://i.scdn.co/image/8a8413a32bf7407d8e3c7705fb24db7b817d7804', 'height': 300}, {'width': 64, 'url': 'https://i.scdn.co/image/06ce7932e56c32475af8927bfffcce0d76475be8', 'height': 64}], 'popularity': 40, 'external_urls': {'spotify': 'https://open.spotify.com/artist/1I5u5Umau1AgHl0ZbPL1oR'}, 'id': '1I5u5Umau1AgHl0ZbPL1oR', 'followers': {'href': None, 'total': 15591}}, {'href': 'https://api.spotify.com/v1/artists/3QnIBUOS4mUzs67rZ8r4c9', 'name': 'Lil Phat', 'genres': [], 'type': 'artist', 'uri': 'spotify:artist:3QnIBUOS4mUzs67rZ8r4c9', 'images': [{'width': 640, 'url': 'https://i.scdn.co/image/e67d6752b4bc97f8e62e3bad2020d1a771543329', 'height': 640}, {'width': 300, 'url': 'https://i.scdn.co/image/252344a7a2903b910fe462fb1d03e4050182d7ad', 'height': 300}, {'width': 64, 'url': 'https://i.scdn.co/image/4481d09538ecb2554f01dec59f05dd050d1b03b9', 'height': 64}], 'popularity': 39, 'external_urls': {'spotify': 'https://open.spotify.com/artist/3QnIBUOS4mUzs67rZ8r4c9'}, 'id': '3QnIBUOS4mUzs67rZ8r4c9', 'followers': {'href': None, 'total': 5344}}, {'href': 'https://api.spotify.com/v1/artists/3FNZcjyqT7F5upP99JV0oN', 'name': 'Lil Debbie', 'genres': [], 'type': 'artist', 'uri': 'spotify:artist:3FNZcjyqT7F5upP99JV0oN', 'images': [{'width': 640, 'url': 'https://i.scdn.co/image/f7a2070d4432472565f88e4d8e25f61de58bfde9', 'height': 640}, {'width': 300, 'url': 'https://i.scdn.co/image/97e0127d38fd5f0b2e9c5fd593a42148f26ee8c7', 'height': 300}, {'width': 64, 'url': 'https://i.scdn.co/image/c8c722d37914c9bd4f1b1af5b1c0e152e3e74c19', 'height': 64}], 'popularity': 43, 'external_urls': {'spotify': 'https://open.spotify.com/artist/3FNZcjyqT7F5upP99JV0oN'}, 'id': '3FNZcjyqT7F5upP99JV0oN', 'followers': {'href': None, 'total': 14533}}, {'href': 'https://api.spotify.com/v1/artists/564gvOqSRcQoYAhaBpTiK2', 'name': 'Lil Twist', 'genres': ['jerk'], 'type': 'artist', 'uri': 'spotify:artist:564gvOqSRcQoYAhaBpTiK2', 'images': [{'width': 640, 'url': 'https://i.scdn.co/image/5280b8361231a8275ef9aeaa4e4d9a7701790eb5', 'height': 640}, {'width': 300, 'url': 'https://i.scdn.co/image/112c7e13cf136d3389ac4e2568af3cb1a02285b7', 'height': 300}, {'width': 64, 'url': 'https://i.scdn.co/image/0c0031c220e6536650161d837192c64168690d86', 'height': 64}], 'popularity': 39, 'external_urls': {'spotify': 'https://open.spotify.com/artist/564gvOqSRcQoYAhaBpTiK2'}, 'id': '564gvOqSRcQoYAhaBpTiK2', 'followers': {'href': None, 'total': 14834}}, {'href': 'https://api.spotify.com/v1/artists/5EQERGi7ffHvHsv3bnqzBn', 'name': 'Lil Trill', 'genres': ['deep trap'], 'type': 'artist', 'uri': 'spotify:artist:5EQERGi7ffHvHsv3bnqzBn', 'images': [{'width': 640, 'url': 'https://i.scdn.co/image/b05aaee4b347f25bd1f190a47d2a04a30db96ee4', 'height': 640}, {'width': 300, 'url': 'https://i.scdn.co/image/7cc46db0ae9aca73de9ce788ffee37711af092db', 'height': 300}, {'width': 64, 'url': 'https://i.scdn.co/image/e39030f343a1365761a1778a873a369573fb5e11', 'height': 64}], 'popularity': 37, 'external_urls': {'spotify': 'https://open.spotify.com/artist/5EQERGi7ffHvHsv3bnqzBn'}, 'id': '5EQERGi7ffHvHsv3bnqzBn', 'followers': {'href': None, 'total': 2123}}, {'href': 'https://api.spotify.com/v1/artists/1mmlWsyPJvvxMdabcGJjRn', 'name': 'Lil Boom', 'genres': [], 'type': 'artist', 'uri': 'spotify:artist:1mmlWsyPJvvxMdabcGJjRn', 'images': [{'width': 640, 'url': 'https://i.scdn.co/image/60159d868f6ceb3433cc4d9c6ad9d551c142a1ec', 'height': 640}, {'width': 300, 'url': 'https://i.scdn.co/image/d84f042b1e6785cac700ead5797b250d0e00744d', 'height': 300}, {'width': 64, 'url': 'https://i.scdn.co/image/98efe8330240c282b4a87fd98bf90f8c93f869cc', 'height': 64}], 'popularity': 39, 'external_urls': {'spotify': 'https://open.spotify.com/artist/1mmlWsyPJvvxMdabcGJjRn'}, 'id': '1mmlWsyPJvvxMdabcGJjRn', 'followers': {'href': None, 'total': 189}}, {'href': 'https://api.spotify.com/v1/artists/5YZZbPdI7P7te3lW3dTpzK', 'name': 'Lil Twon', 'genres': [], 'type': 'artist', 'uri': 'spotify:artist:5YZZbPdI7P7te3lW3dTpzK', 'images': [{'width': 640, 'url': 'https://i.scdn.co/image/171bcf1727e696bb7abe4af8c339654a03335c75', 'height': 960}, {'width': 200, 'url': 'https://i.scdn.co/image/4fc43fb0bb59f30f92a4a61267b2d68a16441041', 'height': 300}, {'width': 64, 'url': 'https://i.scdn.co/image/13157eee5b9392e4c9eddced209e32eac2540000', 'height': 96}], 'popularity': 37, 'external_urls': {'spotify': 'https://open.spotify.com/artist/5YZZbPdI7P7te3lW3dTpzK'}, 'id': '5YZZbPdI7P7te3lW3dTpzK', 'followers': {'href': None, 'total': 320}}, {'href': 'https://api.spotify.com/v1/artists/2jXwYLNnCxNavms4mc1DYM', 'name': 'Lil AJ', 'genres': [], 'type': 'artist', 'uri': 'spotify:artist:2jXwYLNnCxNavms4mc1DYM', 'images': [{'width': 640, 'url': 'https://i.scdn.co/image/c836e08658864e66d993dd082d22d6dfee7d4645', 'height': 640}, {'width': 300, 'url': 'https://i.scdn.co/image/255d752315107f40dc7ff7d9deff7955f6ca569e', 'height': 300}, {'width': 64, 'url': 'https://i.scdn.co/image/93902d4634605f54f6d16df88d4bd7bbf2b5ae4a', 'height': 64}], 'popularity': 37, 'external_urls': {'spotify': 'https://open.spotify.com/artist/2jXwYLNnCxNavms4mc1DYM'}, 'id': '2jXwYLNnCxNavms4mc1DYM', 'followers': {'href': None, 'total': 897}}, {'href': 'https://api.spotify.com/v1/artists/6zSBkdKFLKKggDtE3amfCk', 'name': 'Lil Lonnie', 'genres': [], 'type': 'artist', 'uri': 'spotify:artist:6zSBkdKFLKKggDtE3amfCk', 'images': [{'width': 640, 'url': 'https://i.scdn.co/image/808576eb1021286e337063e525f4ec79464be1ae', 'height': 640}, {'width': 300, 'url': 'https://i.scdn.co/image/9e64654e7a0efcc0e83f92c183161b8563afdc9d', 'height': 300}, {'width': 64, 'url': 'https://i.scdn.co/image/14c77d2a012121fdfb65a34f9ead19824627c787', 'height': 64}], 'popularity': 37, 'external_urls': {'spotify': 'https://open.spotify.com/artist/6zSBkdKFLKKggDtE3amfCk'}, 'id': '6zSBkdKFLKKggDtE3amfCk', 'followers': {'href': None, 'total': 1346}}, {'href': 'https://api.spotify.com/v1/artists/3rWaFjgOi5mjQfllMfN3VI', 'name': 'Lil Goofy', 'genres': [], 'type': 'artist', 'uri': 'spotify:artist:3rWaFjgOi5mjQfllMfN3VI', 'images': [{'width': 640, 'url': 'https://i.scdn.co/image/27cd70424eb57712af1a3f02d8c065fb8248c6f7', 'height': 640}, {'width': 300, 'url': 'https://i.scdn.co/image/5df4c3e9982888cfc853591361bde30b26e4b182', 'height': 300}, {'width': 64, 'url': 'https://i.scdn.co/image/cf681ac1c01f676cb8848fc3c1c1e91af4981940', 'height': 64}], 'popularity': 35, 'external_urls': {'spotify': 'https://open.spotify.com/artist/3rWaFjgOi5mjQfllMfN3VI'}, 'id': '3rWaFjgOi5mjQfllMfN3VI', 'followers': {'href': None, 'total': 1343}}, {'href': 'https://api.spotify.com/v1/artists/4E9dumwOMLlTyXUp1i2WdI', 'name': 'Lil Haiti', 'genres': [], 'type': 'artist', 'uri': 'spotify:artist:4E9dumwOMLlTyXUp1i2WdI', 'images': [{'width': 640, 'url': 'https://i.scdn.co/image/0248b931d044d7cd9e04e985dd60e262d47bd48e', 'height': 640}, {'width': 300, 'url': 'https://i.scdn.co/image/2e0750e4f4f1b6faef4694e8cdc7be2ea7943025', 'height': 300}, {'width': 64, 'url': 'https://i.scdn.co/image/71627015b26cd42d2d4912b0b728d26d5aa021bc', 'height': 64}], 'popularity': 36, 'external_urls': {'spotify': 'https://open.spotify.com/artist/4E9dumwOMLlTyXUp1i2WdI'}, 'id': '4E9dumwOMLlTyXUp1i2WdI', 'followers': {'href': None, 'total': 685}}, {'href': 'https://api.spotify.com/v1/artists/6tslWi0BXiDdtChermDzkU', 'name': 'Mr. Lil One', 'genres': ['chicano rap'], 'type': 'artist', 'uri': 'spotify:artist:6tslWi0BXiDdtChermDzkU', 'images': [{'width': 999, 'url': 'https://i.scdn.co/image/f3e380e2bb1706ccc3ff3136a5909b2df62fc8e6', 'height': 445}, {'width': 640, 'url': 'https://i.scdn.co/image/b422c3b95293beb367cf38901631d5537c6431b1', 'height': 285}, {'width': 200, 'url': 'https://i.scdn.co/image/c827b7877bde6b4295d708b75ec78bb493ad7245', 'height': 89}, {'width': 64, 'url': 'https://i.scdn.co/image/f9ee61c0fc0e027f2a87cb2a610637ebce8e8e4c', 'height': 29}], 'popularity': 36, 'external_urls': {'spotify': 'https://open.spotify.com/artist/6tslWi0BXiDdtChermDzkU'}, 'id': '6tslWi0BXiDdtChermDzkU', 'followers': {'href': None, 'total': 4747}}, {'href': 'https://api.spotify.com/v1/artists/43BqexhEx5NKF7VfeOYP9m', 'name': 'Lil Cray', 'genres': [], 'type': 'artist', 'uri': 'spotify:artist:43BqexhEx5NKF7VfeOYP9m', 'images': [{'width': 500, 'url': 'https://i.scdn.co/image/19b3c85c69a68790f2edef06bd2da9e51ee88a44', 'height': 500}, {'width': 200, 'url': 'https://i.scdn.co/image/ced2056dc33e8b3c318560ecdc393c5e79939927', 'height': 200}, {'width': 64, 'url': 'https://i.scdn.co/image/08f5c3a7abf35edf216ce353f611b37d1251e2ca', 'height': 64}], 'popularity': 35, 'external_urls': {'spotify': 'https://open.spotify.com/artist/43BqexhEx5NKF7VfeOYP9m'}, 'id': '43BqexhEx5NKF7VfeOYP9m', 'followers': {'href': None, 'total': 989}}, {'href': 'https://api.spotify.com/v1/artists/069qBEK34YGoX7nSIT74Eg', 'name': 'Lil Flash', 'genres': [], 'type': 'artist', 'uri': 'spotify:artist:069qBEK34YGoX7nSIT74Eg', 'images': [{'width': 640, 'url': 'https://i.scdn.co/image/00f49af07547e77af2b67f621c8fd77be607f166', 'height': 640}, {'width': 300, 'url': 'https://i.scdn.co/image/760852e9190609b0bf7bab4c5ba3fd14654956a3', 'height': 300}, {'width': 64, 'url': 'https://i.scdn.co/image/390f2cc02272310ae41fb67ef92b7bf226262be6', 'height': 64}], 'popularity': 38, 'external_urls': {'spotify': 'https://open.spotify.com/artist/069qBEK34YGoX7nSIT74Eg'}, 'id': '069qBEK34YGoX7nSIT74Eg', 'followers': {'href': None, 'total': 1767}}, {'href': 'https://api.spotify.com/v1/artists/2Kv0ApBohrL213X9avMrEn', 'name': 'Lil Silva', 'genres': [], 'type': 'artist', 'uri': 'spotify:artist:2Kv0ApBohrL213X9avMrEn', 'images': [{'width': 1000, 'url': 'https://i.scdn.co/image/9b1581aa35fa3461ad886fe8999f3757d3292fb7', 'height': 1500}, {'width': 640, 'url': 'https://i.scdn.co/image/7105c05c8533bf8689937a1d37613db9576b73d8', 'height': 960}, {'width': 200, 'url': 'https://i.scdn.co/image/79b367700f460ea27a3f0ad56ac2596d3f220ae1', 'height': 300}, {'width': 64, 'url': 'https://i.scdn.co/image/9bf3f51c3475fcfa7e2cac1780c97dff19cb47c4', 'height': 96}], 'popularity': 43, 'external_urls': {'spotify': 'https://open.spotify.com/artist/2Kv0ApBohrL213X9avMrEn'}, 'id': '2Kv0ApBohrL213X9avMrEn', 'followers': {'href': None, 'total': 9452}}, {'href': 'https://api.spotify.com/v1/artists/38XiDu0kK3Z5jdHUDqBzNT', 'name': 'Lil Kesh', 'genres': [], 'type': 'artist', 'uri': 'spotify:artist:38XiDu0kK3Z5jdHUDqBzNT', 'images': [{'width': 640, 'url': 'https://i.scdn.co/image/63f06a92ecd7974e1360c1fbf318285b52208594', 'height': 640}, {'width': 300, 'url': 'https://i.scdn.co/image/2cc112871d0755a7b08c8640d77c027dbe2fefff', 'height': 300}, {'width': 64, 'url': 'https://i.scdn.co/image/37245d0c87fc06fd2ed5aab80207c2a70b688e9d', 'height': 64}], 'popularity': 39, 'external_urls': {'spotify': 'https://open.spotify.com/artist/38XiDu0kK3Z5jdHUDqBzNT'}, 'id': '38XiDu0kK3Z5jdHUDqBzNT', 'followers': {'href': None, 'total': 1664}}, {'href': 'https://api.spotify.com/v1/artists/4IFVaKBbEO8Qkurg6nmoc4', 'name': 'Lil Rue', 'genres': [], 'type': 'artist', 'uri': 'spotify:artist:4IFVaKBbEO8Qkurg6nmoc4', 'images': [{'width': 640, 'url': 'https://i.scdn.co/image/a71e6d63cee27fbf8d35783319f27517544729a6', 'height': 640}, {'width': 300, 'url': 'https://i.scdn.co/image/6872135b1c7727339bc927f76b6502e7b0626bb4', 'height': 300}, {'width': 64, 'url': 'https://i.scdn.co/image/b9704a6bad87cf9e221824ac02f09dc8569c5fc6', 'height': 64}], 'popularity': 34, 'external_urls': {'spotify': 'https://open.spotify.com/artist/4IFVaKBbEO8Qkurg6nmoc4'}, 'id': '4IFVaKBbEO8Qkurg6nmoc4', 'followers': {'href': None, 'total': 3292}}, {'href': 'https://api.spotify.com/v1/artists/4vIlHBnzWKbmWe8ZOkT1ZT', 'name': 'Lil Yase', 'genres': [], 'type': 'artist', 'uri': 'spotify:artist:4vIlHBnzWKbmWe8ZOkT1ZT', 'images': [{'width': 640, 'url': 'https://i.scdn.co/image/0f0c996d27335179f4136620e95d9c3245147806', 'height': 640}, {'width': 300, 'url': 'https://i.scdn.co/image/923c54f357bb8fbba8623cadb9f4194e90de760c', 'height': 300}, {'width': 64, 'url': 'https://i.scdn.co/image/85d4cf1f11ec3ba3481a9414fbb5dc5801abe086', 'height': 64}], 'popularity': 34, 'external_urls': {'spotify': 'https://open.spotify.com/artist/4vIlHBnzWKbmWe8ZOkT1ZT'}, 'id': '4vIlHBnzWKbmWe8ZOkT1ZT', 'followers': {'href': None, 'total': 1132}}, {'href': 'https://api.spotify.com/v1/artists/5CY0QKsbUBpQJIE2yycsYi', 'name': 'Lil Eddie', 'genres': [], 'type': 'artist', 'uri': 'spotify:artist:5CY0QKsbUBpQJIE2yycsYi', 'images': [{'width': 640, 'url': 'https://i.scdn.co/image/a1ab38ca89a4640ba1306c5f2ade50750194e5d9', 'height': 640}, {'width': 300, 'url': 'https://i.scdn.co/image/5ba8136190e12f51a128855f107afcfd446e63bd', 'height': 300}, {'width': 64, 'url': 'https://i.scdn.co/image/b2c57e0ba16bb50a92e84a1776bc6a324d858c2c', 'height': 64}], 'popularity': 41, 'external_urls': {'spotify': 'https://open.spotify.com/artist/5CY0QKsbUBpQJIE2yycsYi'}, 'id': '5CY0QKsbUBpQJIE2yycsYi', 'followers': {'href': None, 'total': 1623}}, {'href': 'https://api.spotify.com/v1/artists/65npPa1U4cgobX9wU7Jgpb', 'name': 'Lil Wayne, DJ Drama', 'genres': [], 'type': 'artist', 'uri': 'spotify:artist:65npPa1U4cgobX9wU7Jgpb', 'images': [{'width': 640, 'url': 'https://i.scdn.co/image/97bfe3f9251d35d9a358d8e937d3a6365c7a674a', 'height': 640}, {'width': 300, 'url': 'https://i.scdn.co/image/201eee225cd733022b0e78f6fbfe04861d898a84', 'height': 300}, {'width': 64, 'url': 'https://i.scdn.co/image/80f03593b486eb3b70f9c035097d669e7704c328', 'height': 64}], 'popularity': 35, 'external_urls': {'spotify': 'https://open.spotify.com/artist/65npPa1U4cgobX9wU7Jgpb'}, 'id': '65npPa1U4cgobX9wU7Jgpb', 'followers': {'href': None, 'total': 12856}}, {'href': 'https://api.spotify.com/v1/artists/5HPsVk1MblCoa44WLJsQwN', 'name': 'Lil Suzy', 'genres': ['freestyle'], 'type': 'artist', 'uri': 'spotify:artist:5HPsVk1MblCoa44WLJsQwN', 'images': [{'width': 720, 'url': 'https://i.scdn.co/image/9e2c6bb7420bdfe0675255200e6a90fbe6744514', 'height': 482}, {'width': 639, 'url': 'https://i.scdn.co/image/861aeb62673db5c88a4938462051496d54a88e14', 'height': 428}, {'width': 200, 'url': 'https://i.scdn.co/image/3bcf3420690356d33c72e6d699a6e087a2f287d4', 'height': 134}, {'width': 64, 'url': 'https://i.scdn.co/image/b807785791281b511ee7e545825f5508648914b0', 'height': 43}], 'popularity': 34, 'external_urls': {'spotify': 'https://open.spotify.com/artist/5HPsVk1MblCoa44WLJsQwN'}, 'id': '5HPsVk1MblCoa44WLJsQwN', 'followers': {'href': None, 'total': 5889}}, {'href': 'https://api.spotify.com/v1/artists/1cEHxCgGlEgqBc91YOcAEQ', 'name': 'Lil Mouse', 'genres': [], 'type': 'artist', 'uri': 'spotify:artist:1cEHxCgGlEgqBc91YOcAEQ', 'images': [{'width': 640, 'url': 'https://i.scdn.co/image/a7969adf46dff0c450120388bef4e760e2443a66', 'height': 640}, {'width': 300, 'url': 'https://i.scdn.co/image/9f155a53e2c7be92a0846befc94162e84a5e02b9', 'height': 300}, {'width': 64, 'url': 'https://i.scdn.co/image/7b434e7ce5acc91a1f1df22a4af376281e98dbbe', 'height': 64}], 'popularity': 34, 'external_urls': {'spotify': 'https://open.spotify.com/artist/1cEHxCgGlEgqBc91YOcAEQ'}, 'id': '1cEHxCgGlEgqBc91YOcAEQ', 'followers': {'href': None, 'total': 16312}}, {'href': 'https://api.spotify.com/v1/artists/69swdLSkKxCQBMYJ55O2mA', 'name': 'Lil C', 'genres': [], 'type': 'artist', 'uri': 'spotify:artist:69swdLSkKxCQBMYJ55O2mA', 'images': [{'width': 200, 'url': 'https://i.scdn.co/image/0b0c4aa534c6203577fd01f13a00807e4635851c', 'height': 300}, {'width': 64, 'url': 'https://i.scdn.co/image/ddef4f63a39e9007bef9adab285e7c51ce345848', 'height': 96}], 'popularity': 33, 'external_urls': {'spotify': 'https://open.spotify.com/artist/69swdLSkKxCQBMYJ55O2mA'}, 'id': '69swdLSkKxCQBMYJ55O2mA', 'followers': {'href': None, 'total': 1705}}, {'href': 'https://api.spotify.com/v1/artists/1qKzKUnuQsjB83hBZffoq0', 'name': 'Lil Rick', 'genres': ['soca'], 'type': 'artist', 'uri': 'spotify:artist:1qKzKUnuQsjB83hBZffoq0', 'images': [{'width': 640, 'url': 'https://i.scdn.co/image/4008de208a4462c926c09d5d341638abaa734d9d', 'height': 640}, {'width': 300, 'url': 'https://i.scdn.co/image/bd35dfb47d9719d7c94d185b55364a63d9a6e37d', 'height': 300}, {'width': 64, 'url': 'https://i.scdn.co/image/5d11e2608b6c526ae1bc76a09b0357ac3d802bfe', 'height': 64}], 'popularity': 39, 'external_urls': {'spotify': 'https://open.spotify.com/artist/1qKzKUnuQsjB83hBZffoq0'}, 'id': '1qKzKUnuQsjB83hBZffoq0', 'followers': {'href': None, 'total': 1829}}, {'href': 'https://api.spotify.com/v1/artists/3GH3KD2078kLPpEkN1UN26', 'name': 'Lil June', 'genres': [], 'type': 'artist', 'uri': 'spotify:artist:3GH3KD2078kLPpEkN1UN26', 'images': [{'width': 640, 'url': 'https://i.scdn.co/image/076a261d997d38ebbb55041a67bd4e00d960ce7e', 'height': 640}, {'width': 300, 'url': 'https://i.scdn.co/image/fbfc9a3a04437bba987ff1c2f4f38358b809b155', 'height': 300}, {'width': 64, 'url': 'https://i.scdn.co/image/0b3c65e61d127766aa052b33bcddd796d06d0f28', 'height': 64}], 'popularity': 32, 'external_urls': {'spotify': 'https://open.spotify.com/artist/3GH3KD2078kLPpEkN1UN26'}, 'id': '3GH3KD2078kLPpEkN1UN26', 'followers': {'href': None, 'total': 1411}}, {'href': 'https://api.spotify.com/v1/artists/0zn6yzsbWj3EPMgOTqfG5k', 'name': 'Lil E', 'genres': [], 'type': 'artist', 'uri': 'spotify:artist:0zn6yzsbWj3EPMgOTqfG5k', 'images': [{'width': 640, 'url': 'https://i.scdn.co/image/35638d3cfbc1b763aeb111c9273e724bdef12aa4', 'height': 640}, {'width': 300, 'url': 'https://i.scdn.co/image/ecd0a4a293cd661df2a8da127c343c46d4f7d11e', 'height': 300}, {'width': 64, 'url': 'https://i.scdn.co/image/a9d06155df08da255a54a8dc598961b5ff5a3958', 'height': 64}], 'popularity': 34, 'external_urls': {'spotify': 'https://open.spotify.com/artist/0zn6yzsbWj3EPMgOTqfG5k'}, 'id': '0zn6yzsbWj3EPMgOTqfG5k', 'followers': {'href': None, 'total': 130}}, {'href': 'https://api.spotify.com/v1/artists/6JUnsP7jmvYmdhbg7lTMQj', 'name': 'Lil Fate', 'genres': [], 'type': 'artist', 'uri': 'spotify:artist:6JUnsP7jmvYmdhbg7lTMQj', 'images': [], 'popularity': 34, 'external_urls': {'spotify': 'https://open.spotify.com/artist/6JUnsP7jmvYmdhbg7lTMQj'}, 'id': '6JUnsP7jmvYmdhbg7lTMQj', 'followers': {'href': None, 'total': 110}}, {'href': 'https://api.spotify.com/v1/artists/4Q5sPmM8j4SpMqL4UA1DtS', 'name': \"Lil' Flip\", 'genres': ['crunk', 'dirty south rap'], 'type': 'artist', 'uri': 'spotify:artist:4Q5sPmM8j4SpMqL4UA1DtS', 'images': [{'width': 1000, 'url': 'https://i.scdn.co/image/3767913038db1bbb8e971a3f93b4eb2c86b402c1', 'height': 810}, {'width': 640, 'url': 'https://i.scdn.co/image/dcc17914d52f5194f21ed73c2272701f940be220', 'height': 519}, {'width': 200, 'url': 'https://i.scdn.co/image/a645742d2b72d97d0abeb35eb880439f11013b1d', 'height': 162}, {'width': 64, 'url': 'https://i.scdn.co/image/d2f390e207477cdd0e2229429593f7dd99f08e54', 'height': 52}], 'popularity': 49, 'external_urls': {'spotify': 'https://open.spotify.com/artist/4Q5sPmM8j4SpMqL4UA1DtS'}, 'id': '4Q5sPmM8j4SpMqL4UA1DtS', 'followers': {'href': None, 'total': 19909}}], 'total': 4510, 'next': 'https://api.spotify.com/v1/search?query=Lil+&offset=50&limit=50&type=artist&market=US'}\n"
     ]
    }
   ],
   "source": [
    "# to figure out what data['artists'] is, we have a couple of options. My favorite!! Printing!! \n",
    "\n",
    "print(data['artists']) #its a dictionary so look inside!"
   ]
  },
  {
   "cell_type": "code",
   "execution_count": 8,
   "metadata": {
    "collapsed": false
   },
   "outputs": [
    {
     "data": {
      "text/plain": [
       "dict_keys(['href', 'offset', 'limit', 'previous', 'items', 'total', 'next'])"
      ]
     },
     "execution_count": 8,
     "metadata": {},
     "output_type": "execute_result"
    }
   ],
   "source": [
    "data['artists'].keys() #calling out what's inside of the dictionary "
   ]
  },
  {
   "cell_type": "code",
   "execution_count": 10,
   "metadata": {
    "collapsed": false
   },
   "outputs": [
    {
     "name": "stdout",
     "output_type": "stream",
     "text": [
      "[{'href': 'https://api.spotify.com/v1/artists/55Aa2cqylxrFIXC767Z865', 'name': 'Lil Wayne', 'genres': ['dirty south rap', 'pop rap', 'southern hip hop', 'trap music'], 'type': 'artist', 'uri': 'spotify:artist:55Aa2cqylxrFIXC767Z865', 'images': [{'width': 1000, 'url': 'https://i.scdn.co/image/cf012139c3b8681b46a66bae70558a8a336ab231', 'height': 1239}, {'width': 640, 'url': 'https://i.scdn.co/image/fffd48d60e27901f6e9ce99423f045cb2b893944', 'height': 793}, {'width': 200, 'url': 'https://i.scdn.co/image/bf03141629c202e94b206f1374a39326a9d8c6ca', 'height': 248}, {'width': 64, 'url': 'https://i.scdn.co/image/521f99f2469883b8806a69a3a2487fdd983bd621', 'height': 79}], 'popularity': 86, 'external_urls': {'spotify': 'https://open.spotify.com/artist/55Aa2cqylxrFIXC767Z865'}, 'id': '55Aa2cqylxrFIXC767Z865', 'followers': {'href': None, 'total': 2624859}}, {'href': 'https://api.spotify.com/v1/artists/6icQOAFXDZKsumw3YXyusw', 'name': 'Lil Yachty', 'genres': [], 'type': 'artist', 'uri': 'spotify:artist:6icQOAFXDZKsumw3YXyusw', 'images': [{'width': 640, 'url': 'https://i.scdn.co/image/add25baa69fc7bfd9cfd5d87716941028c2d6736', 'height': 640}, {'width': 300, 'url': 'https://i.scdn.co/image/3f8205117bdd028a648ad3fc925f9fb46dfa26fa', 'height': 300}, {'width': 64, 'url': 'https://i.scdn.co/image/ccc54e2911dbc5463acb401ee61489e27d991408', 'height': 64}], 'popularity': 72, 'external_urls': {'spotify': 'https://open.spotify.com/artist/6icQOAFXDZKsumw3YXyusw'}, 'id': '6icQOAFXDZKsumw3YXyusw', 'followers': {'href': None, 'total': 38466}}, {'href': 'https://api.spotify.com/v1/artists/4O15NlyKLIASxsJ0PrXPfz', 'name': 'Lil Uzi Vert', 'genres': [], 'type': 'artist', 'uri': 'spotify:artist:4O15NlyKLIASxsJ0PrXPfz', 'images': [{'width': 640, 'url': 'https://i.scdn.co/image/8c02344d1cb9069a5a2a9d1e860dc88b04088549', 'height': 640}, {'width': 320, 'url': 'https://i.scdn.co/image/28ac78387ad26048ccab0b671cbaddb30a2b52da', 'height': 320}, {'width': 160, 'url': 'https://i.scdn.co/image/6b074e198860470024e57ebbc1dda9f58088c506', 'height': 160}], 'popularity': 73, 'external_urls': {'spotify': 'https://open.spotify.com/artist/4O15NlyKLIASxsJ0PrXPfz'}, 'id': '4O15NlyKLIASxsJ0PrXPfz', 'followers': {'href': None, 'total': 56236}}, {'href': 'https://api.spotify.com/v1/artists/1tqhsYv8yBBdwANFNzHtcr', 'name': 'Lil Dicky', 'genres': [], 'type': 'artist', 'uri': 'spotify:artist:1tqhsYv8yBBdwANFNzHtcr', 'images': [{'width': 1000, 'url': 'https://i.scdn.co/image/a9c000526b14038b1fe69c72b0775f125bdf08af', 'height': 1000}, {'width': 640, 'url': 'https://i.scdn.co/image/31eac6ae8bdd6909236b5fd729d17406cc794e2d', 'height': 640}, {'width': 200, 'url': 'https://i.scdn.co/image/24dcb67ddd3afc794a4b1dab4cc1a47035a0beab', 'height': 200}, {'width': 64, 'url': 'https://i.scdn.co/image/2d2ebd85f676535129dbb7c3a4bb96e7bfd940a7', 'height': 64}], 'popularity': 68, 'external_urls': {'spotify': 'https://open.spotify.com/artist/1tqhsYv8yBBdwANFNzHtcr'}, 'id': '1tqhsYv8yBBdwANFNzHtcr', 'followers': {'href': None, 'total': 225174}}, {'href': 'https://api.spotify.com/v1/artists/6z7xFFHxYkE9t8bwIF0Bvg', 'name': 'Boosie Badazz', 'genres': [], 'type': 'artist', 'uri': 'spotify:artist:6z7xFFHxYkE9t8bwIF0Bvg', 'images': [{'width': 1000, 'url': 'https://i.scdn.co/image/f89376b78fe94a1692a5768f8f3440a4397bfb17', 'height': 667}, {'width': 640, 'url': 'https://i.scdn.co/image/fbf5353d4410a540cc74285d387d9e59d038592a', 'height': 427}, {'width': 200, 'url': 'https://i.scdn.co/image/39995515de01dc9eb91bc9c17d5c1921e7e54a1f', 'height': 133}, {'width': 64, 'url': 'https://i.scdn.co/image/b34f525381a78c72f423d74b76a47e1a1da9f7f8', 'height': 43}], 'popularity': 67, 'external_urls': {'spotify': 'https://open.spotify.com/artist/6z7xFFHxYkE9t8bwIF0Bvg'}, 'id': '6z7xFFHxYkE9t8bwIF0Bvg', 'followers': {'href': None, 'total': 220335}}, {'href': 'https://api.spotify.com/v1/artists/7sfl4Xt5KmfyDs2T3SVSMK', 'name': 'Lil Jon', 'genres': ['crunk', 'dirty south rap', 'southern hip hop'], 'type': 'artist', 'uri': 'spotify:artist:7sfl4Xt5KmfyDs2T3SVSMK', 'images': [{'width': 1000, 'url': 'https://i.scdn.co/image/885941564eadf27b7ee86d089e87967f9e3cf612', 'height': 664}, {'width': 640, 'url': 'https://i.scdn.co/image/b5495566665b41f3dc2560d37d043e4a3dc2ca41', 'height': 425}, {'width': 200, 'url': 'https://i.scdn.co/image/6ea9f92a43e23eaa7ced98d8773de37229b1410d', 'height': 133}, {'width': 64, 'url': 'https://i.scdn.co/image/ddef386b560619f296a27059874ad3fc7fd5d85d', 'height': 43}], 'popularity': 72, 'external_urls': {'spotify': 'https://open.spotify.com/artist/7sfl4Xt5KmfyDs2T3SVSMK'}, 'id': '7sfl4Xt5KmfyDs2T3SVSMK', 'followers': {'href': None, 'total': 256172}}, {'href': 'https://api.spotify.com/v1/artists/6L3x3if9RVimruryD9LoFb', 'name': 'King Lil G', 'genres': [], 'type': 'artist', 'uri': 'spotify:artist:6L3x3if9RVimruryD9LoFb', 'images': [{'width': 587, 'url': 'https://i.scdn.co/image/8942e9c0745697fa8e3e75f02aa461d722a0519d', 'height': 879}, {'width': 200, 'url': 'https://i.scdn.co/image/9fa49263a60cd27888e23b6c6c10c930af48114e', 'height': 299}, {'width': 64, 'url': 'https://i.scdn.co/image/c11e5e1e9d21cee430c1bd7c72e387422854bd6a', 'height': 96}], 'popularity': 61, 'external_urls': {'spotify': 'https://open.spotify.com/artist/6L3x3if9RVimruryD9LoFb'}, 'id': '6L3x3if9RVimruryD9LoFb', 'followers': {'href': None, 'total': 64321}}, {'href': 'https://api.spotify.com/v1/artists/3hcs9uc56yIGFCSy9leWe7', 'name': 'Lil Durk', 'genres': [], 'type': 'artist', 'uri': 'spotify:artist:3hcs9uc56yIGFCSy9leWe7', 'images': [{'width': 999, 'url': 'https://i.scdn.co/image/2b83f7df57f9098558c63047c494dea26f2da67e', 'height': 426}, {'width': 640, 'url': 'https://i.scdn.co/image/42e0d88103ed677b9a6cfa426e53428127ae903d', 'height': 273}, {'width': 199, 'url': 'https://i.scdn.co/image/b127461c288b3777fd18ffcd3523856b6063ea1e', 'height': 85}, {'width': 63, 'url': 'https://i.scdn.co/image/3674b105e3a72fbb92794029846a43dc66b2fcab', 'height': 27}], 'popularity': 60, 'external_urls': {'spotify': 'https://open.spotify.com/artist/3hcs9uc56yIGFCSy9leWe7'}, 'id': '3hcs9uc56yIGFCSy9leWe7', 'followers': {'href': None, 'total': 134201}}, {'href': 'https://api.spotify.com/v1/artists/3ciRvbBIVz9fBoPbtSYq4x', 'name': 'Lil Jon & The East Side Boyz', 'genres': [], 'type': 'artist', 'uri': 'spotify:artist:3ciRvbBIVz9fBoPbtSYq4x', 'images': [{'width': 554, 'url': 'https://i.scdn.co/image/aafc4156598fa9f8f052ec5687e648ba9120f07e', 'height': 500}, {'width': 200, 'url': 'https://i.scdn.co/image/7a9ccdaebabf83f763af6664d5d483c57332bc08', 'height': 181}, {'width': 64, 'url': 'https://i.scdn.co/image/e74083480033e85373d3deb546f16d8beedeccb3', 'height': 58}], 'popularity': 60, 'external_urls': {'spotify': 'https://open.spotify.com/artist/3ciRvbBIVz9fBoPbtSYq4x'}, 'id': '3ciRvbBIVz9fBoPbtSYq4x', 'followers': {'href': None, 'total': 17066}}, {'href': 'https://api.spotify.com/v1/artists/4uSN8Y3kgFNVULUWsZEAVW', 'name': 'Lil Bibby', 'genres': [], 'type': 'artist', 'uri': 'spotify:artist:4uSN8Y3kgFNVULUWsZEAVW', 'images': [{'width': 1000, 'url': 'https://i.scdn.co/image/07c75abe717a9b704083ef38c4446abbff10fda5', 'height': 1000}, {'width': 640, 'url': 'https://i.scdn.co/image/1903fd19c7279418c71da62aa02ce47cccf63e52', 'height': 640}, {'width': 200, 'url': 'https://i.scdn.co/image/9c37f8c40ab3594de42f1861f592f558f91d0f51', 'height': 200}, {'width': 64, 'url': 'https://i.scdn.co/image/efba595d34603b014b125d65f7851103185158b4', 'height': 64}], 'popularity': 54, 'external_urls': {'spotify': 'https://open.spotify.com/artist/4uSN8Y3kgFNVULUWsZEAVW'}, 'id': '4uSN8Y3kgFNVULUWsZEAVW', 'followers': {'href': None, 'total': 44184}}, {'href': 'https://api.spotify.com/v1/artists/5QdEbQJ3ylBnc3gsIASAT5', 'name': 'G Herbo', 'genres': [], 'type': 'artist', 'uri': 'spotify:artist:5QdEbQJ3ylBnc3gsIASAT5', 'images': [{'width': 1000, 'url': 'https://i.scdn.co/image/2cb955d0b6d08e1ff70cff98b332f6debf7a8e4a', 'height': 667}, {'width': 640, 'url': 'https://i.scdn.co/image/72667af5dfd57266ba7348bbec97c246986bdbfe', 'height': 427}, {'width': 199, 'url': 'https://i.scdn.co/image/f366a759361f875f6259ef805c76e39ff3dd754c', 'height': 133}, {'width': 64, 'url': 'https://i.scdn.co/image/d7b0cd61112a7b8b6326c6454652685c1d1baa1c', 'height': 43}], 'popularity': 53, 'external_urls': {'spotify': 'https://open.spotify.com/artist/5QdEbQJ3ylBnc3gsIASAT5'}, 'id': '5QdEbQJ3ylBnc3gsIASAT5', 'followers': {'href': None, 'total': 51567}}, {'href': 'https://api.spotify.com/v1/artists/7B7TGqQe7QTVm2U6q8jzk1', 'name': 'Lil Rob', 'genres': ['chicano rap', 'latin hip hop'], 'type': 'artist', 'uri': 'spotify:artist:7B7TGqQe7QTVm2U6q8jzk1', 'images': [{'width': 640, 'url': 'https://i.scdn.co/image/7b37dc3ed21b4236502d24a897ac02aa4eb9f183', 'height': 640}, {'width': 300, 'url': 'https://i.scdn.co/image/457e18474f5cf18eae93e1435dcc5d2fb88c8efd', 'height': 300}, {'width': 64, 'url': 'https://i.scdn.co/image/8e7c25760b9b5d6dbc58ebc30443114fdfdfb927', 'height': 64}], 'popularity': 50, 'external_urls': {'spotify': 'https://open.spotify.com/artist/7B7TGqQe7QTVm2U6q8jzk1'}, 'id': '7B7TGqQe7QTVm2U6q8jzk1', 'followers': {'href': None, 'total': 35866}}, {'href': 'https://api.spotify.com/v1/artists/1bPxKZtCdjB1aj1csBJpdS', 'name': 'Lil Reese', 'genres': [], 'type': 'artist', 'uri': 'spotify:artist:1bPxKZtCdjB1aj1csBJpdS', 'images': [{'width': 640, 'url': 'https://i.scdn.co/image/c3f33bf2d8bc3e00d0d82fd9e2a11c0594079833', 'height': 640}, {'width': 300, 'url': 'https://i.scdn.co/image/6535600354e3ff225b5704ab3c9b4a4033746fb1', 'height': 300}, {'width': 64, 'url': 'https://i.scdn.co/image/ba89cf9b97304f9f07132e8bb06293170109b64b', 'height': 64}], 'popularity': 50, 'external_urls': {'spotify': 'https://open.spotify.com/artist/1bPxKZtCdjB1aj1csBJpdS'}, 'id': '1bPxKZtCdjB1aj1csBJpdS', 'followers': {'href': None, 'total': 23861}}, {'href': 'https://api.spotify.com/v1/artists/1grI9x4Uzos1Asx8JmRW6T', 'name': 'Lil Keke', 'genres': [], 'type': 'artist', 'uri': 'spotify:artist:1grI9x4Uzos1Asx8JmRW6T', 'images': [{'width': 680, 'url': 'https://i.scdn.co/image/3e53d37d29794eccb5fc9744b962df8f2c2b1725', 'height': 1024}, {'width': 640, 'url': 'https://i.scdn.co/image/82bb674230d0b08e5c82e10dfe175759581e7800', 'height': 964}, {'width': 200, 'url': 'https://i.scdn.co/image/6f26c9f3aee5c6243f2abe210ab09446df90276b', 'height': 301}, {'width': 64, 'url': 'https://i.scdn.co/image/35fd540d7448475f46e06bc0b46f2ca106899910', 'height': 96}], 'popularity': 48, 'external_urls': {'spotify': 'https://open.spotify.com/artist/1grI9x4Uzos1Asx8JmRW6T'}, 'id': '1grI9x4Uzos1Asx8JmRW6T', 'followers': {'href': None, 'total': 18774}}, {'href': 'https://api.spotify.com/v1/artists/7352aRY2mqSxBZwzUb6LmA', 'name': 'Bow Wow', 'genres': ['hip pop', 'pop rap'], 'type': 'artist', 'uri': 'spotify:artist:7352aRY2mqSxBZwzUb6LmA', 'images': [{'width': 1000, 'url': 'https://i.scdn.co/image/bbc23f477201e3784b54516ef2ad548794947277', 'height': 1500}, {'width': 640, 'url': 'https://i.scdn.co/image/4014b68d6e33d16883c70aab0972087d38e8896d', 'height': 960}, {'width': 200, 'url': 'https://i.scdn.co/image/5d3a1e94fb0fe5cf2dfb600cd7e55e8213025968', 'height': 300}, {'width': 64, 'url': 'https://i.scdn.co/image/6799537642674ef52cf0064aaef74cf04202c301', 'height': 96}], 'popularity': 57, 'external_urls': {'spotify': 'https://open.spotify.com/artist/7352aRY2mqSxBZwzUb6LmA'}, 'id': '7352aRY2mqSxBZwzUb6LmA', 'followers': {'href': None, 'total': 118594}}, {'href': 'https://api.spotify.com/v1/artists/5einkgXXrjhfYCyac1FANB', 'name': 'Lil Scrappy', 'genres': ['crunk', 'dirty south rap', 'southern hip hop', 'trap music'], 'type': 'artist', 'uri': 'spotify:artist:5einkgXXrjhfYCyac1FANB', 'images': [{'width': 225, 'url': 'https://i.scdn.co/image/722a084be153a03ca1bfb0c1e7c83bd4d37db156', 'height': 300}, {'width': 200, 'url': 'https://i.scdn.co/image/9c68dc0bb9b147bd31cb13a7b1e1d95acf481a90', 'height': 267}, {'width': 64, 'url': 'https://i.scdn.co/image/96df8040ad3c03f9471139786c4ea60f3998ca81', 'height': 85}], 'popularity': 48, 'external_urls': {'spotify': 'https://open.spotify.com/artist/5einkgXXrjhfYCyac1FANB'}, 'id': '5einkgXXrjhfYCyac1FANB', 'followers': {'href': None, 'total': 27098}}, {'href': 'https://api.spotify.com/v1/artists/21O7WwRkik43ErKppxDKJq', 'name': 'Lil Wyte', 'genres': ['juggalo'], 'type': 'artist', 'uri': 'spotify:artist:21O7WwRkik43ErKppxDKJq', 'images': [{'width': 640, 'url': 'https://i.scdn.co/image/01140761147a97db6a100c4456b531fb2d5aad82', 'height': 640}, {'width': 300, 'url': 'https://i.scdn.co/image/0925d6476f14719b5ffd005fe0091e292c95e11e', 'height': 300}, {'width': 64, 'url': 'https://i.scdn.co/image/b232b4badce8651c11907c06ed6defcfc5616854', 'height': 64}], 'popularity': 50, 'external_urls': {'spotify': 'https://open.spotify.com/artist/21O7WwRkik43ErKppxDKJq'}, 'id': '21O7WwRkik43ErKppxDKJq', 'followers': {'href': None, 'total': 31123}}, {'href': 'https://api.spotify.com/v1/artists/74nSA5FdDOuuLw7Rn5JnuP', 'name': 'Lil Blood', 'genres': [], 'type': 'artist', 'uri': 'spotify:artist:74nSA5FdDOuuLw7Rn5JnuP', 'images': [{'width': 640, 'url': 'https://i.scdn.co/image/fc222056c3c65e02c96c3e94847a74ba7920757e', 'height': 640}, {'width': 300, 'url': 'https://i.scdn.co/image/052a2ef46226fa25801224fd676ba4abbb7da15a', 'height': 300}, {'width': 64, 'url': 'https://i.scdn.co/image/b3a4a57f6da39a5af2b2c56479819754caa51d35', 'height': 64}], 'popularity': 45, 'external_urls': {'spotify': 'https://open.spotify.com/artist/74nSA5FdDOuuLw7Rn5JnuP'}, 'id': '74nSA5FdDOuuLw7Rn5JnuP', 'followers': {'href': None, 'total': 5533}}, {'href': 'https://api.spotify.com/v1/artists/42FaEHFfyxTdZQ5W28dXnj', 'name': 'Lil Snupe', 'genres': [], 'type': 'artist', 'uri': 'spotify:artist:42FaEHFfyxTdZQ5W28dXnj', 'images': [{'width': 640, 'url': 'https://i.scdn.co/image/89c1a0ac4f8b95c843d633493bc3657a296e3e6b', 'height': 640}, {'width': 300, 'url': 'https://i.scdn.co/image/59654d32b34cfb51000ff26fec57ab36bf1781ae', 'height': 300}, {'width': 64, 'url': 'https://i.scdn.co/image/b3afd3776d6e3e6ed82d45b4541e8623389e347b', 'height': 64}], 'popularity': 45, 'external_urls': {'spotify': 'https://open.spotify.com/artist/42FaEHFfyxTdZQ5W28dXnj'}, 'id': '42FaEHFfyxTdZQ5W28dXnj', 'followers': {'href': None, 'total': 34025}}, {'href': 'https://api.spotify.com/v1/artists/5qK5bOC6wLtuLhG5KvU17c', 'name': 'Lil Mama', 'genres': ['hip pop'], 'type': 'artist', 'uri': 'spotify:artist:5qK5bOC6wLtuLhG5KvU17c', 'images': [{'width': 600, 'url': 'https://i.scdn.co/image/8e33c09ff1d5d91ea47254a389c36f626775275a', 'height': 750}, {'width': 200, 'url': 'https://i.scdn.co/image/991889a4147550d0421dfb80621c2e161ac7e043', 'height': 250}, {'width': 64, 'url': 'https://i.scdn.co/image/253d651a020406eb7c264304803463badabfe8cb', 'height': 80}], 'popularity': 45, 'external_urls': {'spotify': 'https://open.spotify.com/artist/5qK5bOC6wLtuLhG5KvU17c'}, 'id': '5qK5bOC6wLtuLhG5KvU17c', 'followers': {'href': None, 'total': 21122}}, {'href': 'https://api.spotify.com/v1/artists/4dqh62yIzDBmrMeBOLiP5F', 'name': 'Lil B', 'genres': [], 'type': 'artist', 'uri': 'spotify:artist:4dqh62yIzDBmrMeBOLiP5F', 'images': [{'width': 640, 'url': 'https://i.scdn.co/image/5fbeb835c159b8de635ef8f5c6cc002ce138aec2', 'height': 640}, {'width': 300, 'url': 'https://i.scdn.co/image/3002b77643ae099b657a5eca5f99a79ca064b2f7', 'height': 300}, {'width': 64, 'url': 'https://i.scdn.co/image/73507e320c68d9890524a15f2eca9390a9fec455', 'height': 64}], 'popularity': 44, 'external_urls': {'spotify': 'https://open.spotify.com/artist/4dqh62yIzDBmrMeBOLiP5F'}, 'id': '4dqh62yIzDBmrMeBOLiP5F', 'followers': {'href': None, 'total': 231}}, {'href': 'https://api.spotify.com/v1/artists/5tth2a3v0sWwV1C7bApBdX', 'name': \"Lil' Kim\", 'genres': ['hip pop'], 'type': 'artist', 'uri': 'spotify:artist:5tth2a3v0sWwV1C7bApBdX', 'images': [{'width': 1000, 'url': 'https://i.scdn.co/image/86a3e71ffa1706d337405150ec3bb7b4e246db7b', 'height': 667}, {'width': 640, 'url': 'https://i.scdn.co/image/aa469a2c66d8e71308dbfb3efdb116be37ccdcaa', 'height': 427}, {'width': 200, 'url': 'https://i.scdn.co/image/a0e5359dc08b113b293b9d46715dea3ade289ba0', 'height': 133}, {'width': 64, 'url': 'https://i.scdn.co/image/74c219f600ec1d671430515820392104a64be811', 'height': 43}], 'popularity': 62, 'external_urls': {'spotify': 'https://open.spotify.com/artist/5tth2a3v0sWwV1C7bApBdX'}, 'id': '5tth2a3v0sWwV1C7bApBdX', 'followers': {'href': None, 'total': 70279}}, {'href': 'https://api.spotify.com/v1/artists/1I5u5Umau1AgHl0ZbPL1oR', 'name': 'Lil Cuete', 'genres': ['chicano rap'], 'type': 'artist', 'uri': 'spotify:artist:1I5u5Umau1AgHl0ZbPL1oR', 'images': [{'width': 640, 'url': 'https://i.scdn.co/image/9a690f19d1f22f37c2d8ea2269d5d13c227059c7', 'height': 640}, {'width': 300, 'url': 'https://i.scdn.co/image/8a8413a32bf7407d8e3c7705fb24db7b817d7804', 'height': 300}, {'width': 64, 'url': 'https://i.scdn.co/image/06ce7932e56c32475af8927bfffcce0d76475be8', 'height': 64}], 'popularity': 40, 'external_urls': {'spotify': 'https://open.spotify.com/artist/1I5u5Umau1AgHl0ZbPL1oR'}, 'id': '1I5u5Umau1AgHl0ZbPL1oR', 'followers': {'href': None, 'total': 15591}}, {'href': 'https://api.spotify.com/v1/artists/3QnIBUOS4mUzs67rZ8r4c9', 'name': 'Lil Phat', 'genres': [], 'type': 'artist', 'uri': 'spotify:artist:3QnIBUOS4mUzs67rZ8r4c9', 'images': [{'width': 640, 'url': 'https://i.scdn.co/image/e67d6752b4bc97f8e62e3bad2020d1a771543329', 'height': 640}, {'width': 300, 'url': 'https://i.scdn.co/image/252344a7a2903b910fe462fb1d03e4050182d7ad', 'height': 300}, {'width': 64, 'url': 'https://i.scdn.co/image/4481d09538ecb2554f01dec59f05dd050d1b03b9', 'height': 64}], 'popularity': 39, 'external_urls': {'spotify': 'https://open.spotify.com/artist/3QnIBUOS4mUzs67rZ8r4c9'}, 'id': '3QnIBUOS4mUzs67rZ8r4c9', 'followers': {'href': None, 'total': 5344}}, {'href': 'https://api.spotify.com/v1/artists/3FNZcjyqT7F5upP99JV0oN', 'name': 'Lil Debbie', 'genres': [], 'type': 'artist', 'uri': 'spotify:artist:3FNZcjyqT7F5upP99JV0oN', 'images': [{'width': 640, 'url': 'https://i.scdn.co/image/f7a2070d4432472565f88e4d8e25f61de58bfde9', 'height': 640}, {'width': 300, 'url': 'https://i.scdn.co/image/97e0127d38fd5f0b2e9c5fd593a42148f26ee8c7', 'height': 300}, {'width': 64, 'url': 'https://i.scdn.co/image/c8c722d37914c9bd4f1b1af5b1c0e152e3e74c19', 'height': 64}], 'popularity': 43, 'external_urls': {'spotify': 'https://open.spotify.com/artist/3FNZcjyqT7F5upP99JV0oN'}, 'id': '3FNZcjyqT7F5upP99JV0oN', 'followers': {'href': None, 'total': 14533}}, {'href': 'https://api.spotify.com/v1/artists/564gvOqSRcQoYAhaBpTiK2', 'name': 'Lil Twist', 'genres': ['jerk'], 'type': 'artist', 'uri': 'spotify:artist:564gvOqSRcQoYAhaBpTiK2', 'images': [{'width': 640, 'url': 'https://i.scdn.co/image/5280b8361231a8275ef9aeaa4e4d9a7701790eb5', 'height': 640}, {'width': 300, 'url': 'https://i.scdn.co/image/112c7e13cf136d3389ac4e2568af3cb1a02285b7', 'height': 300}, {'width': 64, 'url': 'https://i.scdn.co/image/0c0031c220e6536650161d837192c64168690d86', 'height': 64}], 'popularity': 39, 'external_urls': {'spotify': 'https://open.spotify.com/artist/564gvOqSRcQoYAhaBpTiK2'}, 'id': '564gvOqSRcQoYAhaBpTiK2', 'followers': {'href': None, 'total': 14834}}, {'href': 'https://api.spotify.com/v1/artists/5EQERGi7ffHvHsv3bnqzBn', 'name': 'Lil Trill', 'genres': ['deep trap'], 'type': 'artist', 'uri': 'spotify:artist:5EQERGi7ffHvHsv3bnqzBn', 'images': [{'width': 640, 'url': 'https://i.scdn.co/image/b05aaee4b347f25bd1f190a47d2a04a30db96ee4', 'height': 640}, {'width': 300, 'url': 'https://i.scdn.co/image/7cc46db0ae9aca73de9ce788ffee37711af092db', 'height': 300}, {'width': 64, 'url': 'https://i.scdn.co/image/e39030f343a1365761a1778a873a369573fb5e11', 'height': 64}], 'popularity': 37, 'external_urls': {'spotify': 'https://open.spotify.com/artist/5EQERGi7ffHvHsv3bnqzBn'}, 'id': '5EQERGi7ffHvHsv3bnqzBn', 'followers': {'href': None, 'total': 2123}}, {'href': 'https://api.spotify.com/v1/artists/1mmlWsyPJvvxMdabcGJjRn', 'name': 'Lil Boom', 'genres': [], 'type': 'artist', 'uri': 'spotify:artist:1mmlWsyPJvvxMdabcGJjRn', 'images': [{'width': 640, 'url': 'https://i.scdn.co/image/60159d868f6ceb3433cc4d9c6ad9d551c142a1ec', 'height': 640}, {'width': 300, 'url': 'https://i.scdn.co/image/d84f042b1e6785cac700ead5797b250d0e00744d', 'height': 300}, {'width': 64, 'url': 'https://i.scdn.co/image/98efe8330240c282b4a87fd98bf90f8c93f869cc', 'height': 64}], 'popularity': 39, 'external_urls': {'spotify': 'https://open.spotify.com/artist/1mmlWsyPJvvxMdabcGJjRn'}, 'id': '1mmlWsyPJvvxMdabcGJjRn', 'followers': {'href': None, 'total': 189}}, {'href': 'https://api.spotify.com/v1/artists/5YZZbPdI7P7te3lW3dTpzK', 'name': 'Lil Twon', 'genres': [], 'type': 'artist', 'uri': 'spotify:artist:5YZZbPdI7P7te3lW3dTpzK', 'images': [{'width': 640, 'url': 'https://i.scdn.co/image/171bcf1727e696bb7abe4af8c339654a03335c75', 'height': 960}, {'width': 200, 'url': 'https://i.scdn.co/image/4fc43fb0bb59f30f92a4a61267b2d68a16441041', 'height': 300}, {'width': 64, 'url': 'https://i.scdn.co/image/13157eee5b9392e4c9eddced209e32eac2540000', 'height': 96}], 'popularity': 37, 'external_urls': {'spotify': 'https://open.spotify.com/artist/5YZZbPdI7P7te3lW3dTpzK'}, 'id': '5YZZbPdI7P7te3lW3dTpzK', 'followers': {'href': None, 'total': 320}}, {'href': 'https://api.spotify.com/v1/artists/2jXwYLNnCxNavms4mc1DYM', 'name': 'Lil AJ', 'genres': [], 'type': 'artist', 'uri': 'spotify:artist:2jXwYLNnCxNavms4mc1DYM', 'images': [{'width': 640, 'url': 'https://i.scdn.co/image/c836e08658864e66d993dd082d22d6dfee7d4645', 'height': 640}, {'width': 300, 'url': 'https://i.scdn.co/image/255d752315107f40dc7ff7d9deff7955f6ca569e', 'height': 300}, {'width': 64, 'url': 'https://i.scdn.co/image/93902d4634605f54f6d16df88d4bd7bbf2b5ae4a', 'height': 64}], 'popularity': 37, 'external_urls': {'spotify': 'https://open.spotify.com/artist/2jXwYLNnCxNavms4mc1DYM'}, 'id': '2jXwYLNnCxNavms4mc1DYM', 'followers': {'href': None, 'total': 897}}, {'href': 'https://api.spotify.com/v1/artists/6zSBkdKFLKKggDtE3amfCk', 'name': 'Lil Lonnie', 'genres': [], 'type': 'artist', 'uri': 'spotify:artist:6zSBkdKFLKKggDtE3amfCk', 'images': [{'width': 640, 'url': 'https://i.scdn.co/image/808576eb1021286e337063e525f4ec79464be1ae', 'height': 640}, {'width': 300, 'url': 'https://i.scdn.co/image/9e64654e7a0efcc0e83f92c183161b8563afdc9d', 'height': 300}, {'width': 64, 'url': 'https://i.scdn.co/image/14c77d2a012121fdfb65a34f9ead19824627c787', 'height': 64}], 'popularity': 37, 'external_urls': {'spotify': 'https://open.spotify.com/artist/6zSBkdKFLKKggDtE3amfCk'}, 'id': '6zSBkdKFLKKggDtE3amfCk', 'followers': {'href': None, 'total': 1346}}, {'href': 'https://api.spotify.com/v1/artists/3rWaFjgOi5mjQfllMfN3VI', 'name': 'Lil Goofy', 'genres': [], 'type': 'artist', 'uri': 'spotify:artist:3rWaFjgOi5mjQfllMfN3VI', 'images': [{'width': 640, 'url': 'https://i.scdn.co/image/27cd70424eb57712af1a3f02d8c065fb8248c6f7', 'height': 640}, {'width': 300, 'url': 'https://i.scdn.co/image/5df4c3e9982888cfc853591361bde30b26e4b182', 'height': 300}, {'width': 64, 'url': 'https://i.scdn.co/image/cf681ac1c01f676cb8848fc3c1c1e91af4981940', 'height': 64}], 'popularity': 35, 'external_urls': {'spotify': 'https://open.spotify.com/artist/3rWaFjgOi5mjQfllMfN3VI'}, 'id': '3rWaFjgOi5mjQfllMfN3VI', 'followers': {'href': None, 'total': 1343}}, {'href': 'https://api.spotify.com/v1/artists/4E9dumwOMLlTyXUp1i2WdI', 'name': 'Lil Haiti', 'genres': [], 'type': 'artist', 'uri': 'spotify:artist:4E9dumwOMLlTyXUp1i2WdI', 'images': [{'width': 640, 'url': 'https://i.scdn.co/image/0248b931d044d7cd9e04e985dd60e262d47bd48e', 'height': 640}, {'width': 300, 'url': 'https://i.scdn.co/image/2e0750e4f4f1b6faef4694e8cdc7be2ea7943025', 'height': 300}, {'width': 64, 'url': 'https://i.scdn.co/image/71627015b26cd42d2d4912b0b728d26d5aa021bc', 'height': 64}], 'popularity': 36, 'external_urls': {'spotify': 'https://open.spotify.com/artist/4E9dumwOMLlTyXUp1i2WdI'}, 'id': '4E9dumwOMLlTyXUp1i2WdI', 'followers': {'href': None, 'total': 685}}, {'href': 'https://api.spotify.com/v1/artists/6tslWi0BXiDdtChermDzkU', 'name': 'Mr. Lil One', 'genres': ['chicano rap'], 'type': 'artist', 'uri': 'spotify:artist:6tslWi0BXiDdtChermDzkU', 'images': [{'width': 999, 'url': 'https://i.scdn.co/image/f3e380e2bb1706ccc3ff3136a5909b2df62fc8e6', 'height': 445}, {'width': 640, 'url': 'https://i.scdn.co/image/b422c3b95293beb367cf38901631d5537c6431b1', 'height': 285}, {'width': 200, 'url': 'https://i.scdn.co/image/c827b7877bde6b4295d708b75ec78bb493ad7245', 'height': 89}, {'width': 64, 'url': 'https://i.scdn.co/image/f9ee61c0fc0e027f2a87cb2a610637ebce8e8e4c', 'height': 29}], 'popularity': 36, 'external_urls': {'spotify': 'https://open.spotify.com/artist/6tslWi0BXiDdtChermDzkU'}, 'id': '6tslWi0BXiDdtChermDzkU', 'followers': {'href': None, 'total': 4747}}, {'href': 'https://api.spotify.com/v1/artists/43BqexhEx5NKF7VfeOYP9m', 'name': 'Lil Cray', 'genres': [], 'type': 'artist', 'uri': 'spotify:artist:43BqexhEx5NKF7VfeOYP9m', 'images': [{'width': 500, 'url': 'https://i.scdn.co/image/19b3c85c69a68790f2edef06bd2da9e51ee88a44', 'height': 500}, {'width': 200, 'url': 'https://i.scdn.co/image/ced2056dc33e8b3c318560ecdc393c5e79939927', 'height': 200}, {'width': 64, 'url': 'https://i.scdn.co/image/08f5c3a7abf35edf216ce353f611b37d1251e2ca', 'height': 64}], 'popularity': 35, 'external_urls': {'spotify': 'https://open.spotify.com/artist/43BqexhEx5NKF7VfeOYP9m'}, 'id': '43BqexhEx5NKF7VfeOYP9m', 'followers': {'href': None, 'total': 989}}, {'href': 'https://api.spotify.com/v1/artists/069qBEK34YGoX7nSIT74Eg', 'name': 'Lil Flash', 'genres': [], 'type': 'artist', 'uri': 'spotify:artist:069qBEK34YGoX7nSIT74Eg', 'images': [{'width': 640, 'url': 'https://i.scdn.co/image/00f49af07547e77af2b67f621c8fd77be607f166', 'height': 640}, {'width': 300, 'url': 'https://i.scdn.co/image/760852e9190609b0bf7bab4c5ba3fd14654956a3', 'height': 300}, {'width': 64, 'url': 'https://i.scdn.co/image/390f2cc02272310ae41fb67ef92b7bf226262be6', 'height': 64}], 'popularity': 38, 'external_urls': {'spotify': 'https://open.spotify.com/artist/069qBEK34YGoX7nSIT74Eg'}, 'id': '069qBEK34YGoX7nSIT74Eg', 'followers': {'href': None, 'total': 1767}}, {'href': 'https://api.spotify.com/v1/artists/2Kv0ApBohrL213X9avMrEn', 'name': 'Lil Silva', 'genres': [], 'type': 'artist', 'uri': 'spotify:artist:2Kv0ApBohrL213X9avMrEn', 'images': [{'width': 1000, 'url': 'https://i.scdn.co/image/9b1581aa35fa3461ad886fe8999f3757d3292fb7', 'height': 1500}, {'width': 640, 'url': 'https://i.scdn.co/image/7105c05c8533bf8689937a1d37613db9576b73d8', 'height': 960}, {'width': 200, 'url': 'https://i.scdn.co/image/79b367700f460ea27a3f0ad56ac2596d3f220ae1', 'height': 300}, {'width': 64, 'url': 'https://i.scdn.co/image/9bf3f51c3475fcfa7e2cac1780c97dff19cb47c4', 'height': 96}], 'popularity': 43, 'external_urls': {'spotify': 'https://open.spotify.com/artist/2Kv0ApBohrL213X9avMrEn'}, 'id': '2Kv0ApBohrL213X9avMrEn', 'followers': {'href': None, 'total': 9452}}, {'href': 'https://api.spotify.com/v1/artists/38XiDu0kK3Z5jdHUDqBzNT', 'name': 'Lil Kesh', 'genres': [], 'type': 'artist', 'uri': 'spotify:artist:38XiDu0kK3Z5jdHUDqBzNT', 'images': [{'width': 640, 'url': 'https://i.scdn.co/image/63f06a92ecd7974e1360c1fbf318285b52208594', 'height': 640}, {'width': 300, 'url': 'https://i.scdn.co/image/2cc112871d0755a7b08c8640d77c027dbe2fefff', 'height': 300}, {'width': 64, 'url': 'https://i.scdn.co/image/37245d0c87fc06fd2ed5aab80207c2a70b688e9d', 'height': 64}], 'popularity': 39, 'external_urls': {'spotify': 'https://open.spotify.com/artist/38XiDu0kK3Z5jdHUDqBzNT'}, 'id': '38XiDu0kK3Z5jdHUDqBzNT', 'followers': {'href': None, 'total': 1664}}, {'href': 'https://api.spotify.com/v1/artists/4IFVaKBbEO8Qkurg6nmoc4', 'name': 'Lil Rue', 'genres': [], 'type': 'artist', 'uri': 'spotify:artist:4IFVaKBbEO8Qkurg6nmoc4', 'images': [{'width': 640, 'url': 'https://i.scdn.co/image/a71e6d63cee27fbf8d35783319f27517544729a6', 'height': 640}, {'width': 300, 'url': 'https://i.scdn.co/image/6872135b1c7727339bc927f76b6502e7b0626bb4', 'height': 300}, {'width': 64, 'url': 'https://i.scdn.co/image/b9704a6bad87cf9e221824ac02f09dc8569c5fc6', 'height': 64}], 'popularity': 34, 'external_urls': {'spotify': 'https://open.spotify.com/artist/4IFVaKBbEO8Qkurg6nmoc4'}, 'id': '4IFVaKBbEO8Qkurg6nmoc4', 'followers': {'href': None, 'total': 3292}}, {'href': 'https://api.spotify.com/v1/artists/4vIlHBnzWKbmWe8ZOkT1ZT', 'name': 'Lil Yase', 'genres': [], 'type': 'artist', 'uri': 'spotify:artist:4vIlHBnzWKbmWe8ZOkT1ZT', 'images': [{'width': 640, 'url': 'https://i.scdn.co/image/0f0c996d27335179f4136620e95d9c3245147806', 'height': 640}, {'width': 300, 'url': 'https://i.scdn.co/image/923c54f357bb8fbba8623cadb9f4194e90de760c', 'height': 300}, {'width': 64, 'url': 'https://i.scdn.co/image/85d4cf1f11ec3ba3481a9414fbb5dc5801abe086', 'height': 64}], 'popularity': 34, 'external_urls': {'spotify': 'https://open.spotify.com/artist/4vIlHBnzWKbmWe8ZOkT1ZT'}, 'id': '4vIlHBnzWKbmWe8ZOkT1ZT', 'followers': {'href': None, 'total': 1132}}, {'href': 'https://api.spotify.com/v1/artists/5CY0QKsbUBpQJIE2yycsYi', 'name': 'Lil Eddie', 'genres': [], 'type': 'artist', 'uri': 'spotify:artist:5CY0QKsbUBpQJIE2yycsYi', 'images': [{'width': 640, 'url': 'https://i.scdn.co/image/a1ab38ca89a4640ba1306c5f2ade50750194e5d9', 'height': 640}, {'width': 300, 'url': 'https://i.scdn.co/image/5ba8136190e12f51a128855f107afcfd446e63bd', 'height': 300}, {'width': 64, 'url': 'https://i.scdn.co/image/b2c57e0ba16bb50a92e84a1776bc6a324d858c2c', 'height': 64}], 'popularity': 41, 'external_urls': {'spotify': 'https://open.spotify.com/artist/5CY0QKsbUBpQJIE2yycsYi'}, 'id': '5CY0QKsbUBpQJIE2yycsYi', 'followers': {'href': None, 'total': 1623}}, {'href': 'https://api.spotify.com/v1/artists/65npPa1U4cgobX9wU7Jgpb', 'name': 'Lil Wayne, DJ Drama', 'genres': [], 'type': 'artist', 'uri': 'spotify:artist:65npPa1U4cgobX9wU7Jgpb', 'images': [{'width': 640, 'url': 'https://i.scdn.co/image/97bfe3f9251d35d9a358d8e937d3a6365c7a674a', 'height': 640}, {'width': 300, 'url': 'https://i.scdn.co/image/201eee225cd733022b0e78f6fbfe04861d898a84', 'height': 300}, {'width': 64, 'url': 'https://i.scdn.co/image/80f03593b486eb3b70f9c035097d669e7704c328', 'height': 64}], 'popularity': 35, 'external_urls': {'spotify': 'https://open.spotify.com/artist/65npPa1U4cgobX9wU7Jgpb'}, 'id': '65npPa1U4cgobX9wU7Jgpb', 'followers': {'href': None, 'total': 12856}}, {'href': 'https://api.spotify.com/v1/artists/5HPsVk1MblCoa44WLJsQwN', 'name': 'Lil Suzy', 'genres': ['freestyle'], 'type': 'artist', 'uri': 'spotify:artist:5HPsVk1MblCoa44WLJsQwN', 'images': [{'width': 720, 'url': 'https://i.scdn.co/image/9e2c6bb7420bdfe0675255200e6a90fbe6744514', 'height': 482}, {'width': 639, 'url': 'https://i.scdn.co/image/861aeb62673db5c88a4938462051496d54a88e14', 'height': 428}, {'width': 200, 'url': 'https://i.scdn.co/image/3bcf3420690356d33c72e6d699a6e087a2f287d4', 'height': 134}, {'width': 64, 'url': 'https://i.scdn.co/image/b807785791281b511ee7e545825f5508648914b0', 'height': 43}], 'popularity': 34, 'external_urls': {'spotify': 'https://open.spotify.com/artist/5HPsVk1MblCoa44WLJsQwN'}, 'id': '5HPsVk1MblCoa44WLJsQwN', 'followers': {'href': None, 'total': 5889}}, {'href': 'https://api.spotify.com/v1/artists/1cEHxCgGlEgqBc91YOcAEQ', 'name': 'Lil Mouse', 'genres': [], 'type': 'artist', 'uri': 'spotify:artist:1cEHxCgGlEgqBc91YOcAEQ', 'images': [{'width': 640, 'url': 'https://i.scdn.co/image/a7969adf46dff0c450120388bef4e760e2443a66', 'height': 640}, {'width': 300, 'url': 'https://i.scdn.co/image/9f155a53e2c7be92a0846befc94162e84a5e02b9', 'height': 300}, {'width': 64, 'url': 'https://i.scdn.co/image/7b434e7ce5acc91a1f1df22a4af376281e98dbbe', 'height': 64}], 'popularity': 34, 'external_urls': {'spotify': 'https://open.spotify.com/artist/1cEHxCgGlEgqBc91YOcAEQ'}, 'id': '1cEHxCgGlEgqBc91YOcAEQ', 'followers': {'href': None, 'total': 16312}}, {'href': 'https://api.spotify.com/v1/artists/69swdLSkKxCQBMYJ55O2mA', 'name': 'Lil C', 'genres': [], 'type': 'artist', 'uri': 'spotify:artist:69swdLSkKxCQBMYJ55O2mA', 'images': [{'width': 200, 'url': 'https://i.scdn.co/image/0b0c4aa534c6203577fd01f13a00807e4635851c', 'height': 300}, {'width': 64, 'url': 'https://i.scdn.co/image/ddef4f63a39e9007bef9adab285e7c51ce345848', 'height': 96}], 'popularity': 33, 'external_urls': {'spotify': 'https://open.spotify.com/artist/69swdLSkKxCQBMYJ55O2mA'}, 'id': '69swdLSkKxCQBMYJ55O2mA', 'followers': {'href': None, 'total': 1705}}, {'href': 'https://api.spotify.com/v1/artists/1qKzKUnuQsjB83hBZffoq0', 'name': 'Lil Rick', 'genres': ['soca'], 'type': 'artist', 'uri': 'spotify:artist:1qKzKUnuQsjB83hBZffoq0', 'images': [{'width': 640, 'url': 'https://i.scdn.co/image/4008de208a4462c926c09d5d341638abaa734d9d', 'height': 640}, {'width': 300, 'url': 'https://i.scdn.co/image/bd35dfb47d9719d7c94d185b55364a63d9a6e37d', 'height': 300}, {'width': 64, 'url': 'https://i.scdn.co/image/5d11e2608b6c526ae1bc76a09b0357ac3d802bfe', 'height': 64}], 'popularity': 39, 'external_urls': {'spotify': 'https://open.spotify.com/artist/1qKzKUnuQsjB83hBZffoq0'}, 'id': '1qKzKUnuQsjB83hBZffoq0', 'followers': {'href': None, 'total': 1829}}, {'href': 'https://api.spotify.com/v1/artists/3GH3KD2078kLPpEkN1UN26', 'name': 'Lil June', 'genres': [], 'type': 'artist', 'uri': 'spotify:artist:3GH3KD2078kLPpEkN1UN26', 'images': [{'width': 640, 'url': 'https://i.scdn.co/image/076a261d997d38ebbb55041a67bd4e00d960ce7e', 'height': 640}, {'width': 300, 'url': 'https://i.scdn.co/image/fbfc9a3a04437bba987ff1c2f4f38358b809b155', 'height': 300}, {'width': 64, 'url': 'https://i.scdn.co/image/0b3c65e61d127766aa052b33bcddd796d06d0f28', 'height': 64}], 'popularity': 32, 'external_urls': {'spotify': 'https://open.spotify.com/artist/3GH3KD2078kLPpEkN1UN26'}, 'id': '3GH3KD2078kLPpEkN1UN26', 'followers': {'href': None, 'total': 1411}}, {'href': 'https://api.spotify.com/v1/artists/0zn6yzsbWj3EPMgOTqfG5k', 'name': 'Lil E', 'genres': [], 'type': 'artist', 'uri': 'spotify:artist:0zn6yzsbWj3EPMgOTqfG5k', 'images': [{'width': 640, 'url': 'https://i.scdn.co/image/35638d3cfbc1b763aeb111c9273e724bdef12aa4', 'height': 640}, {'width': 300, 'url': 'https://i.scdn.co/image/ecd0a4a293cd661df2a8da127c343c46d4f7d11e', 'height': 300}, {'width': 64, 'url': 'https://i.scdn.co/image/a9d06155df08da255a54a8dc598961b5ff5a3958', 'height': 64}], 'popularity': 34, 'external_urls': {'spotify': 'https://open.spotify.com/artist/0zn6yzsbWj3EPMgOTqfG5k'}, 'id': '0zn6yzsbWj3EPMgOTqfG5k', 'followers': {'href': None, 'total': 130}}, {'href': 'https://api.spotify.com/v1/artists/6JUnsP7jmvYmdhbg7lTMQj', 'name': 'Lil Fate', 'genres': [], 'type': 'artist', 'uri': 'spotify:artist:6JUnsP7jmvYmdhbg7lTMQj', 'images': [], 'popularity': 34, 'external_urls': {'spotify': 'https://open.spotify.com/artist/6JUnsP7jmvYmdhbg7lTMQj'}, 'id': '6JUnsP7jmvYmdhbg7lTMQj', 'followers': {'href': None, 'total': 110}}, {'href': 'https://api.spotify.com/v1/artists/4Q5sPmM8j4SpMqL4UA1DtS', 'name': \"Lil' Flip\", 'genres': ['crunk', 'dirty south rap'], 'type': 'artist', 'uri': 'spotify:artist:4Q5sPmM8j4SpMqL4UA1DtS', 'images': [{'width': 1000, 'url': 'https://i.scdn.co/image/3767913038db1bbb8e971a3f93b4eb2c86b402c1', 'height': 810}, {'width': 640, 'url': 'https://i.scdn.co/image/dcc17914d52f5194f21ed73c2272701f940be220', 'height': 519}, {'width': 200, 'url': 'https://i.scdn.co/image/a645742d2b72d97d0abeb35eb880439f11013b1d', 'height': 162}, {'width': 64, 'url': 'https://i.scdn.co/image/d2f390e207477cdd0e2229429593f7dd99f08e54', 'height': 52}], 'popularity': 49, 'external_urls': {'spotify': 'https://open.spotify.com/artist/4Q5sPmM8j4SpMqL4UA1DtS'}, 'id': '4Q5sPmM8j4SpMqL4UA1DtS', 'followers': {'href': None, 'total': 19909}}]\n"
     ]
    }
   ],
   "source": [
    "print(data['artists']['items']) #calling out a dictionary inside of a dicitonary...and look below its a list '[]'"
   ]
  },
  {
   "cell_type": "code",
   "execution_count": 11,
   "metadata": {
    "collapsed": false,
    "scrolled": true
   },
   "outputs": [
    {
     "data": {
      "text/plain": [
       "{'external_urls': {'spotify': 'https://open.spotify.com/artist/55Aa2cqylxrFIXC767Z865'},\n",
       " 'followers': {'href': None, 'total': 2624859},\n",
       " 'genres': ['dirty south rap', 'pop rap', 'southern hip hop', 'trap music'],\n",
       " 'href': 'https://api.spotify.com/v1/artists/55Aa2cqylxrFIXC767Z865',\n",
       " 'id': '55Aa2cqylxrFIXC767Z865',\n",
       " 'images': [{'height': 1239,\n",
       "   'url': 'https://i.scdn.co/image/cf012139c3b8681b46a66bae70558a8a336ab231',\n",
       "   'width': 1000},\n",
       "  {'height': 793,\n",
       "   'url': 'https://i.scdn.co/image/fffd48d60e27901f6e9ce99423f045cb2b893944',\n",
       "   'width': 640},\n",
       "  {'height': 248,\n",
       "   'url': 'https://i.scdn.co/image/bf03141629c202e94b206f1374a39326a9d8c6ca',\n",
       "   'width': 200},\n",
       "  {'height': 79,\n",
       "   'url': 'https://i.scdn.co/image/521f99f2469883b8806a69a3a2487fdd983bd621',\n",
       "   'width': 64}],\n",
       " 'name': 'Lil Wayne',\n",
       " 'popularity': 86,\n",
       " 'type': 'artist',\n",
       " 'uri': 'spotify:artist:55Aa2cqylxrFIXC767Z865'}"
      ]
     },
     "execution_count": 11,
     "metadata": {},
     "output_type": "execute_result"
    }
   ],
   "source": [
    "data['artists']['items'][0] #set the list at zero. "
   ]
  },
  {
   "cell_type": "code",
   "execution_count": 14,
   "metadata": {
    "collapsed": false,
    "scrolled": true
   },
   "outputs": [
    {
     "name": "stdout",
     "output_type": "stream",
     "text": [
      "['dirty south rap', 'pop rap', 'southern hip hop', 'trap music']\n",
      "[]\n",
      "[]\n",
      "[]\n",
      "[]\n",
      "['crunk', 'dirty south rap', 'southern hip hop']\n",
      "[]\n",
      "[]\n",
      "[]\n",
      "[]\n",
      "[]\n",
      "['chicano rap', 'latin hip hop']\n",
      "[]\n",
      "[]\n",
      "['hip pop', 'pop rap']\n",
      "['crunk', 'dirty south rap', 'southern hip hop', 'trap music']\n",
      "['juggalo']\n",
      "[]\n",
      "[]\n",
      "['hip pop']\n",
      "[]\n",
      "['hip pop']\n",
      "['chicano rap']\n",
      "[]\n",
      "[]\n",
      "['jerk']\n",
      "['deep trap']\n",
      "[]\n",
      "[]\n",
      "[]\n",
      "[]\n",
      "[]\n",
      "[]\n",
      "['chicano rap']\n",
      "[]\n",
      "[]\n",
      "[]\n",
      "[]\n",
      "[]\n",
      "[]\n",
      "[]\n",
      "[]\n",
      "['freestyle']\n",
      "[]\n",
      "[]\n",
      "['soca']\n",
      "[]\n",
      "[]\n",
      "[]\n",
      "['crunk', 'dirty south rap']\n"
     ]
    }
   ],
   "source": [
    "artists = data['artists']['items'] #declare the dictionary and list as a variable to make it easier \n",
    "\n",
    "\n",
    "for artist in artists: \n",
    "    # print(artist.keys())\n",
    "    print(artist['genres'])\n",
    "    "
   ]
  },
  {
   "cell_type": "code",
   "execution_count": 15,
   "metadata": {
    "collapsed": true
   },
   "outputs": [],
   "source": [
    "from collections import Counter"
   ]
  },
  {
   "cell_type": "code",
   "execution_count": 16,
   "metadata": {
    "collapsed": false
   },
   "outputs": [
    {
     "name": "stdout",
     "output_type": "stream",
     "text": [
      "['dirty south rap', 'pop rap', 'southern hip hop', 'trap music', 'crunk', 'dirty south rap', 'southern hip hop', 'chicano rap', 'latin hip hop', 'hip pop', 'pop rap', 'crunk', 'dirty south rap', 'southern hip hop', 'trap music', 'juggalo', 'hip pop', 'hip pop', 'chicano rap', 'jerk', 'deep trap', 'chicano rap', 'freestyle', 'soca', 'crunk', 'dirty south rap']\n"
     ]
    }
   ],
   "source": [
    "artists = data['artists']['items']\n",
    "\n",
    "genre_list = []\n",
    "for artist in artists: \n",
    "    # print(artist.keys())\n",
    "    # print(artist['genres'])\n",
    "    genre_list = genre_list + artist['genres']\n",
    "\n",
    "print(genre_list)"
   ]
  },
  {
   "cell_type": "code",
   "execution_count": 17,
   "metadata": {
    "collapsed": false
   },
   "outputs": [
    {
     "data": {
      "text/plain": [
       "Counter({'chicano rap': 3,\n",
       "         'crunk': 3,\n",
       "         'deep trap': 1,\n",
       "         'dirty south rap': 4,\n",
       "         'freestyle': 1,\n",
       "         'hip pop': 3,\n",
       "         'jerk': 1,\n",
       "         'juggalo': 1,\n",
       "         'latin hip hop': 1,\n",
       "         'pop rap': 2,\n",
       "         'soca': 1,\n",
       "         'southern hip hop': 3,\n",
       "         'trap music': 2})"
      ]
     },
     "execution_count": 17,
     "metadata": {},
     "output_type": "execute_result"
    }
   ],
   "source": [
    "Counter(genre_list) #counter function - it rocks"
   ]
  },
  {
   "cell_type": "code",
   "execution_count": 19,
   "metadata": {
    "collapsed": false
   },
   "outputs": [
    {
     "data": {
      "text/plain": [
       "{'chicano rap',\n",
       " 'crunk',\n",
       " 'deep trap',\n",
       " 'dirty south rap',\n",
       " 'freestyle',\n",
       " 'hip pop',\n",
       " 'jerk',\n",
       " 'juggalo',\n",
       " 'latin hip hop',\n",
       " 'pop rap',\n",
       " 'soca',\n",
       " 'southern hip hop',\n",
       " 'trap music'}"
      ]
     },
     "execution_count": 19,
     "metadata": {},
     "output_type": "execute_result"
    }
   ],
   "source": [
    "unique_genres = set(genre_list)\n",
    "unique_genres"
   ]
  },
  {
   "cell_type": "code",
   "execution_count": 20,
   "metadata": {
    "collapsed": true
   },
   "outputs": [],
   "source": [
    "genre_count_dict = {}\n",
    "\n",
    "for unique_item in unique_genres: \n",
    "    count_variable = 0\n",
    "    \n",
    "    for item in genre_list:\n",
    "        \n",
    "        if item == unique_item:\n",
    "            count_variable = count_variable + 1\n",
    "            \n",
    "    genre_count_dict[unique_item] = count_variable "
   ]
  },
  {
   "cell_type": "code",
   "execution_count": 21,
   "metadata": {
    "collapsed": false
   },
   "outputs": [
    {
     "data": {
      "text/plain": [
       "{'chicano rap': 3,\n",
       " 'crunk': 3,\n",
       " 'deep trap': 1,\n",
       " 'dirty south rap': 4,\n",
       " 'freestyle': 1,\n",
       " 'hip pop': 3,\n",
       " 'jerk': 1,\n",
       " 'juggalo': 1,\n",
       " 'latin hip hop': 1,\n",
       " 'pop rap': 2,\n",
       " 'soca': 1,\n",
       " 'southern hip hop': 3,\n",
       " 'trap music': 2}"
      ]
     },
     "execution_count": 21,
     "metadata": {},
     "output_type": "execute_result"
    }
   ],
   "source": [
    "genre_count_dict"
   ]
  },
  {
   "cell_type": "markdown",
   "metadata": {},
   "source": [
    "# 3) Use a for loop to determine who BESIDES Lil Wayne has the highest popularity rating. Is it the same artist who has the largest number of followers?"
   ]
  },
  {
   "cell_type": "code",
   "execution_count": 8,
   "metadata": {
    "collapsed": false
   },
   "outputs": [
    {
     "name": "stdout",
     "output_type": "stream",
     "text": [
      "Looking at Lil Wayne who has a popularity score of 86\n",
      "Comparing 86 to 0 of\n",
      "Looking at Lil Yachty who has a popularity score of 72\n",
      "Comparing 72 to 0 of\n",
      "Looking at Lil Uzi Vert who has a popularity score of 72\n",
      "Comparing 72 to 72 of\n",
      "Looking at Lil Dicky who has a popularity score of 68\n",
      "Comparing 68 to 72 of\n",
      "Looking at Boosie Badazz who has a popularity score of 67\n",
      "Comparing 67 to 72 of\n",
      "Looking at Lil Jon who has a popularity score of 72\n",
      "Comparing 72 to 72 of\n",
      "Looking at King Lil G who has a popularity score of 61\n",
      "Comparing 61 to 72 of\n",
      "Looking at Lil Durk who has a popularity score of 60\n",
      "Comparing 60 to 72 of\n",
      "Looking at Lil Jon & The East Side Boyz who has a popularity score of 60\n",
      "Comparing 60 to 72 of\n",
      "Looking at Lil Bibby who has a popularity score of 54\n",
      "Comparing 54 to 72 of\n",
      "Looking at G Herbo who has a popularity score of 53\n",
      "Comparing 53 to 72 of\n",
      "Looking at Lil Rob who has a popularity score of 50\n",
      "Comparing 50 to 72 of\n",
      "Looking at Lil Reese who has a popularity score of 50\n",
      "Comparing 50 to 72 of\n",
      "Looking at Lil Keke who has a popularity score of 48\n",
      "Comparing 48 to 72 of\n",
      "Looking at Bow Wow who has a popularity score of 57\n",
      "Comparing 57 to 72 of\n",
      "Looking at Lil Scrappy who has a popularity score of 48\n",
      "Comparing 48 to 72 of\n",
      "Looking at Lil Wyte who has a popularity score of 50\n",
      "Comparing 50 to 72 of\n",
      "Looking at Lil Blood who has a popularity score of 45\n",
      "Comparing 45 to 72 of\n",
      "Looking at Lil Snupe who has a popularity score of 45\n",
      "Comparing 45 to 72 of\n",
      "Looking at Lil Mama who has a popularity score of 45\n",
      "Comparing 45 to 72 of\n",
      "Looking at Lil B who has a popularity score of 44\n",
      "Comparing 44 to 72 of\n",
      "Looking at Lil' Kim who has a popularity score of 62\n",
      "Comparing 62 to 72 of\n",
      "Looking at Lil Cuete who has a popularity score of 40\n",
      "Comparing 40 to 72 of\n",
      "Looking at Lil Phat who has a popularity score of 39\n",
      "Comparing 39 to 72 of\n",
      "Looking at Lil Debbie who has a popularity score of 43\n",
      "Comparing 43 to 72 of\n",
      "Looking at Lil Twist who has a popularity score of 39\n",
      "Comparing 39 to 72 of\n",
      "Looking at Lil Trill who has a popularity score of 37\n",
      "Comparing 37 to 72 of\n",
      "Looking at Lil Twon who has a popularity score of 38\n",
      "Comparing 38 to 72 of\n",
      "Looking at Lil AJ who has a popularity score of 37\n",
      "Comparing 37 to 72 of\n",
      "Looking at Lil Lonnie who has a popularity score of 37\n",
      "Comparing 37 to 72 of\n",
      "Looking at Lil Boom who has a popularity score of 35\n",
      "Comparing 35 to 72 of\n",
      "Looking at Lil Goofy who has a popularity score of 35\n",
      "Comparing 35 to 72 of\n",
      "Looking at Mr. Lil One who has a popularity score of 36\n",
      "Comparing 36 to 72 of\n",
      "Looking at Lil Haiti who has a popularity score of 36\n",
      "Comparing 36 to 72 of\n",
      "Looking at Lil Flash who has a popularity score of 38\n",
      "Comparing 38 to 72 of\n",
      "Looking at Lil Kesh who has a popularity score of 39\n",
      "Comparing 39 to 72 of\n",
      "Looking at Lil Cray who has a popularity score of 35\n",
      "Comparing 35 to 72 of\n",
      "Looking at Lil Silva who has a popularity score of 43\n",
      "Comparing 43 to 72 of\n",
      "Looking at Lil Rue who has a popularity score of 34\n",
      "Comparing 34 to 72 of\n",
      "Looking at Lil Eddie who has a popularity score of 41\n",
      "Comparing 41 to 72 of\n",
      "Looking at Lil Yase who has a popularity score of 33\n",
      "Comparing 33 to 72 of\n",
      "Looking at Lil Wayne, DJ Drama who has a popularity score of 35\n",
      "Comparing 35 to 72 of\n",
      "Looking at Lil Suzy who has a popularity score of 34\n",
      "Comparing 34 to 72 of\n",
      "Looking at Lil Mouse who has a popularity score of 34\n",
      "Comparing 34 to 72 of\n",
      "Looking at Lil C who has a popularity score of 33\n",
      "Comparing 33 to 72 of\n",
      "Looking at Lil Rick who has a popularity score of 39\n",
      "Comparing 39 to 72 of\n",
      "Looking at Lil June who has a popularity score of 32\n",
      "Comparing 32 to 72 of\n",
      "Looking at Lil E who has a popularity score of 34\n",
      "Comparing 34 to 72 of\n",
      "Looking at Lil Fate who has a popularity score of 34\n",
      "Comparing 34 to 72 of\n",
      "Looking at Lil' Flip who has a popularity score of 49\n",
      "Comparing 49 to 72 of\n",
      "Lil Yachty 72\n"
     ]
    }
   ],
   "source": [
    "most_popular_name = \"\"\n",
    "most_popular_score = 0\n",
    "for artist in artists:\n",
    "    print(\"Looking at\", artist['name'], \"who has a popularity score of\", artist['popularity'])\n",
    "\n",
    "    #THE CONDITIONAL - WHAT YOU'RE TESTING\n",
    "    print(\"Comparing\", artist['popularity'], \"to\", most_popular_score, \"of\")\n",
    "    if artist['popularity'] > most_popular_score and artist ['name'] != \"Lil Wayne\":\n",
    "        #THE CHANGE - WHAT YOU'RE KEEPING TRACK OF\n",
    "        most_popular_name = artist['name']\n",
    "        most_popular_score = artist['popularity']\n",
    "        \n",
    "print(most_popular_name, most_popular_score)\n",
    "    \n"
   ]
  },
  {
   "cell_type": "markdown",
   "metadata": {
    "collapsed": true
   },
   "source": [
    "# 4) Print a list of Lil's that are more popular than Lil' Kim."
   ]
  },
  {
   "cell_type": "code",
   "execution_count": 9,
   "metadata": {
    "collapsed": false
   },
   "outputs": [
    {
     "name": "stdout",
     "output_type": "stream",
     "text": [
      "Looking at Lil' Flip who has a popularity of 49\n",
      "Looking at Lil' Flip who has a popularity of 49\n",
      "Looking at Lil' Flip who has a popularity of 49\n",
      "Looking at Lil' Flip who has a popularity of 49\n",
      "Looking at Lil' Flip who has a popularity of 49\n",
      "Looking at Lil' Flip who has a popularity of 49\n",
      "Looking at Lil' Flip who has a popularity of 49\n",
      "Looking at Lil' Flip who has a popularity of 49\n",
      "Looking at Lil' Flip who has a popularity of 49\n",
      "Looking at Lil' Flip who has a popularity of 49\n",
      "Looking at Lil' Flip who has a popularity of 49\n",
      "Looking at Lil' Flip who has a popularity of 49\n",
      "Looking at Lil' Flip who has a popularity of 49\n",
      "Looking at Lil' Flip who has a popularity of 49\n",
      "Looking at Lil' Flip who has a popularity of 49\n",
      "Looking at Lil' Flip who has a popularity of 49\n",
      "Looking at Lil' Flip who has a popularity of 49\n",
      "Looking at Lil' Flip who has a popularity of 49\n",
      "Looking at Lil' Flip who has a popularity of 49\n",
      "Looking at Lil' Flip who has a popularity of 49\n",
      "Looking at Lil' Flip who has a popularity of 49\n",
      "Looking at Lil' Flip who has a popularity of 49\n",
      "Looking at Lil' Flip who has a popularity of 49\n",
      "Looking at Lil' Flip who has a popularity of 49\n",
      "Looking at Lil' Flip who has a popularity of 49\n",
      "Looking at Lil' Flip who has a popularity of 49\n",
      "Looking at Lil' Flip who has a popularity of 49\n",
      "Looking at Lil' Flip who has a popularity of 49\n",
      "Looking at Lil' Flip who has a popularity of 49\n",
      "Looking at Lil' Flip who has a popularity of 49\n",
      "Looking at Lil' Flip who has a popularity of 49\n",
      "Looking at Lil' Flip who has a popularity of 49\n",
      "Looking at Lil' Flip who has a popularity of 49\n",
      "Looking at Lil' Flip who has a popularity of 49\n",
      "Looking at Lil' Flip who has a popularity of 49\n",
      "Looking at Lil' Flip who has a popularity of 49\n",
      "Looking at Lil' Flip who has a popularity of 49\n",
      "Looking at Lil' Flip who has a popularity of 49\n",
      "Looking at Lil' Flip who has a popularity of 49\n",
      "Looking at Lil' Flip who has a popularity of 49\n",
      "Looking at Lil' Flip who has a popularity of 49\n",
      "Looking at Lil' Flip who has a popularity of 49\n",
      "Looking at Lil' Flip who has a popularity of 49\n",
      "Looking at Lil' Flip who has a popularity of 49\n",
      "Looking at Lil' Flip who has a popularity of 49\n",
      "Looking at Lil' Flip who has a popularity of 49\n",
      "Looking at Lil' Flip who has a popularity of 49\n",
      "Looking at Lil' Flip who has a popularity of 49\n",
      "Looking at Lil' Flip who has a popularity of 49\n",
      "Looking at Lil' Flip who has a popularity of 49\n",
      "OUR SECOND BEST ARTISTS ARE:\n"
     ]
    },
    {
     "ename": "TypeError",
     "evalue": "string indices must be integers",
     "output_type": "error",
     "traceback": [
      "\u001b[0;31m---------------------------------------------------------------------------\u001b[0m",
      "\u001b[0;31mTypeError\u001b[0m                                 Traceback (most recent call last)",
      "\u001b[0;32m<ipython-input-9-213c2e5aadf0>\u001b[0m in \u001b[0;36m<module>\u001b[0;34m()\u001b[0m\n\u001b[1;32m     18\u001b[0m \u001b[0;32mfor\u001b[0m \u001b[0martist\u001b[0m \u001b[0;32min\u001b[0m \u001b[0martists\u001b[0m\u001b[0;34m:\u001b[0m\u001b[0;34m\u001b[0m\u001b[0m\n\u001b[1;32m     19\u001b[0m     \u001b[0;31m#print(\"Looking at\", artist['name'])\u001b[0m\u001b[0;34m\u001b[0m\u001b[0;34m\u001b[0m\u001b[0m\n\u001b[0;32m---> 20\u001b[0;31m     \u001b[0;32mif\u001b[0m \u001b[0martist\u001b[0m\u001b[0;34m[\u001b[0m\u001b[0;34m'name'\u001b[0m\u001b[0;34m]\u001b[0m \u001b[0;34m==\u001b[0m \u001b[0;34m\"Lil' Kim\"\u001b[0m\u001b[0;34m:\u001b[0m\u001b[0;34m\u001b[0m\u001b[0m\n\u001b[0m\u001b[1;32m     21\u001b[0m         \u001b[0mprint\u001b[0m\u001b[0;34m(\u001b[0m\u001b[0;34m\"Found Lil' Kim\"\u001b[0m\u001b[0;34m)\u001b[0m\u001b[0;34m\u001b[0m\u001b[0m\n\u001b[1;32m     22\u001b[0m         \u001b[0mprint\u001b[0m\u001b[0;34m(\u001b[0m\u001b[0martist\u001b[0m\u001b[0;34m[\u001b[0m\u001b[0;34m'popularity'\u001b[0m\u001b[0;34m]\u001b[0m\u001b[0;34m)\u001b[0m\u001b[0;34m\u001b[0m\u001b[0m\n",
      "\u001b[0;31mTypeError\u001b[0m: string indices must be integers"
     ]
    }
   ],
   "source": [
    "target_score = 72 \n",
    "#PART ONE: INITIAL CONDITON\n",
    "\n",
    "second_best_artists = []\n",
    "#AGGREGATION PROBLEM - when you're looping through a series of objects and you someitmes you want to add some \n",
    "#of those objects to a DIFFERENT list\n",
    "for artists in artists:\n",
    "    print(\"Looking at\", artist['name'], \"who has a popularity of\", artist['popularity'])\n",
    "    #PART TWO: CONDITONAL - when we want to add someone to our list\n",
    "    if artist['popularity'] == 72:\n",
    "        #PART THREE: THE CHANGE - add artist to our list \n",
    "        second_best_artists.append(artist['name'])\n",
    "        \n",
    "print(\"OUR SECOND BEST ARTISTS ARE:\")\n",
    "for artist in second_best_artists:\n",
    "    print(artist)\n",
    "    \n",
    "for artist in artists:\n",
    "    #print(\"Looking at\", artist['name'])\n",
    "    if artist['name'] == \"Lil' Kim\":\n",
    "        print(\"Found Lil' Kim\")\n",
    "        print(artist['popularity'])\n",
    "    else: \n",
    "        pass\n",
    "        #print(\"Not Lil' Kim\")"
   ]
  },
  {
   "cell_type": "code",
   "execution_count": null,
   "metadata": {
    "collapsed": true
   },
   "outputs": [],
   "source": []
  },
  {
   "cell_type": "code",
   "execution_count": null,
   "metadata": {
    "collapsed": true
   },
   "outputs": [],
   "source": []
  },
  {
   "cell_type": "code",
   "execution_count": 116,
   "metadata": {
    "collapsed": false
   },
   "outputs": [
    {
     "ename": "TypeError",
     "evalue": "must use keyword argument for key function",
     "output_type": "error",
     "traceback": [
      "\u001b[0;31m---------------------------------------------------------------------------\u001b[0m",
      "\u001b[0;31mTypeError\u001b[0m                                 Traceback (most recent call last)",
      "\u001b[0;32m<ipython-input-116-73a343840eb1>\u001b[0m in \u001b[0;36m<module>\u001b[0;34m()\u001b[0m\n\u001b[1;32m      3\u001b[0m \u001b[0mdata\u001b[0m\u001b[0;34m.\u001b[0m\u001b[0mkeys\u001b[0m\u001b[0;34m(\u001b[0m\u001b[0;34m)\u001b[0m\u001b[0;34m\u001b[0m\u001b[0m\n\u001b[1;32m      4\u001b[0m \u001b[0martist_data\u001b[0m \u001b[0;34m=\u001b[0m \u001b[0mdata\u001b[0m\u001b[0;34m[\u001b[0m\u001b[0;34m'artists'\u001b[0m\u001b[0;34m]\u001b[0m\u001b[0;34m[\u001b[0m\u001b[0;34m'items'\u001b[0m\u001b[0;34m]\u001b[0m\u001b[0;34m\u001b[0m\u001b[0m\n\u001b[0;32m----> 5\u001b[0;31m \u001b[0martist_data\u001b[0m\u001b[0;34m.\u001b[0m\u001b[0msort\u001b[0m\u001b[0;34m(\u001b[0m\u001b[0;34m{\u001b[0m\u001b[0martist\u001b[0m\u001b[0;34m[\u001b[0m\u001b[0;34m'popularity'\u001b[0m\u001b[0;34m]\u001b[0m\u001b[0;34m}\u001b[0m\u001b[0;34m)\u001b[0m\u001b[0;34m\u001b[0m\u001b[0m\n\u001b[0m\u001b[1;32m      6\u001b[0m \u001b[0;32mfor\u001b[0m \u001b[0martist\u001b[0m \u001b[0;32min\u001b[0m \u001b[0martist_data\u001b[0m\u001b[0;34m:\u001b[0m\u001b[0;34m\u001b[0m\u001b[0m\n\u001b[1;32m      7\u001b[0m     \u001b[0;32mif\u001b[0m \u001b[0martist\u001b[0m \u001b[0;34m==\u001b[0m \u001b[0;34m'Lil Wayne'\u001b[0m\u001b[0;34m:\u001b[0m\u001b[0;34m\u001b[0m\u001b[0m\n",
      "\u001b[0;31mTypeError\u001b[0m: must use keyword argument for key function"
     ]
    }
   ],
   "source": []
  },
  {
   "cell_type": "code",
   "execution_count": 118,
   "metadata": {
    "collapsed": false
   },
   "outputs": [
    {
     "name": "stdout",
     "output_type": "stream",
     "text": [
      "Lil Wayne 86 ['dirty south rap', 'pop rap', 'southern hip hop', 'trap music']\n",
      "Lil Yachty 72 []\n",
      "Lil Uzi Vert 72 []\n",
      "Lil Dicky 68 []\n",
      "Boosie Badazz 67 []\n",
      "Lil Jon 72 ['crunk', 'dirty south rap', 'southern hip hop']\n",
      "King Lil G 61 []\n",
      "Lil Durk 60 []\n",
      "Lil Jon & The East Side Boyz 60 []\n",
      "Lil Bibby 54 []\n",
      "G Herbo 53 []\n",
      "Lil Rob 50 ['chicano rap', 'latin hip hop']\n",
      "Lil Reese 50 []\n",
      "Lil Keke 48 []\n",
      "Bow Wow 57 ['hip pop', 'pop rap']\n",
      "Lil Scrappy 49 ['crunk', 'dirty south rap', 'southern hip hop', 'trap music']\n",
      "Lil Wyte 50 ['juggalo']\n",
      "Lil Blood 45 []\n",
      "Lil Snupe 45 []\n",
      "Lil Mama 45 ['hip pop']\n",
      "Lil B 44 []\n",
      "Lil' Kim 62 ['hip pop']\n",
      "Lil Cuete 40 ['chicano rap']\n",
      "Lil Phat 39 []\n",
      "Lil Debbie 43 []\n",
      "Lil Twist 39 ['jerk']\n",
      "Lil Trill 37 ['deep trap']\n",
      "Lil Twon 38 []\n",
      "Lil AJ 37 []\n",
      "Lil Lonnie 36 []\n",
      "Lil Goofy 35 []\n",
      "Mr. Lil One 36 ['chicano rap']\n",
      "Lil Haiti 36 []\n",
      "Lil Flash 38 []\n",
      "Lil Kesh 39 []\n",
      "Lil Cray 35 []\n",
      "Lil Rue 34 []\n",
      "Lil Silva 43 []\n",
      "Lil Eddie 41 []\n",
      "Lil Boom 34 []\n",
      "Lil Yase 33 []\n",
      "Lil Wayne, DJ Drama 35 []\n",
      "Lil Suzy 34 ['freestyle']\n",
      "Lil Mouse 34 []\n",
      "Lil C 33 []\n",
      "Lil Rick 39 ['soca']\n",
      "Lil E 34 []\n",
      "Lil June 32 []\n",
      "Lil Fate 34 []\n",
      "Lil' Flip 49 ['crunk', 'dirty south rap']\n"
     ]
    }
   ],
   "source": [
    "import requests \n",
    "response = requests.get('https://api.spotify.com/v1/search?query=Lil+&offset=0&limit=50&type=artist&market=US')\n",
    "data = response.json()\n",
    "data.keys()\n",
    "artist_data = data['artists']['items']\n",
    "for artist in artist_data:\n",
    "    print(artist['name'], artist['popularity'], artist['genres']) "
   ]
  },
  {
   "cell_type": "markdown",
   "metadata": {
    "collapsed": true
   },
   "source": [
    "# 5) Pick two of your favorite Lils to fight it out, and use their IDs to print out their top tracks."
   ]
  },
  {
   "cell_type": "code",
   "execution_count": 26,
   "metadata": {
    "collapsed": false
   },
   "outputs": [
    {
     "name": "stdout",
     "output_type": "stream",
     "text": [
      "Lil Wayne ID is: 55Aa2cqylxrFIXC767Z865\n",
      "Lil Yachty ID is: 6icQOAFXDZKsumw3YXyusw\n",
      "Lil Uzi Vert ID is: 4O15NlyKLIASxsJ0PrXPfz\n",
      "Lil Dicky ID is: 1tqhsYv8yBBdwANFNzHtcr\n",
      "Boosie Badazz ID is: 6z7xFFHxYkE9t8bwIF0Bvg\n",
      "Lil Jon ID is: 7sfl4Xt5KmfyDs2T3SVSMK\n",
      "King Lil G ID is: 6L3x3if9RVimruryD9LoFb\n",
      "Lil Durk ID is: 3hcs9uc56yIGFCSy9leWe7\n",
      "Lil Jon & The East Side Boyz ID is: 3ciRvbBIVz9fBoPbtSYq4x\n",
      "Lil Bibby ID is: 4uSN8Y3kgFNVULUWsZEAVW\n",
      "G Herbo ID is: 5QdEbQJ3ylBnc3gsIASAT5\n",
      "Lil Rob ID is: 7B7TGqQe7QTVm2U6q8jzk1\n",
      "Lil Reese ID is: 1bPxKZtCdjB1aj1csBJpdS\n",
      "Lil Keke ID is: 1grI9x4Uzos1Asx8JmRW6T\n",
      "Bow Wow ID is: 7352aRY2mqSxBZwzUb6LmA\n",
      "Lil Scrappy ID is: 5einkgXXrjhfYCyac1FANB\n",
      "Lil Wyte ID is: 21O7WwRkik43ErKppxDKJq\n",
      "Lil Blood ID is: 74nSA5FdDOuuLw7Rn5JnuP\n",
      "Lil Snupe ID is: 42FaEHFfyxTdZQ5W28dXnj\n",
      "Lil Mama ID is: 5qK5bOC6wLtuLhG5KvU17c\n",
      "Lil B ID is: 4dqh62yIzDBmrMeBOLiP5F\n",
      "Lil' Kim ID is: 5tth2a3v0sWwV1C7bApBdX\n",
      "Lil Cuete ID is: 1I5u5Umau1AgHl0ZbPL1oR\n",
      "Lil Phat ID is: 3QnIBUOS4mUzs67rZ8r4c9\n",
      "Lil Debbie ID is: 3FNZcjyqT7F5upP99JV0oN\n",
      "Lil Twist ID is: 564gvOqSRcQoYAhaBpTiK2\n",
      "Lil Trill ID is: 5EQERGi7ffHvHsv3bnqzBn\n",
      "Lil Twon ID is: 5YZZbPdI7P7te3lW3dTpzK\n",
      "Lil AJ ID is: 2jXwYLNnCxNavms4mc1DYM\n",
      "Lil Lonnie ID is: 6zSBkdKFLKKggDtE3amfCk\n",
      "Lil Boom ID is: 1mmlWsyPJvvxMdabcGJjRn\n",
      "Lil Goofy ID is: 3rWaFjgOi5mjQfllMfN3VI\n",
      "Mr. Lil One ID is: 6tslWi0BXiDdtChermDzkU\n",
      "Lil Haiti ID is: 4E9dumwOMLlTyXUp1i2WdI\n",
      "Lil Flash ID is: 069qBEK34YGoX7nSIT74Eg\n",
      "Lil Kesh ID is: 38XiDu0kK3Z5jdHUDqBzNT\n",
      "Lil Cray ID is: 43BqexhEx5NKF7VfeOYP9m\n",
      "Lil Silva ID is: 2Kv0ApBohrL213X9avMrEn\n",
      "Lil Rue ID is: 4IFVaKBbEO8Qkurg6nmoc4\n",
      "Lil Eddie ID is: 5CY0QKsbUBpQJIE2yycsYi\n",
      "Lil Yase ID is: 4vIlHBnzWKbmWe8ZOkT1ZT\n",
      "Lil Wayne, DJ Drama ID is: 65npPa1U4cgobX9wU7Jgpb\n",
      "Lil Suzy ID is: 5HPsVk1MblCoa44WLJsQwN\n",
      "Lil Mouse ID is: 1cEHxCgGlEgqBc91YOcAEQ\n",
      "Lil C ID is: 69swdLSkKxCQBMYJ55O2mA\n",
      "Lil Rick ID is: 1qKzKUnuQsjB83hBZffoq0\n",
      "Lil June ID is: 3GH3KD2078kLPpEkN1UN26\n",
      "Lil E ID is: 0zn6yzsbWj3EPMgOTqfG5k\n",
      "Lil Fate ID is: 6JUnsP7jmvYmdhbg7lTMQj\n",
      "Lil' Flip ID is: 4Q5sPmM8j4SpMqL4UA1DtS\n"
     ]
    }
   ],
   "source": [
    "import requests\n",
    "response = requests.get('https://api.spotify.com/v1/search?query=Lil+&offset=0&limit=50&type=artist&market=US')\n",
    "data = response.json() \n",
    "data.keys()\n",
    "artist_data = data['artists']['items']\n",
    "for artist in artist_data:\n",
    "    print(artist['name'], \"ID is:\", artist['id']) "
   ]
  },
  {
   "cell_type": "code",
   "execution_count": 32,
   "metadata": {
    "collapsed": false
   },
   "outputs": [
    {
     "name": "stdout",
     "output_type": "stream",
     "text": [
      "{'tracks': [{'type': 'track', 'artists': [{'id': '3TVXtAsR1Inumwj472S9r4', 'external_urls': {'spotify': 'https://open.spotify.com/artist/3TVXtAsR1Inumwj472S9r4'}, 'uri': 'spotify:artist:3TVXtAsR1Inumwj472S9r4', 'name': 'Drake', 'href': 'https://api.spotify.com/v1/artists/3TVXtAsR1Inumwj472S9r4', 'type': 'artist'}, {'id': '5K4W6rqBFWDnAN6FQUkS6x', 'external_urls': {'spotify': 'https://open.spotify.com/artist/5K4W6rqBFWDnAN6FQUkS6x'}, 'uri': 'spotify:artist:5K4W6rqBFWDnAN6FQUkS6x', 'name': 'Kanye West', 'href': 'https://api.spotify.com/v1/artists/5K4W6rqBFWDnAN6FQUkS6x', 'type': 'artist'}, {'id': '55Aa2cqylxrFIXC767Z865', 'external_urls': {'spotify': 'https://open.spotify.com/artist/55Aa2cqylxrFIXC767Z865'}, 'uri': 'spotify:artist:55Aa2cqylxrFIXC767Z865', 'name': 'Lil Wayne', 'href': 'https://api.spotify.com/v1/artists/55Aa2cqylxrFIXC767Z865', 'type': 'artist'}, {'id': '7dGJo4pcD2V6oG8kP0tJRR', 'external_urls': {'spotify': 'https://open.spotify.com/artist/7dGJo4pcD2V6oG8kP0tJRR'}, 'uri': 'spotify:artist:7dGJo4pcD2V6oG8kP0tJRR', 'name': 'Eminem', 'href': 'https://api.spotify.com/v1/artists/7dGJo4pcD2V6oG8kP0tJRR', 'type': 'artist'}], 'uri': 'spotify:track:6HSqyfGnsHYw9MmIpa9zlZ', 'disc_number': 1, 'href': 'https://api.spotify.com/v1/tracks/6HSqyfGnsHYw9MmIpa9zlZ', 'album': {'id': '55UhXq8grzHPga0we8mEL3', 'external_urls': {'spotify': 'https://open.spotify.com/album/55UhXq8grzHPga0we8mEL3'}, 'album_type': 'album', 'images': [{'url': 'https://i.scdn.co/image/a6b8a73eadfad92e0f799b1e01194659478b4212', 'height': 640, 'width': 640}, {'url': 'https://i.scdn.co/image/9587d07e4d620d5685d0672a635111e9bf95d7fa', 'height': 300, 'width': 300}, {'url': 'https://i.scdn.co/image/aa7a54baefffb5543f22bf073187f1c64fe05fe8', 'height': 64, 'width': 64}], 'uri': 'spotify:album:55UhXq8grzHPga0we8mEL3', 'name': 'More Than A Game (Explicit Version)', 'available_markets': ['CA', 'US'], 'type': 'album', 'href': 'https://api.spotify.com/v1/albums/55UhXq8grzHPga0we8mEL3'}, 'popularity': 75, 'id': '6HSqyfGnsHYw9MmIpa9zlZ', 'external_urls': {'spotify': 'https://open.spotify.com/track/6HSqyfGnsHYw9MmIpa9zlZ'}, 'explicit': True, 'duration_ms': 357346, 'preview_url': 'https://p.scdn.co/mp3-preview/32e3b9950acbbff2defe8fcb8d2c16ec16c2e849', 'name': 'Forever', 'external_ids': {'isrc': 'USUM70985104'}, 'available_markets': ['CA', 'US'], 'track_number': 2}, {'type': 'track', 'artists': [{'id': '55Aa2cqylxrFIXC767Z865', 'external_urls': {'spotify': 'https://open.spotify.com/artist/55Aa2cqylxrFIXC767Z865'}, 'uri': 'spotify:artist:55Aa2cqylxrFIXC767Z865', 'name': 'Lil Wayne', 'href': 'https://api.spotify.com/v1/artists/55Aa2cqylxrFIXC767Z865', 'type': 'artist'}, {'id': '6VuMaDnrHyPL1p4EHjYLi7', 'external_urls': {'spotify': 'https://open.spotify.com/artist/6VuMaDnrHyPL1p4EHjYLi7'}, 'uri': 'spotify:artist:6VuMaDnrHyPL1p4EHjYLi7', 'name': 'Charlie Puth', 'href': 'https://api.spotify.com/v1/artists/6VuMaDnrHyPL1p4EHjYLi7', 'type': 'artist'}], 'uri': 'spotify:track:7rdjfrTBMNt3KaaGvSv3YG', 'disc_number': 1, 'href': 'https://api.spotify.com/v1/tracks/7rdjfrTBMNt3KaaGvSv3YG', 'album': {'id': '11e5zCxCAmhFTG5nnnZibS', 'external_urls': {'spotify': 'https://open.spotify.com/album/11e5zCxCAmhFTG5nnnZibS'}, 'album_type': 'single', 'images': [{'url': 'https://i.scdn.co/image/78a7e3e3bf80ee8f4cc6ab399bfeaabb051cc286', 'height': 640, 'width': 640}, {'url': 'https://i.scdn.co/image/5f81c2e23d2db40f585266f33629b61ceafb4aca', 'height': 300, 'width': 300}, {'url': 'https://i.scdn.co/image/8852e6149965e853f29070943bc15ff6f2e9327d', 'height': 64, 'width': 64}], 'uri': 'spotify:album:11e5zCxCAmhFTG5nnnZibS', 'name': 'Nothing But Trouble (Instagram Models)', 'available_markets': ['AR', 'AT', 'AU', 'BE', 'BG', 'BO', 'BR', 'CA', 'CH', 'CL', 'CO', 'CR', 'CY', 'CZ', 'DE', 'DK', 'DO', 'EC', 'EE', 'ES', 'FI', 'FR', 'GB', 'GR', 'GT', 'HK', 'HN', 'HU', 'ID', 'IE', 'IT', 'LT', 'LU', 'LV', 'MT', 'MX', 'MY', 'NI', 'NL', 'NO', 'NZ', 'PA', 'PE', 'PH', 'PL', 'PT', 'PY', 'SE', 'SG', 'SK', 'SV', 'TR', 'TW', 'US', 'UY'], 'type': 'album', 'href': 'https://api.spotify.com/v1/albums/11e5zCxCAmhFTG5nnnZibS'}, 'popularity': 73, 'id': '7rdjfrTBMNt3KaaGvSv3YG', 'external_urls': {'spotify': 'https://open.spotify.com/track/7rdjfrTBMNt3KaaGvSv3YG'}, 'explicit': True, 'duration_ms': 217984, 'preview_url': 'https://p.scdn.co/mp3-preview/8a2d81703492c433f4d6dc78f6d1f1c7736eea0f', 'name': 'Nothing But Trouble - Instagram Models', 'external_ids': {'isrc': 'USAT21502039'}, 'available_markets': ['AR', 'AT', 'AU', 'BE', 'BG', 'BO', 'BR', 'CA', 'CH', 'CL', 'CO', 'CR', 'CY', 'CZ', 'DE', 'DK', 'DO', 'EC', 'EE', 'ES', 'FI', 'FR', 'GB', 'GR', 'GT', 'HK', 'HN', 'HU', 'ID', 'IE', 'IT', 'LT', 'LU', 'LV', 'MT', 'MX', 'MY', 'NI', 'NL', 'NO', 'NZ', 'PA', 'PE', 'PH', 'PL', 'PT', 'PY', 'SE', 'SG', 'SK', 'SV', 'TR', 'TW', 'US', 'UY'], 'track_number': 1}, {'type': 'track', 'artists': [{'id': '55Aa2cqylxrFIXC767Z865', 'external_urls': {'spotify': 'https://open.spotify.com/artist/55Aa2cqylxrFIXC767Z865'}, 'uri': 'spotify:artist:55Aa2cqylxrFIXC767Z865', 'name': 'Lil Wayne', 'href': 'https://api.spotify.com/v1/artists/55Aa2cqylxrFIXC767Z865', 'type': 'artist'}, {'id': '7BAaznGSsqcksud4R5ou5z', 'external_urls': {'spotify': 'https://open.spotify.com/artist/7BAaznGSsqcksud4R5ou5z'}, 'uri': 'spotify:artist:7BAaznGSsqcksud4R5ou5z', 'name': 'Cory Gunz', 'href': 'https://api.spotify.com/v1/artists/7BAaznGSsqcksud4R5ou5z', 'type': 'artist'}], 'uri': 'spotify:track:0z5ZPs57J2KERwM1tBM2GF', 'disc_number': 1, 'href': 'https://api.spotify.com/v1/tracks/0z5ZPs57J2KERwM1tBM2GF', 'album': {'id': '1uuSC0RCJB3dSp8Mb6GflZ', 'external_urls': {'spotify': 'https://open.spotify.com/album/1uuSC0RCJB3dSp8Mb6GflZ'}, 'album_type': 'album', 'images': [{'url': 'https://i.scdn.co/image/bb20ca98170389c7c45a14abe9216e604da98d4f', 'height': 640, 'width': 640}, {'url': 'https://i.scdn.co/image/812e97e98d50d510ca824f54b4d794edc07354c6', 'height': 300, 'width': 300}, {'url': 'https://i.scdn.co/image/9749a519fc4d5ba101f2b8be471e35f9721f48cf', 'height': 64, 'width': 64}], 'uri': 'spotify:album:1uuSC0RCJB3dSp8Mb6GflZ', 'name': 'Tha Carter IV (Explicit Deluxe Version)', 'available_markets': ['CA', 'MX', 'US'], 'type': 'album', 'href': 'https://api.spotify.com/v1/albums/1uuSC0RCJB3dSp8Mb6GflZ'}, 'popularity': 72, 'id': '0z5ZPs57J2KERwM1tBM2GF', 'external_urls': {'spotify': 'https://open.spotify.com/track/0z5ZPs57J2KERwM1tBM2GF'}, 'explicit': True, 'duration_ms': 248586, 'preview_url': 'https://p.scdn.co/mp3-preview/94d08350df748b87fe42747919d44b22fa6e75a3', 'name': '6 Foot 7 Foot', 'external_ids': {'isrc': 'USCM51000869'}, 'available_markets': ['CA', 'MX', 'US'], 'track_number': 4}, {'type': 'track', 'artists': [{'id': '55Aa2cqylxrFIXC767Z865', 'external_urls': {'spotify': 'https://open.spotify.com/artist/55Aa2cqylxrFIXC767Z865'}, 'uri': 'spotify:artist:55Aa2cqylxrFIXC767Z865', 'name': 'Lil Wayne', 'href': 'https://api.spotify.com/v1/artists/55Aa2cqylxrFIXC767Z865', 'type': 'artist'}], 'uri': 'spotify:track:6ScJMrlpiLfZUGtWp4QIVt', 'disc_number': 1, 'href': 'https://api.spotify.com/v1/tracks/6ScJMrlpiLfZUGtWp4QIVt', 'album': {'id': '5BGzOpea6At0Nd7tYtYZOP', 'external_urls': {'spotify': 'https://open.spotify.com/album/5BGzOpea6At0Nd7tYtYZOP'}, 'album_type': 'album', 'images': [{'url': 'https://i.scdn.co/image/1e95bd64e9bb56969ee86b5eb82e10573aade640', 'height': 636, 'width': 640}, {'url': 'https://i.scdn.co/image/13c76a8a74c535ba88865e651c73f499ce2a6899', 'height': 298, 'width': 300}, {'url': 'https://i.scdn.co/image/171478dfee3f50e8ed8a9c193fc31a55eb5363d9', 'height': 64, 'width': 64}], 'uri': 'spotify:album:5BGzOpea6At0Nd7tYtYZOP', 'name': 'Tha Carter III (Explicit Version)', 'available_markets': ['CA', 'MX', 'US'], 'type': 'album', 'href': 'https://api.spotify.com/v1/albums/5BGzOpea6At0Nd7tYtYZOP'}, 'popularity': 71, 'id': '6ScJMrlpiLfZUGtWp4QIVt', 'external_urls': {'spotify': 'https://open.spotify.com/track/6ScJMrlpiLfZUGtWp4QIVt'}, 'explicit': True, 'duration_ms': 221840, 'preview_url': 'https://p.scdn.co/mp3-preview/c253c19dd772838dab5e61859a19a26a6bf9178e', 'name': 'A Milli', 'external_ids': {'isrc': 'USCM50800553'}, 'available_markets': ['CA', 'MX', 'US'], 'track_number': 3}, {'type': 'track', 'artists': [{'id': '55Aa2cqylxrFIXC767Z865', 'external_urls': {'spotify': 'https://open.spotify.com/artist/55Aa2cqylxrFIXC767Z865'}, 'uri': 'spotify:artist:55Aa2cqylxrFIXC767Z865', 'name': 'Lil Wayne', 'href': 'https://api.spotify.com/v1/artists/55Aa2cqylxrFIXC767Z865', 'type': 'artist'}, {'id': '3TVXtAsR1Inumwj472S9r4', 'external_urls': {'spotify': 'https://open.spotify.com/artist/3TVXtAsR1Inumwj472S9r4'}, 'uri': 'spotify:artist:3TVXtAsR1Inumwj472S9r4', 'name': 'Drake', 'href': 'https://api.spotify.com/v1/artists/3TVXtAsR1Inumwj472S9r4', 'type': 'artist'}], 'uri': 'spotify:track:1kMuU3TNQvHbqvXCWBodmP', 'disc_number': 1, 'href': 'https://api.spotify.com/v1/tracks/1kMuU3TNQvHbqvXCWBodmP', 'album': {'id': '5vfnsOgLqsgmEb3vGyc2FO', 'external_urls': {'spotify': 'https://open.spotify.com/album/5vfnsOgLqsgmEb3vGyc2FO'}, 'album_type': 'album', 'images': [{'url': 'https://i.scdn.co/image/a5fb0f9c08c39c235b09226bae313a47d9e11071', 'height': 640, 'width': 640}, {'url': 'https://i.scdn.co/image/dc40d342cd16df27bb0659da4c339013e8dd9132', 'height': 300, 'width': 300}, {'url': 'https://i.scdn.co/image/39c3c2b6714c005bcace0ed4d03d28833debcc8e', 'height': 64, 'width': 64}], 'uri': 'spotify:album:5vfnsOgLqsgmEb3vGyc2FO', 'name': 'I Am Not A Human Being', 'available_markets': ['CA', 'US'], 'type': 'album', 'href': 'https://api.spotify.com/v1/albums/5vfnsOgLqsgmEb3vGyc2FO'}, 'popularity': 70, 'id': '1kMuU3TNQvHbqvXCWBodmP', 'external_urls': {'spotify': 'https://open.spotify.com/track/1kMuU3TNQvHbqvXCWBodmP'}, 'explicit': True, 'duration_ms': 271946, 'preview_url': 'https://p.scdn.co/mp3-preview/cc40146ce4c9a9f5fc13f8e50cbfc3bd5b924926', 'name': 'Right Above It', 'external_ids': {'isrc': 'USCM51000537'}, 'available_markets': ['CA', 'US'], 'track_number': 7}, {'type': 'track', 'artists': [{'id': '55Aa2cqylxrFIXC767Z865', 'external_urls': {'spotify': 'https://open.spotify.com/artist/55Aa2cqylxrFIXC767Z865'}, 'uri': 'spotify:artist:55Aa2cqylxrFIXC767Z865', 'name': 'Lil Wayne', 'href': 'https://api.spotify.com/v1/artists/55Aa2cqylxrFIXC767Z865', 'type': 'artist'}, {'id': '3pbi8H08p95NUZ7m6ybxUV', 'external_urls': {'spotify': 'https://open.spotify.com/artist/3pbi8H08p95NUZ7m6ybxUV'}, 'uri': 'spotify:artist:3pbi8H08p95NUZ7m6ybxUV', 'name': 'Static Major', 'href': 'https://api.spotify.com/v1/artists/3pbi8H08p95NUZ7m6ybxUV', 'type': 'artist'}], 'uri': 'spotify:track:4P7VFiaZb3xrXoqGwZXC3J', 'disc_number': 1, 'href': 'https://api.spotify.com/v1/tracks/4P7VFiaZb3xrXoqGwZXC3J', 'album': {'id': '5BGzOpea6At0Nd7tYtYZOP', 'external_urls': {'spotify': 'https://open.spotify.com/album/5BGzOpea6At0Nd7tYtYZOP'}, 'album_type': 'album', 'images': [{'url': 'https://i.scdn.co/image/1e95bd64e9bb56969ee86b5eb82e10573aade640', 'height': 636, 'width': 640}, {'url': 'https://i.scdn.co/image/13c76a8a74c535ba88865e651c73f499ce2a6899', 'height': 298, 'width': 300}, {'url': 'https://i.scdn.co/image/171478dfee3f50e8ed8a9c193fc31a55eb5363d9', 'height': 64, 'width': 64}], 'uri': 'spotify:album:5BGzOpea6At0Nd7tYtYZOP', 'name': 'Tha Carter III (Explicit Version)', 'available_markets': ['CA', 'MX', 'US'], 'type': 'album', 'href': 'https://api.spotify.com/v1/albums/5BGzOpea6At0Nd7tYtYZOP'}, 'popularity': 67, 'id': '4P7VFiaZb3xrXoqGwZXC3J', 'external_urls': {'spotify': 'https://open.spotify.com/track/4P7VFiaZb3xrXoqGwZXC3J'}, 'explicit': True, 'duration_ms': 299333, 'preview_url': 'https://p.scdn.co/mp3-preview/6d6f464910c2af6fe6d07ae85baf9957d1a6b97e', 'name': 'Lollipop', 'external_ids': {'isrc': 'USCM50800556'}, 'available_markets': ['CA', 'MX', 'US'], 'track_number': 12}, {'type': 'track', 'artists': [{'id': '55Aa2cqylxrFIXC767Z865', 'external_urls': {'spotify': 'https://open.spotify.com/artist/55Aa2cqylxrFIXC767Z865'}, 'uri': 'spotify:artist:55Aa2cqylxrFIXC767Z865', 'name': 'Lil Wayne', 'href': 'https://api.spotify.com/v1/artists/55Aa2cqylxrFIXC767Z865', 'type': 'artist'}, {'id': '3TVXtAsR1Inumwj472S9r4', 'external_urls': {'spotify': 'https://open.spotify.com/artist/3TVXtAsR1Inumwj472S9r4'}, 'uri': 'spotify:artist:3TVXtAsR1Inumwj472S9r4', 'name': 'Drake', 'href': 'https://api.spotify.com/v1/artists/3TVXtAsR1Inumwj472S9r4', 'type': 'artist'}, {'id': '5EgHxnLSdBst14bCceq7S4', 'external_urls': {'spotify': 'https://open.spotify.com/artist/5EgHxnLSdBst14bCceq7S4'}, 'uri': 'spotify:artist:5EgHxnLSdBst14bCceq7S4', 'name': 'Future', 'href': 'https://api.spotify.com/v1/artists/5EgHxnLSdBst14bCceq7S4', 'type': 'artist'}], 'uri': 'spotify:track:7tGlzXJv6GD5e5qlu5YmDg', 'disc_number': 1, 'href': 'https://api.spotify.com/v1/tracks/7tGlzXJv6GD5e5qlu5YmDg', 'album': {'id': '4rhNBjL39LW5tuZgRShtnx', 'external_urls': {'spotify': 'https://open.spotify.com/album/4rhNBjL39LW5tuZgRShtnx'}, 'album_type': 'album', 'images': [{'url': 'https://i.scdn.co/image/225501989cd66237648841aa467776bb7072b04d', 'height': 640, 'width': 640}, {'url': 'https://i.scdn.co/image/fdbd68db46e3d18a65ac1aa782967006089e1932', 'height': 300, 'width': 300}, {'url': 'https://i.scdn.co/image/46175bc478f26b1cf6c02b5b7bb79a9436a374d4', 'height': 64, 'width': 64}], 'uri': 'spotify:album:4rhNBjL39LW5tuZgRShtnx', 'name': 'I Am Not A Human Being II (Explicit Deluxe Version)', 'available_markets': ['CA', 'MX', 'US'], 'type': 'album', 'href': 'https://api.spotify.com/v1/albums/4rhNBjL39LW5tuZgRShtnx'}, 'popularity': 67, 'id': '7tGlzXJv6GD5e5qlu5YmDg', 'external_urls': {'spotify': 'https://open.spotify.com/track/7tGlzXJv6GD5e5qlu5YmDg'}, 'explicit': True, 'duration_ms': 253440, 'preview_url': 'https://p.scdn.co/mp3-preview/3efea8f463a8de0c3fb99eaa51fd31d4a28f469e', 'name': 'Love Me', 'external_ids': {'isrc': 'USCM51300136'}, 'available_markets': ['CA', 'MX', 'US'], 'track_number': 11}, {'type': 'track', 'artists': [{'id': '55Aa2cqylxrFIXC767Z865', 'external_urls': {'spotify': 'https://open.spotify.com/artist/55Aa2cqylxrFIXC767Z865'}, 'uri': 'spotify:artist:55Aa2cqylxrFIXC767Z865', 'name': 'Lil Wayne', 'href': 'https://api.spotify.com/v1/artists/55Aa2cqylxrFIXC767Z865', 'type': 'artist'}, {'id': '17lzZA2AlOHwCwFALHttmp', 'external_urls': {'spotify': 'https://open.spotify.com/artist/17lzZA2AlOHwCwFALHttmp'}, 'uri': 'spotify:artist:17lzZA2AlOHwCwFALHttmp', 'name': '2 Chainz', 'href': 'https://api.spotify.com/v1/artists/17lzZA2AlOHwCwFALHttmp', 'type': 'artist'}], 'uri': 'spotify:track:3Eq7yD58dIXqOgw1j7NFhY', 'disc_number': 1, 'href': 'https://api.spotify.com/v1/tracks/3Eq7yD58dIXqOgw1j7NFhY', 'album': {'id': '4rhNBjL39LW5tuZgRShtnx', 'external_urls': {'spotify': 'https://open.spotify.com/album/4rhNBjL39LW5tuZgRShtnx'}, 'album_type': 'album', 'images': [{'url': 'https://i.scdn.co/image/225501989cd66237648841aa467776bb7072b04d', 'height': 640, 'width': 640}, {'url': 'https://i.scdn.co/image/fdbd68db46e3d18a65ac1aa782967006089e1932', 'height': 300, 'width': 300}, {'url': 'https://i.scdn.co/image/46175bc478f26b1cf6c02b5b7bb79a9436a374d4', 'height': 64, 'width': 64}], 'uri': 'spotify:album:4rhNBjL39LW5tuZgRShtnx', 'name': 'I Am Not A Human Being II (Explicit Deluxe Version)', 'available_markets': ['CA', 'MX', 'US'], 'type': 'album', 'href': 'https://api.spotify.com/v1/albums/4rhNBjL39LW5tuZgRShtnx'}, 'popularity': 67, 'id': '3Eq7yD58dIXqOgw1j7NFhY', 'external_urls': {'spotify': 'https://open.spotify.com/track/3Eq7yD58dIXqOgw1j7NFhY'}, 'explicit': True, 'duration_ms': 223173, 'preview_url': 'https://p.scdn.co/mp3-preview/583984dae504beedc6c32434ef8e91b7abd0fad5', 'name': 'Rich As Fuck', 'external_ids': {'isrc': 'USCM51300102'}, 'available_markets': ['CA', 'MX', 'US'], 'track_number': 9}, {'type': 'track', 'artists': [{'id': '55Aa2cqylxrFIXC767Z865', 'external_urls': {'spotify': 'https://open.spotify.com/artist/55Aa2cqylxrFIXC767Z865'}, 'uri': 'spotify:artist:55Aa2cqylxrFIXC767Z865', 'name': 'Lil Wayne', 'href': 'https://api.spotify.com/v1/artists/55Aa2cqylxrFIXC767Z865', 'type': 'artist'}, {'id': '0du5cEVh5yTK9QJze8zA0C', 'external_urls': {'spotify': 'https://open.spotify.com/artist/0du5cEVh5yTK9QJze8zA0C'}, 'uri': 'spotify:artist:0du5cEVh5yTK9QJze8zA0C', 'name': 'Bruno Mars', 'href': 'https://api.spotify.com/v1/artists/0du5cEVh5yTK9QJze8zA0C', 'type': 'artist'}], 'uri': 'spotify:track:05pdoheuKPSotkjMgIVX6I', 'disc_number': 1, 'href': 'https://api.spotify.com/v1/tracks/05pdoheuKPSotkjMgIVX6I', 'album': {'id': '1uuSC0RCJB3dSp8Mb6GflZ', 'external_urls': {'spotify': 'https://open.spotify.com/album/1uuSC0RCJB3dSp8Mb6GflZ'}, 'album_type': 'album', 'images': [{'url': 'https://i.scdn.co/image/bb20ca98170389c7c45a14abe9216e604da98d4f', 'height': 640, 'width': 640}, {'url': 'https://i.scdn.co/image/812e97e98d50d510ca824f54b4d794edc07354c6', 'height': 300, 'width': 300}, {'url': 'https://i.scdn.co/image/9749a519fc4d5ba101f2b8be471e35f9721f48cf', 'height': 64, 'width': 64}], 'uri': 'spotify:album:1uuSC0RCJB3dSp8Mb6GflZ', 'name': 'Tha Carter IV (Explicit Deluxe Version)', 'available_markets': ['CA', 'MX', 'US'], 'type': 'album', 'href': 'https://api.spotify.com/v1/albums/1uuSC0RCJB3dSp8Mb6GflZ'}, 'popularity': 66, 'id': '05pdoheuKPSotkjMgIVX6I', 'external_urls': {'spotify': 'https://open.spotify.com/track/05pdoheuKPSotkjMgIVX6I'}, 'explicit': True, 'duration_ms': 228093, 'preview_url': 'https://p.scdn.co/mp3-preview/6ed81a8520c587a9ea5f70b9ce5c4a4788719932', 'name': 'Mirror', 'external_ids': {'isrc': 'USCM51100327'}, 'available_markets': ['CA', 'MX', 'US'], 'track_number': 17}, {'type': 'track', 'artists': [{'id': '55Aa2cqylxrFIXC767Z865', 'external_urls': {'spotify': 'https://open.spotify.com/artist/55Aa2cqylxrFIXC767Z865'}, 'uri': 'spotify:artist:55Aa2cqylxrFIXC767Z865', 'name': 'Lil Wayne', 'href': 'https://api.spotify.com/v1/artists/55Aa2cqylxrFIXC767Z865', 'type': 'artist'}, {'id': '3TVXtAsR1Inumwj472S9r4', 'external_urls': {'spotify': 'https://open.spotify.com/artist/3TVXtAsR1Inumwj472S9r4'}, 'uri': 'spotify:artist:3TVXtAsR1Inumwj472S9r4', 'name': 'Drake', 'href': 'https://api.spotify.com/v1/artists/3TVXtAsR1Inumwj472S9r4', 'type': 'artist'}], 'uri': 'spotify:track:6t2eIONH4Sax3R21QWiKNp', 'disc_number': 1, 'href': 'https://api.spotify.com/v1/tracks/6t2eIONH4Sax3R21QWiKNp', 'album': {'id': '7pnplSgRtopeTNyCxBJf4n', 'external_urls': {'spotify': 'https://open.spotify.com/album/7pnplSgRtopeTNyCxBJf4n'}, 'album_type': 'single', 'images': [{'url': 'https://i.scdn.co/image/0bc1e0d8f7aec35cba1d8e7b8520b0fa56f9069f', 'height': 640, 'width': 640}, {'url': 'https://i.scdn.co/image/84023b423b3d28bb2c3a23bc8ce2d0af65488c81', 'height': 300, 'width': 300}, {'url': 'https://i.scdn.co/image/4255b6e46e34d2983285340860b691f4ee499635', 'height': 64, 'width': 64}], 'uri': 'spotify:album:7pnplSgRtopeTNyCxBJf4n', 'name': 'Believe Me', 'available_markets': ['CA', 'MX', 'US'], 'type': 'album', 'href': 'https://api.spotify.com/v1/albums/7pnplSgRtopeTNyCxBJf4n'}, 'popularity': 66, 'id': '6t2eIONH4Sax3R21QWiKNp', 'external_urls': {'spotify': 'https://open.spotify.com/track/6t2eIONH4Sax3R21QWiKNp'}, 'explicit': True, 'duration_ms': 337640, 'preview_url': 'https://p.scdn.co/mp3-preview/02f8361f4354964fc0d6ff0a6174f00f967b499f', 'name': 'Believe Me', 'external_ids': {'isrc': 'USCM51400173'}, 'available_markets': ['CA', 'MX', 'US'], 'track_number': 1}]}\n",
      "<class 'dict'>\n"
     ]
    }
   ],
   "source": [
    "import requests\n",
    "response = requests.get('https://api.spotify.com/v1/artists/55Aa2cqylxrFIXC767Z865/top-tracks?country=US')\n",
    "lil_wayne = response.json() \n",
    "print(lil_wayne)\n",
    "type(lil_wayne)\n",
    "print(type(lil_wayne))\n"
   ]
  },
  {
   "cell_type": "code",
   "execution_count": 33,
   "metadata": {
    "collapsed": false
   },
   "outputs": [
    {
     "name": "stdout",
     "output_type": "stream",
     "text": [
      "dict_keys(['tracks'])\n"
     ]
    }
   ],
   "source": [
    "print(lil_wayne.keys())"
   ]
  },
  {
   "cell_type": "code",
   "execution_count": 36,
   "metadata": {
    "collapsed": false
   },
   "outputs": [
    {
     "name": "stdout",
     "output_type": "stream",
     "text": [
      "[{'type': 'track', 'artists': [{'id': '3TVXtAsR1Inumwj472S9r4', 'external_urls': {'spotify': 'https://open.spotify.com/artist/3TVXtAsR1Inumwj472S9r4'}, 'uri': 'spotify:artist:3TVXtAsR1Inumwj472S9r4', 'name': 'Drake', 'href': 'https://api.spotify.com/v1/artists/3TVXtAsR1Inumwj472S9r4', 'type': 'artist'}, {'id': '5K4W6rqBFWDnAN6FQUkS6x', 'external_urls': {'spotify': 'https://open.spotify.com/artist/5K4W6rqBFWDnAN6FQUkS6x'}, 'uri': 'spotify:artist:5K4W6rqBFWDnAN6FQUkS6x', 'name': 'Kanye West', 'href': 'https://api.spotify.com/v1/artists/5K4W6rqBFWDnAN6FQUkS6x', 'type': 'artist'}, {'id': '55Aa2cqylxrFIXC767Z865', 'external_urls': {'spotify': 'https://open.spotify.com/artist/55Aa2cqylxrFIXC767Z865'}, 'uri': 'spotify:artist:55Aa2cqylxrFIXC767Z865', 'name': 'Lil Wayne', 'href': 'https://api.spotify.com/v1/artists/55Aa2cqylxrFIXC767Z865', 'type': 'artist'}, {'id': '7dGJo4pcD2V6oG8kP0tJRR', 'external_urls': {'spotify': 'https://open.spotify.com/artist/7dGJo4pcD2V6oG8kP0tJRR'}, 'uri': 'spotify:artist:7dGJo4pcD2V6oG8kP0tJRR', 'name': 'Eminem', 'href': 'https://api.spotify.com/v1/artists/7dGJo4pcD2V6oG8kP0tJRR', 'type': 'artist'}], 'uri': 'spotify:track:6HSqyfGnsHYw9MmIpa9zlZ', 'disc_number': 1, 'href': 'https://api.spotify.com/v1/tracks/6HSqyfGnsHYw9MmIpa9zlZ', 'album': {'id': '55UhXq8grzHPga0we8mEL3', 'external_urls': {'spotify': 'https://open.spotify.com/album/55UhXq8grzHPga0we8mEL3'}, 'album_type': 'album', 'images': [{'url': 'https://i.scdn.co/image/a6b8a73eadfad92e0f799b1e01194659478b4212', 'height': 640, 'width': 640}, {'url': 'https://i.scdn.co/image/9587d07e4d620d5685d0672a635111e9bf95d7fa', 'height': 300, 'width': 300}, {'url': 'https://i.scdn.co/image/aa7a54baefffb5543f22bf073187f1c64fe05fe8', 'height': 64, 'width': 64}], 'uri': 'spotify:album:55UhXq8grzHPga0we8mEL3', 'name': 'More Than A Game (Explicit Version)', 'available_markets': ['CA', 'US'], 'type': 'album', 'href': 'https://api.spotify.com/v1/albums/55UhXq8grzHPga0we8mEL3'}, 'popularity': 75, 'id': '6HSqyfGnsHYw9MmIpa9zlZ', 'external_urls': {'spotify': 'https://open.spotify.com/track/6HSqyfGnsHYw9MmIpa9zlZ'}, 'explicit': True, 'duration_ms': 357346, 'preview_url': 'https://p.scdn.co/mp3-preview/32e3b9950acbbff2defe8fcb8d2c16ec16c2e849', 'name': 'Forever', 'external_ids': {'isrc': 'USUM70985104'}, 'available_markets': ['CA', 'US'], 'track_number': 2}, {'type': 'track', 'artists': [{'id': '55Aa2cqylxrFIXC767Z865', 'external_urls': {'spotify': 'https://open.spotify.com/artist/55Aa2cqylxrFIXC767Z865'}, 'uri': 'spotify:artist:55Aa2cqylxrFIXC767Z865', 'name': 'Lil Wayne', 'href': 'https://api.spotify.com/v1/artists/55Aa2cqylxrFIXC767Z865', 'type': 'artist'}, {'id': '6VuMaDnrHyPL1p4EHjYLi7', 'external_urls': {'spotify': 'https://open.spotify.com/artist/6VuMaDnrHyPL1p4EHjYLi7'}, 'uri': 'spotify:artist:6VuMaDnrHyPL1p4EHjYLi7', 'name': 'Charlie Puth', 'href': 'https://api.spotify.com/v1/artists/6VuMaDnrHyPL1p4EHjYLi7', 'type': 'artist'}], 'uri': 'spotify:track:7rdjfrTBMNt3KaaGvSv3YG', 'disc_number': 1, 'href': 'https://api.spotify.com/v1/tracks/7rdjfrTBMNt3KaaGvSv3YG', 'album': {'id': '11e5zCxCAmhFTG5nnnZibS', 'external_urls': {'spotify': 'https://open.spotify.com/album/11e5zCxCAmhFTG5nnnZibS'}, 'album_type': 'single', 'images': [{'url': 'https://i.scdn.co/image/78a7e3e3bf80ee8f4cc6ab399bfeaabb051cc286', 'height': 640, 'width': 640}, {'url': 'https://i.scdn.co/image/5f81c2e23d2db40f585266f33629b61ceafb4aca', 'height': 300, 'width': 300}, {'url': 'https://i.scdn.co/image/8852e6149965e853f29070943bc15ff6f2e9327d', 'height': 64, 'width': 64}], 'uri': 'spotify:album:11e5zCxCAmhFTG5nnnZibS', 'name': 'Nothing But Trouble (Instagram Models)', 'available_markets': ['AR', 'AT', 'AU', 'BE', 'BG', 'BO', 'BR', 'CA', 'CH', 'CL', 'CO', 'CR', 'CY', 'CZ', 'DE', 'DK', 'DO', 'EC', 'EE', 'ES', 'FI', 'FR', 'GB', 'GR', 'GT', 'HK', 'HN', 'HU', 'ID', 'IE', 'IT', 'LT', 'LU', 'LV', 'MT', 'MX', 'MY', 'NI', 'NL', 'NO', 'NZ', 'PA', 'PE', 'PH', 'PL', 'PT', 'PY', 'SE', 'SG', 'SK', 'SV', 'TR', 'TW', 'US', 'UY'], 'type': 'album', 'href': 'https://api.spotify.com/v1/albums/11e5zCxCAmhFTG5nnnZibS'}, 'popularity': 73, 'id': '7rdjfrTBMNt3KaaGvSv3YG', 'external_urls': {'spotify': 'https://open.spotify.com/track/7rdjfrTBMNt3KaaGvSv3YG'}, 'explicit': True, 'duration_ms': 217984, 'preview_url': 'https://p.scdn.co/mp3-preview/8a2d81703492c433f4d6dc78f6d1f1c7736eea0f', 'name': 'Nothing But Trouble - Instagram Models', 'external_ids': {'isrc': 'USAT21502039'}, 'available_markets': ['AR', 'AT', 'AU', 'BE', 'BG', 'BO', 'BR', 'CA', 'CH', 'CL', 'CO', 'CR', 'CY', 'CZ', 'DE', 'DK', 'DO', 'EC', 'EE', 'ES', 'FI', 'FR', 'GB', 'GR', 'GT', 'HK', 'HN', 'HU', 'ID', 'IE', 'IT', 'LT', 'LU', 'LV', 'MT', 'MX', 'MY', 'NI', 'NL', 'NO', 'NZ', 'PA', 'PE', 'PH', 'PL', 'PT', 'PY', 'SE', 'SG', 'SK', 'SV', 'TR', 'TW', 'US', 'UY'], 'track_number': 1}, {'type': 'track', 'artists': [{'id': '55Aa2cqylxrFIXC767Z865', 'external_urls': {'spotify': 'https://open.spotify.com/artist/55Aa2cqylxrFIXC767Z865'}, 'uri': 'spotify:artist:55Aa2cqylxrFIXC767Z865', 'name': 'Lil Wayne', 'href': 'https://api.spotify.com/v1/artists/55Aa2cqylxrFIXC767Z865', 'type': 'artist'}, {'id': '7BAaznGSsqcksud4R5ou5z', 'external_urls': {'spotify': 'https://open.spotify.com/artist/7BAaznGSsqcksud4R5ou5z'}, 'uri': 'spotify:artist:7BAaznGSsqcksud4R5ou5z', 'name': 'Cory Gunz', 'href': 'https://api.spotify.com/v1/artists/7BAaznGSsqcksud4R5ou5z', 'type': 'artist'}], 'uri': 'spotify:track:0z5ZPs57J2KERwM1tBM2GF', 'disc_number': 1, 'href': 'https://api.spotify.com/v1/tracks/0z5ZPs57J2KERwM1tBM2GF', 'album': {'id': '1uuSC0RCJB3dSp8Mb6GflZ', 'external_urls': {'spotify': 'https://open.spotify.com/album/1uuSC0RCJB3dSp8Mb6GflZ'}, 'album_type': 'album', 'images': [{'url': 'https://i.scdn.co/image/bb20ca98170389c7c45a14abe9216e604da98d4f', 'height': 640, 'width': 640}, {'url': 'https://i.scdn.co/image/812e97e98d50d510ca824f54b4d794edc07354c6', 'height': 300, 'width': 300}, {'url': 'https://i.scdn.co/image/9749a519fc4d5ba101f2b8be471e35f9721f48cf', 'height': 64, 'width': 64}], 'uri': 'spotify:album:1uuSC0RCJB3dSp8Mb6GflZ', 'name': 'Tha Carter IV (Explicit Deluxe Version)', 'available_markets': ['CA', 'MX', 'US'], 'type': 'album', 'href': 'https://api.spotify.com/v1/albums/1uuSC0RCJB3dSp8Mb6GflZ'}, 'popularity': 72, 'id': '0z5ZPs57J2KERwM1tBM2GF', 'external_urls': {'spotify': 'https://open.spotify.com/track/0z5ZPs57J2KERwM1tBM2GF'}, 'explicit': True, 'duration_ms': 248586, 'preview_url': 'https://p.scdn.co/mp3-preview/94d08350df748b87fe42747919d44b22fa6e75a3', 'name': '6 Foot 7 Foot', 'external_ids': {'isrc': 'USCM51000869'}, 'available_markets': ['CA', 'MX', 'US'], 'track_number': 4}, {'type': 'track', 'artists': [{'id': '55Aa2cqylxrFIXC767Z865', 'external_urls': {'spotify': 'https://open.spotify.com/artist/55Aa2cqylxrFIXC767Z865'}, 'uri': 'spotify:artist:55Aa2cqylxrFIXC767Z865', 'name': 'Lil Wayne', 'href': 'https://api.spotify.com/v1/artists/55Aa2cqylxrFIXC767Z865', 'type': 'artist'}], 'uri': 'spotify:track:6ScJMrlpiLfZUGtWp4QIVt', 'disc_number': 1, 'href': 'https://api.spotify.com/v1/tracks/6ScJMrlpiLfZUGtWp4QIVt', 'album': {'id': '5BGzOpea6At0Nd7tYtYZOP', 'external_urls': {'spotify': 'https://open.spotify.com/album/5BGzOpea6At0Nd7tYtYZOP'}, 'album_type': 'album', 'images': [{'url': 'https://i.scdn.co/image/1e95bd64e9bb56969ee86b5eb82e10573aade640', 'height': 636, 'width': 640}, {'url': 'https://i.scdn.co/image/13c76a8a74c535ba88865e651c73f499ce2a6899', 'height': 298, 'width': 300}, {'url': 'https://i.scdn.co/image/171478dfee3f50e8ed8a9c193fc31a55eb5363d9', 'height': 64, 'width': 64}], 'uri': 'spotify:album:5BGzOpea6At0Nd7tYtYZOP', 'name': 'Tha Carter III (Explicit Version)', 'available_markets': ['CA', 'MX', 'US'], 'type': 'album', 'href': 'https://api.spotify.com/v1/albums/5BGzOpea6At0Nd7tYtYZOP'}, 'popularity': 71, 'id': '6ScJMrlpiLfZUGtWp4QIVt', 'external_urls': {'spotify': 'https://open.spotify.com/track/6ScJMrlpiLfZUGtWp4QIVt'}, 'explicit': True, 'duration_ms': 221840, 'preview_url': 'https://p.scdn.co/mp3-preview/c253c19dd772838dab5e61859a19a26a6bf9178e', 'name': 'A Milli', 'external_ids': {'isrc': 'USCM50800553'}, 'available_markets': ['CA', 'MX', 'US'], 'track_number': 3}, {'type': 'track', 'artists': [{'id': '55Aa2cqylxrFIXC767Z865', 'external_urls': {'spotify': 'https://open.spotify.com/artist/55Aa2cqylxrFIXC767Z865'}, 'uri': 'spotify:artist:55Aa2cqylxrFIXC767Z865', 'name': 'Lil Wayne', 'href': 'https://api.spotify.com/v1/artists/55Aa2cqylxrFIXC767Z865', 'type': 'artist'}, {'id': '3TVXtAsR1Inumwj472S9r4', 'external_urls': {'spotify': 'https://open.spotify.com/artist/3TVXtAsR1Inumwj472S9r4'}, 'uri': 'spotify:artist:3TVXtAsR1Inumwj472S9r4', 'name': 'Drake', 'href': 'https://api.spotify.com/v1/artists/3TVXtAsR1Inumwj472S9r4', 'type': 'artist'}], 'uri': 'spotify:track:1kMuU3TNQvHbqvXCWBodmP', 'disc_number': 1, 'href': 'https://api.spotify.com/v1/tracks/1kMuU3TNQvHbqvXCWBodmP', 'album': {'id': '5vfnsOgLqsgmEb3vGyc2FO', 'external_urls': {'spotify': 'https://open.spotify.com/album/5vfnsOgLqsgmEb3vGyc2FO'}, 'album_type': 'album', 'images': [{'url': 'https://i.scdn.co/image/a5fb0f9c08c39c235b09226bae313a47d9e11071', 'height': 640, 'width': 640}, {'url': 'https://i.scdn.co/image/dc40d342cd16df27bb0659da4c339013e8dd9132', 'height': 300, 'width': 300}, {'url': 'https://i.scdn.co/image/39c3c2b6714c005bcace0ed4d03d28833debcc8e', 'height': 64, 'width': 64}], 'uri': 'spotify:album:5vfnsOgLqsgmEb3vGyc2FO', 'name': 'I Am Not A Human Being', 'available_markets': ['CA', 'US'], 'type': 'album', 'href': 'https://api.spotify.com/v1/albums/5vfnsOgLqsgmEb3vGyc2FO'}, 'popularity': 70, 'id': '1kMuU3TNQvHbqvXCWBodmP', 'external_urls': {'spotify': 'https://open.spotify.com/track/1kMuU3TNQvHbqvXCWBodmP'}, 'explicit': True, 'duration_ms': 271946, 'preview_url': 'https://p.scdn.co/mp3-preview/cc40146ce4c9a9f5fc13f8e50cbfc3bd5b924926', 'name': 'Right Above It', 'external_ids': {'isrc': 'USCM51000537'}, 'available_markets': ['CA', 'US'], 'track_number': 7}, {'type': 'track', 'artists': [{'id': '55Aa2cqylxrFIXC767Z865', 'external_urls': {'spotify': 'https://open.spotify.com/artist/55Aa2cqylxrFIXC767Z865'}, 'uri': 'spotify:artist:55Aa2cqylxrFIXC767Z865', 'name': 'Lil Wayne', 'href': 'https://api.spotify.com/v1/artists/55Aa2cqylxrFIXC767Z865', 'type': 'artist'}, {'id': '3pbi8H08p95NUZ7m6ybxUV', 'external_urls': {'spotify': 'https://open.spotify.com/artist/3pbi8H08p95NUZ7m6ybxUV'}, 'uri': 'spotify:artist:3pbi8H08p95NUZ7m6ybxUV', 'name': 'Static Major', 'href': 'https://api.spotify.com/v1/artists/3pbi8H08p95NUZ7m6ybxUV', 'type': 'artist'}], 'uri': 'spotify:track:4P7VFiaZb3xrXoqGwZXC3J', 'disc_number': 1, 'href': 'https://api.spotify.com/v1/tracks/4P7VFiaZb3xrXoqGwZXC3J', 'album': {'id': '5BGzOpea6At0Nd7tYtYZOP', 'external_urls': {'spotify': 'https://open.spotify.com/album/5BGzOpea6At0Nd7tYtYZOP'}, 'album_type': 'album', 'images': [{'url': 'https://i.scdn.co/image/1e95bd64e9bb56969ee86b5eb82e10573aade640', 'height': 636, 'width': 640}, {'url': 'https://i.scdn.co/image/13c76a8a74c535ba88865e651c73f499ce2a6899', 'height': 298, 'width': 300}, {'url': 'https://i.scdn.co/image/171478dfee3f50e8ed8a9c193fc31a55eb5363d9', 'height': 64, 'width': 64}], 'uri': 'spotify:album:5BGzOpea6At0Nd7tYtYZOP', 'name': 'Tha Carter III (Explicit Version)', 'available_markets': ['CA', 'MX', 'US'], 'type': 'album', 'href': 'https://api.spotify.com/v1/albums/5BGzOpea6At0Nd7tYtYZOP'}, 'popularity': 67, 'id': '4P7VFiaZb3xrXoqGwZXC3J', 'external_urls': {'spotify': 'https://open.spotify.com/track/4P7VFiaZb3xrXoqGwZXC3J'}, 'explicit': True, 'duration_ms': 299333, 'preview_url': 'https://p.scdn.co/mp3-preview/6d6f464910c2af6fe6d07ae85baf9957d1a6b97e', 'name': 'Lollipop', 'external_ids': {'isrc': 'USCM50800556'}, 'available_markets': ['CA', 'MX', 'US'], 'track_number': 12}, {'type': 'track', 'artists': [{'id': '55Aa2cqylxrFIXC767Z865', 'external_urls': {'spotify': 'https://open.spotify.com/artist/55Aa2cqylxrFIXC767Z865'}, 'uri': 'spotify:artist:55Aa2cqylxrFIXC767Z865', 'name': 'Lil Wayne', 'href': 'https://api.spotify.com/v1/artists/55Aa2cqylxrFIXC767Z865', 'type': 'artist'}, {'id': '3TVXtAsR1Inumwj472S9r4', 'external_urls': {'spotify': 'https://open.spotify.com/artist/3TVXtAsR1Inumwj472S9r4'}, 'uri': 'spotify:artist:3TVXtAsR1Inumwj472S9r4', 'name': 'Drake', 'href': 'https://api.spotify.com/v1/artists/3TVXtAsR1Inumwj472S9r4', 'type': 'artist'}, {'id': '5EgHxnLSdBst14bCceq7S4', 'external_urls': {'spotify': 'https://open.spotify.com/artist/5EgHxnLSdBst14bCceq7S4'}, 'uri': 'spotify:artist:5EgHxnLSdBst14bCceq7S4', 'name': 'Future', 'href': 'https://api.spotify.com/v1/artists/5EgHxnLSdBst14bCceq7S4', 'type': 'artist'}], 'uri': 'spotify:track:7tGlzXJv6GD5e5qlu5YmDg', 'disc_number': 1, 'href': 'https://api.spotify.com/v1/tracks/7tGlzXJv6GD5e5qlu5YmDg', 'album': {'id': '4rhNBjL39LW5tuZgRShtnx', 'external_urls': {'spotify': 'https://open.spotify.com/album/4rhNBjL39LW5tuZgRShtnx'}, 'album_type': 'album', 'images': [{'url': 'https://i.scdn.co/image/225501989cd66237648841aa467776bb7072b04d', 'height': 640, 'width': 640}, {'url': 'https://i.scdn.co/image/fdbd68db46e3d18a65ac1aa782967006089e1932', 'height': 300, 'width': 300}, {'url': 'https://i.scdn.co/image/46175bc478f26b1cf6c02b5b7bb79a9436a374d4', 'height': 64, 'width': 64}], 'uri': 'spotify:album:4rhNBjL39LW5tuZgRShtnx', 'name': 'I Am Not A Human Being II (Explicit Deluxe Version)', 'available_markets': ['CA', 'MX', 'US'], 'type': 'album', 'href': 'https://api.spotify.com/v1/albums/4rhNBjL39LW5tuZgRShtnx'}, 'popularity': 67, 'id': '7tGlzXJv6GD5e5qlu5YmDg', 'external_urls': {'spotify': 'https://open.spotify.com/track/7tGlzXJv6GD5e5qlu5YmDg'}, 'explicit': True, 'duration_ms': 253440, 'preview_url': 'https://p.scdn.co/mp3-preview/3efea8f463a8de0c3fb99eaa51fd31d4a28f469e', 'name': 'Love Me', 'external_ids': {'isrc': 'USCM51300136'}, 'available_markets': ['CA', 'MX', 'US'], 'track_number': 11}, {'type': 'track', 'artists': [{'id': '55Aa2cqylxrFIXC767Z865', 'external_urls': {'spotify': 'https://open.spotify.com/artist/55Aa2cqylxrFIXC767Z865'}, 'uri': 'spotify:artist:55Aa2cqylxrFIXC767Z865', 'name': 'Lil Wayne', 'href': 'https://api.spotify.com/v1/artists/55Aa2cqylxrFIXC767Z865', 'type': 'artist'}, {'id': '17lzZA2AlOHwCwFALHttmp', 'external_urls': {'spotify': 'https://open.spotify.com/artist/17lzZA2AlOHwCwFALHttmp'}, 'uri': 'spotify:artist:17lzZA2AlOHwCwFALHttmp', 'name': '2 Chainz', 'href': 'https://api.spotify.com/v1/artists/17lzZA2AlOHwCwFALHttmp', 'type': 'artist'}], 'uri': 'spotify:track:3Eq7yD58dIXqOgw1j7NFhY', 'disc_number': 1, 'href': 'https://api.spotify.com/v1/tracks/3Eq7yD58dIXqOgw1j7NFhY', 'album': {'id': '4rhNBjL39LW5tuZgRShtnx', 'external_urls': {'spotify': 'https://open.spotify.com/album/4rhNBjL39LW5tuZgRShtnx'}, 'album_type': 'album', 'images': [{'url': 'https://i.scdn.co/image/225501989cd66237648841aa467776bb7072b04d', 'height': 640, 'width': 640}, {'url': 'https://i.scdn.co/image/fdbd68db46e3d18a65ac1aa782967006089e1932', 'height': 300, 'width': 300}, {'url': 'https://i.scdn.co/image/46175bc478f26b1cf6c02b5b7bb79a9436a374d4', 'height': 64, 'width': 64}], 'uri': 'spotify:album:4rhNBjL39LW5tuZgRShtnx', 'name': 'I Am Not A Human Being II (Explicit Deluxe Version)', 'available_markets': ['CA', 'MX', 'US'], 'type': 'album', 'href': 'https://api.spotify.com/v1/albums/4rhNBjL39LW5tuZgRShtnx'}, 'popularity': 67, 'id': '3Eq7yD58dIXqOgw1j7NFhY', 'external_urls': {'spotify': 'https://open.spotify.com/track/3Eq7yD58dIXqOgw1j7NFhY'}, 'explicit': True, 'duration_ms': 223173, 'preview_url': 'https://p.scdn.co/mp3-preview/583984dae504beedc6c32434ef8e91b7abd0fad5', 'name': 'Rich As Fuck', 'external_ids': {'isrc': 'USCM51300102'}, 'available_markets': ['CA', 'MX', 'US'], 'track_number': 9}, {'type': 'track', 'artists': [{'id': '55Aa2cqylxrFIXC767Z865', 'external_urls': {'spotify': 'https://open.spotify.com/artist/55Aa2cqylxrFIXC767Z865'}, 'uri': 'spotify:artist:55Aa2cqylxrFIXC767Z865', 'name': 'Lil Wayne', 'href': 'https://api.spotify.com/v1/artists/55Aa2cqylxrFIXC767Z865', 'type': 'artist'}, {'id': '0du5cEVh5yTK9QJze8zA0C', 'external_urls': {'spotify': 'https://open.spotify.com/artist/0du5cEVh5yTK9QJze8zA0C'}, 'uri': 'spotify:artist:0du5cEVh5yTK9QJze8zA0C', 'name': 'Bruno Mars', 'href': 'https://api.spotify.com/v1/artists/0du5cEVh5yTK9QJze8zA0C', 'type': 'artist'}], 'uri': 'spotify:track:05pdoheuKPSotkjMgIVX6I', 'disc_number': 1, 'href': 'https://api.spotify.com/v1/tracks/05pdoheuKPSotkjMgIVX6I', 'album': {'id': '1uuSC0RCJB3dSp8Mb6GflZ', 'external_urls': {'spotify': 'https://open.spotify.com/album/1uuSC0RCJB3dSp8Mb6GflZ'}, 'album_type': 'album', 'images': [{'url': 'https://i.scdn.co/image/bb20ca98170389c7c45a14abe9216e604da98d4f', 'height': 640, 'width': 640}, {'url': 'https://i.scdn.co/image/812e97e98d50d510ca824f54b4d794edc07354c6', 'height': 300, 'width': 300}, {'url': 'https://i.scdn.co/image/9749a519fc4d5ba101f2b8be471e35f9721f48cf', 'height': 64, 'width': 64}], 'uri': 'spotify:album:1uuSC0RCJB3dSp8Mb6GflZ', 'name': 'Tha Carter IV (Explicit Deluxe Version)', 'available_markets': ['CA', 'MX', 'US'], 'type': 'album', 'href': 'https://api.spotify.com/v1/albums/1uuSC0RCJB3dSp8Mb6GflZ'}, 'popularity': 66, 'id': '05pdoheuKPSotkjMgIVX6I', 'external_urls': {'spotify': 'https://open.spotify.com/track/05pdoheuKPSotkjMgIVX6I'}, 'explicit': True, 'duration_ms': 228093, 'preview_url': 'https://p.scdn.co/mp3-preview/6ed81a8520c587a9ea5f70b9ce5c4a4788719932', 'name': 'Mirror', 'external_ids': {'isrc': 'USCM51100327'}, 'available_markets': ['CA', 'MX', 'US'], 'track_number': 17}, {'type': 'track', 'artists': [{'id': '55Aa2cqylxrFIXC767Z865', 'external_urls': {'spotify': 'https://open.spotify.com/artist/55Aa2cqylxrFIXC767Z865'}, 'uri': 'spotify:artist:55Aa2cqylxrFIXC767Z865', 'name': 'Lil Wayne', 'href': 'https://api.spotify.com/v1/artists/55Aa2cqylxrFIXC767Z865', 'type': 'artist'}, {'id': '3TVXtAsR1Inumwj472S9r4', 'external_urls': {'spotify': 'https://open.spotify.com/artist/3TVXtAsR1Inumwj472S9r4'}, 'uri': 'spotify:artist:3TVXtAsR1Inumwj472S9r4', 'name': 'Drake', 'href': 'https://api.spotify.com/v1/artists/3TVXtAsR1Inumwj472S9r4', 'type': 'artist'}], 'uri': 'spotify:track:6t2eIONH4Sax3R21QWiKNp', 'disc_number': 1, 'href': 'https://api.spotify.com/v1/tracks/6t2eIONH4Sax3R21QWiKNp', 'album': {'id': '7pnplSgRtopeTNyCxBJf4n', 'external_urls': {'spotify': 'https://open.spotify.com/album/7pnplSgRtopeTNyCxBJf4n'}, 'album_type': 'single', 'images': [{'url': 'https://i.scdn.co/image/0bc1e0d8f7aec35cba1d8e7b8520b0fa56f9069f', 'height': 640, 'width': 640}, {'url': 'https://i.scdn.co/image/84023b423b3d28bb2c3a23bc8ce2d0af65488c81', 'height': 300, 'width': 300}, {'url': 'https://i.scdn.co/image/4255b6e46e34d2983285340860b691f4ee499635', 'height': 64, 'width': 64}], 'uri': 'spotify:album:7pnplSgRtopeTNyCxBJf4n', 'name': 'Believe Me', 'available_markets': ['CA', 'MX', 'US'], 'type': 'album', 'href': 'https://api.spotify.com/v1/albums/7pnplSgRtopeTNyCxBJf4n'}, 'popularity': 66, 'id': '6t2eIONH4Sax3R21QWiKNp', 'external_urls': {'spotify': 'https://open.spotify.com/track/6t2eIONH4Sax3R21QWiKNp'}, 'explicit': True, 'duration_ms': 337640, 'preview_url': 'https://p.scdn.co/mp3-preview/02f8361f4354964fc0d6ff0a6174f00f967b499f', 'name': 'Believe Me', 'external_ids': {'isrc': 'USCM51400173'}, 'available_markets': ['CA', 'MX', 'US'], 'track_number': 1}]\n"
     ]
    }
   ],
   "source": [
    "print(lil_wayne['tracks'])"
   ]
  },
  {
   "cell_type": "code",
   "execution_count": 40,
   "metadata": {
    "collapsed": false
   },
   "outputs": [
    {
     "ename": "SyntaxError",
     "evalue": "invalid syntax (<ipython-input-40-537963a0f779>, line 1)",
     "output_type": "error",
     "traceback": [
      "\u001b[0;36m  File \u001b[0;32m\"<ipython-input-40-537963a0f779>\"\u001b[0;36m, line \u001b[0;32m1\u001b[0m\n\u001b[0;31m    for lil_wayne in ['tracks']\u001b[0m\n\u001b[0m                               ^\u001b[0m\n\u001b[0;31mSyntaxError\u001b[0m\u001b[0;31m:\u001b[0m invalid syntax\n"
     ]
    }
   ],
   "source": [
    "for lil_wayne in ['tracks']\n",
    "print(\"Lil Wayne's top tracks are:\")"
   ]
  },
  {
   "cell_type": "code",
   "execution_count": 37,
   "metadata": {
    "collapsed": false
   },
   "outputs": [
    {
     "name": "stdout",
     "output_type": "stream",
     "text": [
      "{'tracks': [{'type': 'track', 'artists': [{'id': '540vIaP2JwjQb9dm3aArA4', 'external_urls': {'spotify': 'https://open.spotify.com/artist/540vIaP2JwjQb9dm3aArA4'}, 'uri': 'spotify:artist:540vIaP2JwjQb9dm3aArA4', 'name': 'DJ Snake', 'href': 'https://api.spotify.com/v1/artists/540vIaP2JwjQb9dm3aArA4', 'type': 'artist'}, {'id': '7sfl4Xt5KmfyDs2T3SVSMK', 'external_urls': {'spotify': 'https://open.spotify.com/artist/7sfl4Xt5KmfyDs2T3SVSMK'}, 'uri': 'spotify:artist:7sfl4Xt5KmfyDs2T3SVSMK', 'name': 'Lil Jon', 'href': 'https://api.spotify.com/v1/artists/7sfl4Xt5KmfyDs2T3SVSMK', 'type': 'artist'}], 'uri': 'spotify:track:67awxiNHNyjMXhVgsHuIrs', 'disc_number': 1, 'href': 'https://api.spotify.com/v1/tracks/67awxiNHNyjMXhVgsHuIrs', 'album': {'id': '3zo0Hxh9rjJsdw2JAKReE3', 'external_urls': {'spotify': 'https://open.spotify.com/album/3zo0Hxh9rjJsdw2JAKReE3'}, 'album_type': 'single', 'images': [{'url': 'https://i.scdn.co/image/68b7fc0346748cf2f764e6d99feed2869c52a85a', 'height': 640, 'width': 640}, {'url': 'https://i.scdn.co/image/a18242317ccb1c44cdc2e1b9a2a14b6c5932b550', 'height': 300, 'width': 300}, {'url': 'https://i.scdn.co/image/5d606d0b483943a7edd007f4b245d3232a0c8162', 'height': 64, 'width': 64}], 'uri': 'spotify:album:3zo0Hxh9rjJsdw2JAKReE3', 'name': 'Turn Down for What', 'available_markets': ['AR', 'AU', 'AT', 'BE', 'BO', 'BR', 'BG', 'CA', 'CL', 'CO', 'CR', 'CY', 'CZ', 'DK', 'DO', 'DE', 'EC', 'EE', 'SV', 'FI', 'FR', 'GR', 'GT', 'HN', 'HK', 'HU', 'IS', 'IE', 'IT', 'LV', 'LT', 'LU', 'MY', 'MT', 'MX', 'NL', 'NZ', 'NI', 'NO', 'PA', 'PY', 'PE', 'PH', 'PL', 'PT', 'SG', 'SK', 'ES', 'SE', 'CH', 'TW', 'TR', 'UY', 'US', 'GB', 'AD', 'LI', 'MC', 'ID'], 'type': 'album', 'href': 'https://api.spotify.com/v1/albums/3zo0Hxh9rjJsdw2JAKReE3'}, 'popularity': 78, 'id': '67awxiNHNyjMXhVgsHuIrs', 'external_urls': {'spotify': 'https://open.spotify.com/track/67awxiNHNyjMXhVgsHuIrs'}, 'explicit': False, 'duration_ms': 213733, 'preview_url': 'https://p.scdn.co/mp3-preview/fde5f6c570eb2ecaca797c0984a247a47d3fdc21', 'name': 'Turn Down for What', 'external_ids': {'isrc': 'USSM11308174'}, 'available_markets': ['AR', 'AU', 'AT', 'BE', 'BO', 'BR', 'BG', 'CA', 'CL', 'CO', 'CR', 'CY', 'CZ', 'DK', 'DO', 'DE', 'EC', 'EE', 'SV', 'FI', 'FR', 'GR', 'GT', 'HN', 'HK', 'HU', 'IS', 'IE', 'IT', 'LV', 'LT', 'LU', 'MY', 'MT', 'MX', 'NL', 'NZ', 'NI', 'NO', 'PA', 'PY', 'PE', 'PH', 'PL', 'PT', 'SG', 'SK', 'ES', 'SE', 'CH', 'TW', 'TR', 'UY', 'US', 'GB', 'AD', 'LI', 'MC', 'ID'], 'track_number': 1}, {'type': 'track', 'artists': [{'id': '4VMYDCV2IEDYJArk749S6m', 'external_urls': {'spotify': 'https://open.spotify.com/artist/4VMYDCV2IEDYJArk749S6m'}, 'uri': 'spotify:artist:4VMYDCV2IEDYJArk749S6m', 'name': 'Daddy Yankee', 'href': 'https://api.spotify.com/v1/artists/4VMYDCV2IEDYJArk749S6m', 'type': 'artist'}, {'id': '7sfl4Xt5KmfyDs2T3SVSMK', 'external_urls': {'spotify': 'https://open.spotify.com/artist/7sfl4Xt5KmfyDs2T3SVSMK'}, 'uri': 'spotify:artist:7sfl4Xt5KmfyDs2T3SVSMK', 'name': 'Lil Jon', 'href': 'https://api.spotify.com/v1/artists/7sfl4Xt5KmfyDs2T3SVSMK', 'type': 'artist'}, {'id': '0TnOYISbd1XYRBk9myaseg', 'external_urls': {'spotify': 'https://open.spotify.com/artist/0TnOYISbd1XYRBk9myaseg'}, 'uri': 'spotify:artist:0TnOYISbd1XYRBk9myaseg', 'name': 'Pitbull', 'href': 'https://api.spotify.com/v1/artists/0TnOYISbd1XYRBk9myaseg', 'type': 'artist'}, {'id': '3P4VNQLuN1qQQnL8rMaIkL', 'external_urls': {'spotify': 'https://open.spotify.com/artist/3P4VNQLuN1qQQnL8rMaIkL'}, 'uri': 'spotify:artist:3P4VNQLuN1qQQnL8rMaIkL', 'name': 'Noriega', 'href': 'https://api.spotify.com/v1/artists/3P4VNQLuN1qQQnL8rMaIkL', 'type': 'artist'}], 'uri': 'spotify:track:69gRFGOWY9OMpFJgFol1u0', 'disc_number': 1, 'href': 'https://api.spotify.com/v1/tracks/69gRFGOWY9OMpFJgFol1u0', 'album': {'id': '717UG2du6utFe7CdmpuUe3', 'external_urls': {'spotify': 'https://open.spotify.com/album/717UG2du6utFe7CdmpuUe3'}, 'album_type': 'compilation', 'images': [{'url': 'https://i.scdn.co/image/c1dffff58490dfc01df180756750937d67890528', 'height': 640, 'width': 640}, {'url': 'https://i.scdn.co/image/17bf0149fd6f7798ea58f9d16bdb4eed000f1452', 'height': 300, 'width': 300}, {'url': 'https://i.scdn.co/image/ac8ed423bf555fa8a2caa7601b9341a42a4c3246', 'height': 64, 'width': 64}], 'uri': 'spotify:album:717UG2du6utFe7CdmpuUe3', 'name': 'Reggaeton!', 'available_markets': ['AR', 'AU', 'AT', 'BE', 'BO', 'BR', 'BG', 'CA', 'CL', 'CO', 'CR', 'CY', 'CZ', 'DK', 'DO', 'DE', 'EC', 'EE', 'SV', 'FI', 'FR', 'GR', 'GT', 'HN', 'HK', 'HU', 'IS', 'IE', 'IT', 'LV', 'LT', 'LU', 'MY', 'MT', 'MX', 'NL', 'NZ', 'NI', 'NO', 'PA', 'PY', 'PE', 'PH', 'PL', 'PT', 'SG', 'SK', 'ES', 'SE', 'CH', 'TW', 'TR', 'UY', 'US', 'GB', 'AD', 'LI', 'MC', 'ID'], 'type': 'album', 'href': 'https://api.spotify.com/v1/albums/717UG2du6utFe7CdmpuUe3'}, 'popularity': 71, 'id': '69gRFGOWY9OMpFJgFol1u0', 'external_urls': {'spotify': 'https://open.spotify.com/track/69gRFGOWY9OMpFJgFol1u0'}, 'explicit': False, 'duration_ms': 282706, 'preview_url': 'https://p.scdn.co/mp3-preview/4bdac87857d69b1fec0a174b13e3b9a51cade0a4', 'name': 'Gasolina - DJ Buddah Remix', 'external_ids': {'isrc': 'ITF250500068'}, 'available_markets': ['AR', 'AU', 'AT', 'BE', 'BO', 'BR', 'BG', 'CA', 'CL', 'CO', 'CR', 'CY', 'CZ', 'DK', 'DO', 'DE', 'EC', 'EE', 'SV', 'FI', 'FR', 'GR', 'GT', 'HN', 'HK', 'HU', 'IS', 'IE', 'IT', 'LV', 'LT', 'LU', 'MY', 'MT', 'MX', 'NL', 'NZ', 'NI', 'NO', 'PA', 'PY', 'PE', 'PH', 'PL', 'PT', 'SG', 'SK', 'ES', 'SE', 'CH', 'TW', 'TR', 'UY', 'US', 'GB', 'AD', 'LI', 'MC', 'ID'], 'track_number': 6}, {'type': 'track', 'artists': [{'id': '2OqENqJFXPORP4BUGnu2Qq', 'external_urls': {'spotify': 'https://open.spotify.com/artist/2OqENqJFXPORP4BUGnu2Qq'}, 'uri': 'spotify:artist:2OqENqJFXPORP4BUGnu2Qq', 'name': 'Youngbloodz', 'href': 'https://api.spotify.com/v1/artists/2OqENqJFXPORP4BUGnu2Qq', 'type': 'artist'}, {'id': '3dwESUD2sahwxyFL6SYtEn', 'external_urls': {'spotify': 'https://open.spotify.com/artist/3dwESUD2sahwxyFL6SYtEn'}, 'uri': 'spotify:artist:3dwESUD2sahwxyFL6SYtEn', 'name': 'Sean Paul', 'href': 'https://api.spotify.com/v1/artists/3dwESUD2sahwxyFL6SYtEn', 'type': 'artist'}, {'id': '3crnzLy8R4lVwaigKEOz7V', 'external_urls': {'spotify': 'https://open.spotify.com/artist/3crnzLy8R4lVwaigKEOz7V'}, 'uri': 'spotify:artist:3crnzLy8R4lVwaigKEOz7V', 'name': 'E-40', 'href': 'https://api.spotify.com/v1/artists/3crnzLy8R4lVwaigKEOz7V', 'type': 'artist'}, {'id': '7sfl4Xt5KmfyDs2T3SVSMK', 'external_urls': {'spotify': 'https://open.spotify.com/artist/7sfl4Xt5KmfyDs2T3SVSMK'}, 'uri': 'spotify:artist:7sfl4Xt5KmfyDs2T3SVSMK', 'name': 'Lil Jon', 'href': 'https://api.spotify.com/v1/artists/7sfl4Xt5KmfyDs2T3SVSMK', 'type': 'artist'}], 'uri': 'spotify:track:6o3s08kk2fQI37vxGZDrJ1', 'disc_number': 1, 'href': 'https://api.spotify.com/v1/tracks/6o3s08kk2fQI37vxGZDrJ1', 'album': {'id': '5ot3hAGLgvrmfZ3ddosFZf', 'external_urls': {'spotify': 'https://open.spotify.com/album/5ot3hAGLgvrmfZ3ddosFZf'}, 'album_type': 'single', 'images': [{'url': 'https://i.scdn.co/image/868844a5a4a1943bcffbfa1bd59a7ce5dee1ce01', 'height': 640, 'width': 640}, {'url': 'https://i.scdn.co/image/e8d636e671156629210a95e0c8595e865aa60c0c', 'height': 300, 'width': 300}, {'url': 'https://i.scdn.co/image/23f6eec357f5fd675bbd0752f584fc14f4586e24', 'height': 64, 'width': 64}], 'uri': 'spotify:album:5ot3hAGLgvrmfZ3ddosFZf', 'name': 'Snap Yo Fingers - Single', 'available_markets': ['AR', 'AU', 'AT', 'BE', 'BO', 'BR', 'BG', 'CA', 'CL', 'CO', 'CR', 'CY', 'CZ', 'DK', 'DO', 'DE', 'EC', 'EE', 'SV', 'FI', 'FR', 'GR', 'GT', 'HN', 'HK', 'HU', 'IS', 'IE', 'IT', 'LV', 'LT', 'LU', 'MY', 'MT', 'MX', 'NL', 'NZ', 'NI', 'NO', 'PA', 'PY', 'PE', 'PH', 'PL', 'PT', 'SG', 'SK', 'ES', 'SE', 'CH', 'TW', 'TR', 'UY', 'US', 'GB', 'AD', 'LI', 'MC', 'ID'], 'type': 'album', 'href': 'https://api.spotify.com/v1/albums/5ot3hAGLgvrmfZ3ddosFZf'}, 'popularity': 65, 'id': '6o3s08kk2fQI37vxGZDrJ1', 'external_urls': {'spotify': 'https://open.spotify.com/track/6o3s08kk2fQI37vxGZDrJ1'}, 'explicit': False, 'duration_ms': 274386, 'preview_url': 'https://p.scdn.co/mp3-preview/fa9b9ff0464a50c5ebf4ebf2fb089a96ff40d5c4', 'name': 'Snap Yo Fingers', 'external_ids': {'isrc': 'USTV10600013'}, 'available_markets': ['AR', 'AU', 'AT', 'BE', 'BO', 'BR', 'BG', 'CA', 'CL', 'CO', 'CR', 'CY', 'CZ', 'DK', 'DO', 'DE', 'EC', 'EE', 'SV', 'FI', 'FR', 'GR', 'GT', 'HN', 'HK', 'HU', 'IS', 'IE', 'IT', 'LV', 'LT', 'LU', 'MY', 'MT', 'MX', 'NL', 'NZ', 'NI', 'NO', 'PA', 'PY', 'PE', 'PH', 'PL', 'PT', 'SG', 'SK', 'ES', 'SE', 'CH', 'TW', 'TR', 'UY', 'US', 'GB', 'AD', 'LI', 'MC', 'ID'], 'track_number': 1}, {'type': 'track', 'artists': [{'id': '7sfl4Xt5KmfyDs2T3SVSMK', 'external_urls': {'spotify': 'https://open.spotify.com/artist/7sfl4Xt5KmfyDs2T3SVSMK'}, 'uri': 'spotify:artist:7sfl4Xt5KmfyDs2T3SVSMK', 'name': 'Lil Jon', 'href': 'https://api.spotify.com/v1/artists/7sfl4Xt5KmfyDs2T3SVSMK', 'type': 'artist'}, {'id': '5LHRHt1k9lMyONurDHEdrp', 'external_urls': {'spotify': 'https://open.spotify.com/artist/5LHRHt1k9lMyONurDHEdrp'}, 'uri': 'spotify:artist:5LHRHt1k9lMyONurDHEdrp', 'name': 'Tyga', 'href': 'https://api.spotify.com/v1/artists/5LHRHt1k9lMyONurDHEdrp', 'type': 'artist'}], 'uri': 'spotify:track:35x6JdLCr4VWWR5ShNoAWo', 'disc_number': 1, 'href': 'https://api.spotify.com/v1/tracks/35x6JdLCr4VWWR5ShNoAWo', 'album': {'id': '7hSGhpAzdMDnh1UVcwBomX', 'external_urls': {'spotify': 'https://open.spotify.com/album/7hSGhpAzdMDnh1UVcwBomX'}, 'album_type': 'single', 'images': [{'url': 'https://i.scdn.co/image/850c1c5ff6f7111a6dd314e189d846ee7824599f', 'height': 640, 'width': 640}, {'url': 'https://i.scdn.co/image/06f668cf67c6b7ee262d20528071da6f80aaddfa', 'height': 300, 'width': 300}, {'url': 'https://i.scdn.co/image/1baaf4d9051eacad9a7a0105ca7d87dbbaf85274', 'height': 64, 'width': 64}], 'uri': 'spotify:album:7hSGhpAzdMDnh1UVcwBomX', 'name': 'Bend Ova', 'available_markets': ['AR', 'AU', 'AT', 'BE', 'BO', 'BR', 'BG', 'CA', 'CL', 'CO', 'CR', 'CY', 'CZ', 'DK', 'DO', 'DE', 'EC', 'EE', 'SV', 'FI', 'FR', 'GR', 'GT', 'HN', 'HK', 'HU', 'IS', 'IE', 'IT', 'LV', 'LT', 'LU', 'MY', 'MT', 'MX', 'NL', 'NZ', 'NI', 'NO', 'PA', 'PY', 'PE', 'PH', 'PL', 'PT', 'SG', 'SK', 'ES', 'SE', 'CH', 'TW', 'TR', 'UY', 'US', 'GB', 'AD', 'LI', 'MC', 'ID'], 'type': 'album', 'href': 'https://api.spotify.com/v1/albums/7hSGhpAzdMDnh1UVcwBomX'}, 'popularity': 63, 'id': '35x6JdLCr4VWWR5ShNoAWo', 'external_urls': {'spotify': 'https://open.spotify.com/track/35x6JdLCr4VWWR5ShNoAWo'}, 'explicit': True, 'duration_ms': 226106, 'preview_url': 'https://p.scdn.co/mp3-preview/68c9bc12674f66f79f0d967ea528f8e9f8ea5a79', 'name': 'Bend Ova', 'external_ids': {'isrc': 'QMEPP1400100'}, 'available_markets': ['AR', 'AU', 'AT', 'BE', 'BO', 'BR', 'BG', 'CA', 'CL', 'CO', 'CR', 'CY', 'CZ', 'DK', 'DO', 'DE', 'EC', 'EE', 'SV', 'FI', 'FR', 'GR', 'GT', 'HN', 'HK', 'HU', 'IS', 'IE', 'IT', 'LV', 'LT', 'LU', 'MY', 'MT', 'MX', 'NL', 'NZ', 'NI', 'NO', 'PA', 'PY', 'PE', 'PH', 'PL', 'PT', 'SG', 'SK', 'ES', 'SE', 'CH', 'TW', 'TR', 'UY', 'US', 'GB', 'AD', 'LI', 'MC', 'ID'], 'track_number': 1}, {'type': 'track', 'artists': [{'id': '540vIaP2JwjQb9dm3aArA4', 'external_urls': {'spotify': 'https://open.spotify.com/artist/540vIaP2JwjQb9dm3aArA4'}, 'uri': 'spotify:artist:540vIaP2JwjQb9dm3aArA4', 'name': 'DJ Snake', 'href': 'https://api.spotify.com/v1/artists/540vIaP2JwjQb9dm3aArA4', 'type': 'artist'}, {'id': '7sfl4Xt5KmfyDs2T3SVSMK', 'external_urls': {'spotify': 'https://open.spotify.com/artist/7sfl4Xt5KmfyDs2T3SVSMK'}, 'uri': 'spotify:artist:7sfl4Xt5KmfyDs2T3SVSMK', 'name': 'Lil Jon', 'href': 'https://api.spotify.com/v1/artists/7sfl4Xt5KmfyDs2T3SVSMK', 'type': 'artist'}, {'id': '5gCRApTajqwbnHHPbr2Fpi', 'external_urls': {'spotify': 'https://open.spotify.com/artist/5gCRApTajqwbnHHPbr2Fpi'}, 'uri': 'spotify:artist:5gCRApTajqwbnHHPbr2Fpi', 'name': 'Juicy J', 'href': 'https://api.spotify.com/v1/artists/5gCRApTajqwbnHHPbr2Fpi', 'type': 'artist'}, {'id': '17lzZA2AlOHwCwFALHttmp', 'external_urls': {'spotify': 'https://open.spotify.com/artist/17lzZA2AlOHwCwFALHttmp'}, 'uri': 'spotify:artist:17lzZA2AlOHwCwFALHttmp', 'name': '2 Chainz', 'href': 'https://api.spotify.com/v1/artists/17lzZA2AlOHwCwFALHttmp', 'type': 'artist'}, {'id': '6vXTefBL93Dj5IqAWq6OTv', 'external_urls': {'spotify': 'https://open.spotify.com/artist/6vXTefBL93Dj5IqAWq6OTv'}, 'uri': 'spotify:artist:6vXTefBL93Dj5IqAWq6OTv', 'name': 'French Montana', 'href': 'https://api.spotify.com/v1/artists/6vXTefBL93Dj5IqAWq6OTv', 'type': 'artist'}], 'uri': 'spotify:track:6h5yOjQNDaLZ0rW2OGoXTB', 'disc_number': 1, 'href': 'https://api.spotify.com/v1/tracks/6h5yOjQNDaLZ0rW2OGoXTB', 'album': {'id': '6zHQJ3ZtK1sRYJu7moegfj', 'external_urls': {'spotify': 'https://open.spotify.com/album/6zHQJ3ZtK1sRYJu7moegfj'}, 'album_type': 'single', 'images': [{'url': 'https://i.scdn.co/image/797aec01e29a6fc4984541db1e9dd0a5991b131d', 'height': 640, 'width': 640}, {'url': 'https://i.scdn.co/image/7a2ffd896206a10ec416329510f4e8ce95c3164d', 'height': 300, 'width': 300}, {'url': 'https://i.scdn.co/image/3d71fb06aed1655524ee0589b619f899b0956355', 'height': 64, 'width': 64}], 'uri': 'spotify:album:6zHQJ3ZtK1sRYJu7moegfj', 'name': 'Turn Down for What (Official Remix)', 'available_markets': ['AR', 'AU', 'AT', 'BE', 'BO', 'BR', 'BG', 'CA', 'CL', 'CO', 'CR', 'CY', 'CZ', 'DK', 'DO', 'DE', 'EC', 'EE', 'SV', 'FI', 'FR', 'GR', 'GT', 'HN', 'HK', 'HU', 'IS', 'IE', 'IT', 'LV', 'LT', 'LU', 'MY', 'MT', 'MX', 'NL', 'NZ', 'NI', 'NO', 'PA', 'PY', 'PE', 'PH', 'PL', 'PT', 'SG', 'SK', 'ES', 'SE', 'CH', 'TW', 'TR', 'UY', 'US', 'GB', 'AD', 'LI', 'MC', 'ID'], 'type': 'album', 'href': 'https://api.spotify.com/v1/albums/6zHQJ3ZtK1sRYJu7moegfj'}, 'popularity': 63, 'id': '6h5yOjQNDaLZ0rW2OGoXTB', 'external_urls': {'spotify': 'https://open.spotify.com/track/6h5yOjQNDaLZ0rW2OGoXTB'}, 'explicit': True, 'duration_ms': 225560, 'preview_url': 'https://p.scdn.co/mp3-preview/ba84ccf3c24e68adee0089f35d1e4edd808846c1', 'name': 'Turn Down for What - Official Remix', 'external_ids': {'isrc': 'USSM11402817'}, 'available_markets': ['AR', 'AU', 'AT', 'BE', 'BO', 'BR', 'BG', 'CA', 'CL', 'CO', 'CR', 'CY', 'CZ', 'DK', 'DO', 'DE', 'EC', 'EE', 'SV', 'FI', 'FR', 'GR', 'GT', 'HN', 'HK', 'HU', 'IS', 'IE', 'IT', 'LV', 'LT', 'LU', 'MY', 'MT', 'MX', 'NL', 'NZ', 'NI', 'NO', 'PA', 'PY', 'PE', 'PH', 'PL', 'PT', 'SG', 'SK', 'ES', 'SE', 'CH', 'TW', 'TR', 'UY', 'US', 'GB', 'AD', 'LI', 'MC', 'ID'], 'track_number': 1}, {'type': 'track', 'artists': [{'id': '7sfl4Xt5KmfyDs2T3SVSMK', 'external_urls': {'spotify': 'https://open.spotify.com/artist/7sfl4Xt5KmfyDs2T3SVSMK'}, 'uri': 'spotify:artist:7sfl4Xt5KmfyDs2T3SVSMK', 'name': 'Lil Jon', 'href': 'https://api.spotify.com/v1/artists/7sfl4Xt5KmfyDs2T3SVSMK', 'type': 'artist'}, {'id': '0TnOYISbd1XYRBk9myaseg', 'external_urls': {'spotify': 'https://open.spotify.com/artist/0TnOYISbd1XYRBk9myaseg'}, 'uri': 'spotify:artist:0TnOYISbd1XYRBk9myaseg', 'name': 'Pitbull', 'href': 'https://api.spotify.com/v1/artists/0TnOYISbd1XYRBk9myaseg', 'type': 'artist'}], 'uri': 'spotify:track:4tAru66VGVLWYjg90UV4vJ', 'disc_number': 1, 'href': 'https://api.spotify.com/v1/tracks/4tAru66VGVLWYjg90UV4vJ', 'album': {'id': '76N6imyjQ9h5p2NzakHT32', 'external_urls': {'spotify': 'https://open.spotify.com/album/76N6imyjQ9h5p2NzakHT32'}, 'album_type': 'album', 'images': [{'url': 'https://i.scdn.co/image/963ccc301158d51d999ea3f0f7f8cf1232606236', 'height': 640, 'width': 640}, {'url': 'https://i.scdn.co/image/887c20ba4508d968272ae371a5a10c52352e666c', 'height': 300, 'width': 300}, {'url': 'https://i.scdn.co/image/a2a5886a18396fe4c025b1de74be66177773d51b', 'height': 64, 'width': 64}], 'uri': 'spotify:album:76N6imyjQ9h5p2NzakHT32', 'name': 'M.I.A.M.I.', 'available_markets': ['AR', 'AU', 'AT', 'BE', 'BO', 'BR', 'BG', 'CA', 'CL', 'CO', 'CR', 'CY', 'CZ', 'DK', 'DO', 'DE', 'EC', 'EE', 'SV', 'FI', 'FR', 'GR', 'GT', 'HN', 'HK', 'HU', 'IS', 'IE', 'IT', 'LV', 'LT', 'LU', 'MY', 'MT', 'MX', 'NL', 'NZ', 'NI', 'NO', 'PA', 'PY', 'PE', 'PH', 'PL', 'PT', 'SG', 'SK', 'ES', 'SE', 'CH', 'TW', 'TR', 'UY', 'US', 'GB', 'AD', 'LI', 'MC', 'ID'], 'type': 'album', 'href': 'https://api.spotify.com/v1/albums/76N6imyjQ9h5p2NzakHT32'}, 'popularity': 59, 'id': '4tAru66VGVLWYjg90UV4vJ', 'external_urls': {'spotify': 'https://open.spotify.com/track/4tAru66VGVLWYjg90UV4vJ'}, 'explicit': True, 'duration_ms': 219080, 'preview_url': 'https://p.scdn.co/mp3-preview/edbfc7c1a9353d32ba3a577376ddfabb49cd8a71', 'name': 'Culo', 'external_ids': {'isrc': 'USTV10400126'}, 'available_markets': ['AR', 'AU', 'AT', 'BE', 'BO', 'BR', 'BG', 'CA', 'CL', 'CO', 'CR', 'CY', 'CZ', 'DK', 'DO', 'DE', 'EC', 'EE', 'SV', 'FI', 'FR', 'GR', 'GT', 'HN', 'HK', 'HU', 'IS', 'IE', 'IT', 'LV', 'LT', 'LU', 'MY', 'MT', 'MX', 'NL', 'NZ', 'NI', 'NO', 'PA', 'PY', 'PE', 'PH', 'PL', 'PT', 'SG', 'SK', 'ES', 'SE', 'CH', 'TW', 'TR', 'UY', 'US', 'GB', 'AD', 'LI', 'MC', 'ID'], 'track_number': 2}, {'type': 'track', 'artists': [{'id': '7sfl4Xt5KmfyDs2T3SVSMK', 'external_urls': {'spotify': 'https://open.spotify.com/artist/7sfl4Xt5KmfyDs2T3SVSMK'}, 'uri': 'spotify:artist:7sfl4Xt5KmfyDs2T3SVSMK', 'name': 'Lil Jon', 'href': 'https://api.spotify.com/v1/artists/7sfl4Xt5KmfyDs2T3SVSMK', 'type': 'artist'}], 'uri': 'spotify:track:1ArSJ2NBOhw4x0sxGbWFSn', 'disc_number': 1, 'href': 'https://api.spotify.com/v1/tracks/1ArSJ2NBOhw4x0sxGbWFSn', 'album': {'id': '4MeowM4zxeluX4brfdZOWa', 'external_urls': {'spotify': 'https://open.spotify.com/album/4MeowM4zxeluX4brfdZOWa'}, 'album_type': 'single', 'images': [{'url': 'https://i.scdn.co/image/068efb6e30dd7c68e53b9b6857e8e52746ee88b8', 'height': 640, 'width': 640}, {'url': 'https://i.scdn.co/image/fa8d117e635d6b152cfbe5d2cca4504fa939ea60', 'height': 300, 'width': 300}, {'url': 'https://i.scdn.co/image/031038d338e7f936b5c7a52bece966ec8be368ec', 'height': 64, 'width': 64}], 'uri': 'spotify:album:4MeowM4zxeluX4brfdZOWa', 'name': 'Get Loose (Remixes)', 'available_markets': ['AR', 'AU', 'AT', 'BE', 'BO', 'BR', 'BG', 'CA', 'CL', 'CO', 'CR', 'CY', 'CZ', 'DK', 'DO', 'DE', 'EC', 'EE', 'SV', 'FI', 'FR', 'GR', 'GT', 'HN', 'HK', 'HU', 'IS', 'IE', 'IT', 'LV', 'LT', 'LU', 'MY', 'MT', 'MX', 'NL', 'NZ', 'NI', 'NO', 'PA', 'PY', 'PE', 'PH', 'PL', 'PT', 'SG', 'SK', 'ES', 'SE', 'CH', 'TW', 'TR', 'UY', 'US', 'GB', 'AD', 'LI', 'MC', 'ID'], 'type': 'album', 'href': 'https://api.spotify.com/v1/albums/4MeowM4zxeluX4brfdZOWa'}, 'popularity': 53, 'id': '1ArSJ2NBOhw4x0sxGbWFSn', 'external_urls': {'spotify': 'https://open.spotify.com/track/1ArSJ2NBOhw4x0sxGbWFSn'}, 'explicit': True, 'duration_ms': 120878, 'preview_url': 'https://p.scdn.co/mp3-preview/a0000c5116d5220fc721e1854ad73e6c9f21a924', 'name': 'Get Loose', 'external_ids': {'isrc': 'USDM31575801'}, 'available_markets': ['AR', 'AU', 'AT', 'BE', 'BO', 'BR', 'BG', 'CA', 'CL', 'CO', 'CR', 'CY', 'CZ', 'DK', 'DO', 'DE', 'EC', 'EE', 'SV', 'FI', 'FR', 'GR', 'GT', 'HN', 'HK', 'HU', 'IS', 'IE', 'IT', 'LV', 'LT', 'LU', 'MY', 'MT', 'MX', 'NL', 'NZ', 'NI', 'NO', 'PA', 'PY', 'PE', 'PH', 'PL', 'PT', 'SG', 'SK', 'ES', 'SE', 'CH', 'TW', 'TR', 'UY', 'US', 'GB', 'AD', 'LI', 'MC', 'ID'], 'track_number': 1}, {'type': 'track', 'artists': [{'id': '7sfl4Xt5KmfyDs2T3SVSMK', 'external_urls': {'spotify': 'https://open.spotify.com/artist/7sfl4Xt5KmfyDs2T3SVSMK'}, 'uri': 'spotify:artist:7sfl4Xt5KmfyDs2T3SVSMK', 'name': 'Lil Jon', 'href': 'https://api.spotify.com/v1/artists/7sfl4Xt5KmfyDs2T3SVSMK', 'type': 'artist'}, {'id': '0TnOYISbd1XYRBk9myaseg', 'external_urls': {'spotify': 'https://open.spotify.com/artist/0TnOYISbd1XYRBk9myaseg'}, 'uri': 'spotify:artist:0TnOYISbd1XYRBk9myaseg', 'name': 'Pitbull', 'href': 'https://api.spotify.com/v1/artists/0TnOYISbd1XYRBk9myaseg', 'type': 'artist'}], 'uri': 'spotify:track:2cZ5ACJfBj2uAXARdHpjAW', 'disc_number': 1, 'href': 'https://api.spotify.com/v1/tracks/2cZ5ACJfBj2uAXARdHpjAW', 'album': {'id': '7m9AYxqeFPagkaqlg6WE0J', 'external_urls': {'spotify': 'https://open.spotify.com/album/7m9AYxqeFPagkaqlg6WE0J'}, 'album_type': 'album', 'images': [{'url': 'https://i.scdn.co/image/187a47a2d653ae440f2b2ed2eaebe7a6c7fb68a1', 'height': 640, 'width': 640}, {'url': 'https://i.scdn.co/image/bc9839b1a7b55e5a6f88a9cd5cb919c486a875b9', 'height': 300, 'width': 300}, {'url': 'https://i.scdn.co/image/02f3edf5596596cfb54060e7b51b6e7f2f6df245', 'height': 64, 'width': 64}], 'uri': 'spotify:album:7m9AYxqeFPagkaqlg6WE0J', 'name': 'The Boatlift', 'available_markets': ['AR', 'AU', 'AT', 'BE', 'BO', 'BR', 'BG', 'CA', 'CL', 'CO', 'CR', 'CY', 'CZ', 'DK', 'DO', 'DE', 'EC', 'EE', 'SV', 'FI', 'FR', 'GR', 'GT', 'HN', 'HK', 'HU', 'IS', 'IE', 'IT', 'LV', 'LT', 'LU', 'MY', 'MT', 'MX', 'NL', 'NZ', 'NI', 'NO', 'PA', 'PY', 'PE', 'PH', 'PL', 'PT', 'SG', 'SK', 'ES', 'SE', 'CH', 'TW', 'TR', 'UY', 'US', 'GB', 'AD', 'LI', 'MC', 'ID'], 'type': 'album', 'href': 'https://api.spotify.com/v1/albums/7m9AYxqeFPagkaqlg6WE0J'}, 'popularity': 51, 'id': '2cZ5ACJfBj2uAXARdHpjAW', 'external_urls': {'spotify': 'https://open.spotify.com/track/2cZ5ACJfBj2uAXARdHpjAW'}, 'explicit': True, 'duration_ms': 245054, 'preview_url': 'https://p.scdn.co/mp3-preview/74ad46988661814bd41d3d5523693685a1157d67', 'name': 'The Anthem', 'external_ids': {'isrc': 'USTV10701037'}, 'available_markets': ['AR', 'AU', 'AT', 'BE', 'BO', 'BR', 'BG', 'CA', 'CL', 'CO', 'CR', 'CY', 'CZ', 'DK', 'DO', 'DE', 'EC', 'EE', 'SV', 'FI', 'FR', 'GR', 'GT', 'HN', 'HK', 'HU', 'IS', 'IE', 'IT', 'LV', 'LT', 'LU', 'MY', 'MT', 'MX', 'NL', 'NZ', 'NI', 'NO', 'PA', 'PY', 'PE', 'PH', 'PL', 'PT', 'SG', 'SK', 'ES', 'SE', 'CH', 'TW', 'TR', 'UY', 'US', 'GB', 'AD', 'LI', 'MC', 'ID'], 'track_number': 7}, {'type': 'track', 'artists': [{'id': '2FmzVitXZjIkFolH8HXd4j', 'external_urls': {'spotify': 'https://open.spotify.com/artist/2FmzVitXZjIkFolH8HXd4j'}, 'uri': 'spotify:artist:2FmzVitXZjIkFolH8HXd4j', 'name': 'Flosstradamus', 'href': 'https://api.spotify.com/v1/artists/2FmzVitXZjIkFolH8HXd4j', 'type': 'artist'}, {'id': '6M7RdR9ZP52h2mfNLmiHtU', 'external_urls': {'spotify': 'https://open.spotify.com/artist/6M7RdR9ZP52h2mfNLmiHtU'}, 'uri': 'spotify:artist:6M7RdR9ZP52h2mfNLmiHtU', 'name': 'GTA', 'href': 'https://api.spotify.com/v1/artists/6M7RdR9ZP52h2mfNLmiHtU', 'type': 'artist'}, {'id': '7sfl4Xt5KmfyDs2T3SVSMK', 'external_urls': {'spotify': 'https://open.spotify.com/artist/7sfl4Xt5KmfyDs2T3SVSMK'}, 'uri': 'spotify:artist:7sfl4Xt5KmfyDs2T3SVSMK', 'name': 'Lil Jon', 'href': 'https://api.spotify.com/v1/artists/7sfl4Xt5KmfyDs2T3SVSMK', 'type': 'artist'}], 'uri': 'spotify:track:7JUWmg5qxqlL1t1FJhgp81', 'disc_number': 1, 'href': 'https://api.spotify.com/v1/tracks/7JUWmg5qxqlL1t1FJhgp81', 'album': {'id': '5oHN6zfydzNd8yx7QHztCs', 'external_urls': {'spotify': 'https://open.spotify.com/album/5oHN6zfydzNd8yx7QHztCs'}, 'album_type': 'album', 'images': [{'url': 'https://i.scdn.co/image/24c0648433921dbd94d8d5c79cfdd0da33a1983b', 'height': 640, 'width': 640}, {'url': 'https://i.scdn.co/image/70caa2873aba1836cdecc538026816079c7af9ac', 'height': 300, 'width': 300}, {'url': 'https://i.scdn.co/image/e54a37764d265695629dd638eb5b037e187ceff2', 'height': 64, 'width': 64}], 'uri': 'spotify:album:5oHN6zfydzNd8yx7QHztCs', 'name': 'Soundclash', 'available_markets': ['AR', 'AT', 'BE', 'BO', 'BR', 'BG', 'CA', 'CL', 'CO', 'CR', 'CY', 'CZ', 'DK', 'DO', 'DE', 'EC', 'EE', 'SV', 'FI', 'FR', 'GR', 'GT', 'HN', 'HU', 'IS', 'IE', 'IT', 'LV', 'LT', 'LU', 'MT', 'NL', 'NI', 'NO', 'PA', 'PY', 'PE', 'PL', 'PT', 'SK', 'ES', 'SE', 'CH', 'TR', 'UY', 'US', 'GB', 'AD', 'LI', 'MC'], 'type': 'album', 'href': 'https://api.spotify.com/v1/albums/5oHN6zfydzNd8yx7QHztCs'}, 'popularity': 50, 'id': '7JUWmg5qxqlL1t1FJhgp81', 'external_urls': {'spotify': 'https://open.spotify.com/track/7JUWmg5qxqlL1t1FJhgp81'}, 'explicit': True, 'duration_ms': 189834, 'preview_url': 'https://p.scdn.co/mp3-preview/c9934e46fa7467eef841e9fc7d09624192583a98', 'name': 'Prison Riot', 'external_ids': {'isrc': 'USUS11203354'}, 'available_markets': ['AR', 'AT', 'BE', 'BO', 'BR', 'BG', 'CA', 'CL', 'CO', 'CR', 'CY', 'CZ', 'DK', 'DO', 'DE', 'EC', 'EE', 'SV', 'FI', 'FR', 'GR', 'GT', 'HN', 'HU', 'IS', 'IE', 'IT', 'LV', 'LT', 'LU', 'MT', 'NL', 'NI', 'NO', 'PA', 'PY', 'PE', 'PL', 'PT', 'SK', 'ES', 'SE', 'CH', 'TR', 'UY', 'US', 'GB', 'AD', 'LI', 'MC'], 'track_number': 6}, {'type': 'track', 'artists': [{'id': '7sfl4Xt5KmfyDs2T3SVSMK', 'external_urls': {'spotify': 'https://open.spotify.com/artist/7sfl4Xt5KmfyDs2T3SVSMK'}, 'uri': 'spotify:artist:7sfl4Xt5KmfyDs2T3SVSMK', 'name': 'Lil Jon', 'href': 'https://api.spotify.com/v1/artists/7sfl4Xt5KmfyDs2T3SVSMK', 'type': 'artist'}, {'id': '3sgFRtyBnxXD5ESfmbK4dl', 'external_urls': {'spotify': 'https://open.spotify.com/artist/3sgFRtyBnxXD5ESfmbK4dl'}, 'uri': 'spotify:artist:3sgFRtyBnxXD5ESfmbK4dl', 'name': 'LMFAO', 'href': 'https://api.spotify.com/v1/artists/3sgFRtyBnxXD5ESfmbK4dl', 'type': 'artist'}], 'uri': 'spotify:track:1Oenqmtbzt331Pgv0ODfS2', 'disc_number': 1, 'href': 'https://api.spotify.com/v1/tracks/1Oenqmtbzt331Pgv0ODfS2', 'album': {'id': '49qpwRDGLfNAkUG9UeGoTV', 'external_urls': {'spotify': 'https://open.spotify.com/album/49qpwRDGLfNAkUG9UeGoTV'}, 'album_type': 'album', 'images': [{'url': 'https://i.scdn.co/image/5c64ec0b49afd0b39cdb97b982cc62d1f94696f7', 'height': 640, 'width': 640}, {'url': 'https://i.scdn.co/image/d4e7679cceca907a7a875371feda1f1d2f774a5b', 'height': 300, 'width': 300}, {'url': 'https://i.scdn.co/image/357e16094534b24f8dd30fe621a326c3e74b45dd', 'height': 64, 'width': 64}], 'uri': 'spotify:album:49qpwRDGLfNAkUG9UeGoTV', 'name': 'Crunk Rock (Deluxe Edition Explicit)', 'available_markets': ['CA', 'US'], 'type': 'album', 'href': 'https://api.spotify.com/v1/albums/49qpwRDGLfNAkUG9UeGoTV'}, 'popularity': 48, 'id': '1Oenqmtbzt331Pgv0ODfS2', 'external_urls': {'spotify': 'https://open.spotify.com/track/1Oenqmtbzt331Pgv0ODfS2'}, 'explicit': True, 'duration_ms': 250746, 'preview_url': 'https://p.scdn.co/mp3-preview/cbe241286d2bca2f2672a11be4d5ac420dcd7499', 'name': 'Outta Your Mind', 'external_ids': {'isrc': 'USUM71013738'}, 'available_markets': ['CA', 'US'], 'track_number': 10}]}\n",
      "<class 'dict'>\n"
     ]
    }
   ],
   "source": [
    "import requests\n",
    "response = requests.get('https://api.spotify.com/v1/artists/7sfl4Xt5KmfyDs2T3SVSMK/top-tracks?country=US')\n",
    "lil_jon = response.json() \n",
    "print(lil_jon)\n",
    "type(lil_jon)\n",
    "print(type(lil_jon))"
   ]
  },
  {
   "cell_type": "code",
   "execution_count": 38,
   "metadata": {
    "collapsed": false
   },
   "outputs": [
    {
     "name": "stdout",
     "output_type": "stream",
     "text": [
      "dict_keys(['tracks'])\n"
     ]
    }
   ],
   "source": [
    "print(lil_jon.keys())"
   ]
  },
  {
   "cell_type": "code",
   "execution_count": 39,
   "metadata": {
    "collapsed": false
   },
   "outputs": [
    {
     "name": "stdout",
     "output_type": "stream",
     "text": [
      "[{'type': 'track', 'artists': [{'id': '540vIaP2JwjQb9dm3aArA4', 'external_urls': {'spotify': 'https://open.spotify.com/artist/540vIaP2JwjQb9dm3aArA4'}, 'uri': 'spotify:artist:540vIaP2JwjQb9dm3aArA4', 'name': 'DJ Snake', 'href': 'https://api.spotify.com/v1/artists/540vIaP2JwjQb9dm3aArA4', 'type': 'artist'}, {'id': '7sfl4Xt5KmfyDs2T3SVSMK', 'external_urls': {'spotify': 'https://open.spotify.com/artist/7sfl4Xt5KmfyDs2T3SVSMK'}, 'uri': 'spotify:artist:7sfl4Xt5KmfyDs2T3SVSMK', 'name': 'Lil Jon', 'href': 'https://api.spotify.com/v1/artists/7sfl4Xt5KmfyDs2T3SVSMK', 'type': 'artist'}], 'uri': 'spotify:track:67awxiNHNyjMXhVgsHuIrs', 'disc_number': 1, 'href': 'https://api.spotify.com/v1/tracks/67awxiNHNyjMXhVgsHuIrs', 'album': {'id': '3zo0Hxh9rjJsdw2JAKReE3', 'external_urls': {'spotify': 'https://open.spotify.com/album/3zo0Hxh9rjJsdw2JAKReE3'}, 'album_type': 'single', 'images': [{'url': 'https://i.scdn.co/image/68b7fc0346748cf2f764e6d99feed2869c52a85a', 'height': 640, 'width': 640}, {'url': 'https://i.scdn.co/image/a18242317ccb1c44cdc2e1b9a2a14b6c5932b550', 'height': 300, 'width': 300}, {'url': 'https://i.scdn.co/image/5d606d0b483943a7edd007f4b245d3232a0c8162', 'height': 64, 'width': 64}], 'uri': 'spotify:album:3zo0Hxh9rjJsdw2JAKReE3', 'name': 'Turn Down for What', 'available_markets': ['AR', 'AU', 'AT', 'BE', 'BO', 'BR', 'BG', 'CA', 'CL', 'CO', 'CR', 'CY', 'CZ', 'DK', 'DO', 'DE', 'EC', 'EE', 'SV', 'FI', 'FR', 'GR', 'GT', 'HN', 'HK', 'HU', 'IS', 'IE', 'IT', 'LV', 'LT', 'LU', 'MY', 'MT', 'MX', 'NL', 'NZ', 'NI', 'NO', 'PA', 'PY', 'PE', 'PH', 'PL', 'PT', 'SG', 'SK', 'ES', 'SE', 'CH', 'TW', 'TR', 'UY', 'US', 'GB', 'AD', 'LI', 'MC', 'ID'], 'type': 'album', 'href': 'https://api.spotify.com/v1/albums/3zo0Hxh9rjJsdw2JAKReE3'}, 'popularity': 78, 'id': '67awxiNHNyjMXhVgsHuIrs', 'external_urls': {'spotify': 'https://open.spotify.com/track/67awxiNHNyjMXhVgsHuIrs'}, 'explicit': False, 'duration_ms': 213733, 'preview_url': 'https://p.scdn.co/mp3-preview/fde5f6c570eb2ecaca797c0984a247a47d3fdc21', 'name': 'Turn Down for What', 'external_ids': {'isrc': 'USSM11308174'}, 'available_markets': ['AR', 'AU', 'AT', 'BE', 'BO', 'BR', 'BG', 'CA', 'CL', 'CO', 'CR', 'CY', 'CZ', 'DK', 'DO', 'DE', 'EC', 'EE', 'SV', 'FI', 'FR', 'GR', 'GT', 'HN', 'HK', 'HU', 'IS', 'IE', 'IT', 'LV', 'LT', 'LU', 'MY', 'MT', 'MX', 'NL', 'NZ', 'NI', 'NO', 'PA', 'PY', 'PE', 'PH', 'PL', 'PT', 'SG', 'SK', 'ES', 'SE', 'CH', 'TW', 'TR', 'UY', 'US', 'GB', 'AD', 'LI', 'MC', 'ID'], 'track_number': 1}, {'type': 'track', 'artists': [{'id': '4VMYDCV2IEDYJArk749S6m', 'external_urls': {'spotify': 'https://open.spotify.com/artist/4VMYDCV2IEDYJArk749S6m'}, 'uri': 'spotify:artist:4VMYDCV2IEDYJArk749S6m', 'name': 'Daddy Yankee', 'href': 'https://api.spotify.com/v1/artists/4VMYDCV2IEDYJArk749S6m', 'type': 'artist'}, {'id': '7sfl4Xt5KmfyDs2T3SVSMK', 'external_urls': {'spotify': 'https://open.spotify.com/artist/7sfl4Xt5KmfyDs2T3SVSMK'}, 'uri': 'spotify:artist:7sfl4Xt5KmfyDs2T3SVSMK', 'name': 'Lil Jon', 'href': 'https://api.spotify.com/v1/artists/7sfl4Xt5KmfyDs2T3SVSMK', 'type': 'artist'}, {'id': '0TnOYISbd1XYRBk9myaseg', 'external_urls': {'spotify': 'https://open.spotify.com/artist/0TnOYISbd1XYRBk9myaseg'}, 'uri': 'spotify:artist:0TnOYISbd1XYRBk9myaseg', 'name': 'Pitbull', 'href': 'https://api.spotify.com/v1/artists/0TnOYISbd1XYRBk9myaseg', 'type': 'artist'}, {'id': '3P4VNQLuN1qQQnL8rMaIkL', 'external_urls': {'spotify': 'https://open.spotify.com/artist/3P4VNQLuN1qQQnL8rMaIkL'}, 'uri': 'spotify:artist:3P4VNQLuN1qQQnL8rMaIkL', 'name': 'Noriega', 'href': 'https://api.spotify.com/v1/artists/3P4VNQLuN1qQQnL8rMaIkL', 'type': 'artist'}], 'uri': 'spotify:track:69gRFGOWY9OMpFJgFol1u0', 'disc_number': 1, 'href': 'https://api.spotify.com/v1/tracks/69gRFGOWY9OMpFJgFol1u0', 'album': {'id': '717UG2du6utFe7CdmpuUe3', 'external_urls': {'spotify': 'https://open.spotify.com/album/717UG2du6utFe7CdmpuUe3'}, 'album_type': 'compilation', 'images': [{'url': 'https://i.scdn.co/image/c1dffff58490dfc01df180756750937d67890528', 'height': 640, 'width': 640}, {'url': 'https://i.scdn.co/image/17bf0149fd6f7798ea58f9d16bdb4eed000f1452', 'height': 300, 'width': 300}, {'url': 'https://i.scdn.co/image/ac8ed423bf555fa8a2caa7601b9341a42a4c3246', 'height': 64, 'width': 64}], 'uri': 'spotify:album:717UG2du6utFe7CdmpuUe3', 'name': 'Reggaeton!', 'available_markets': ['AR', 'AU', 'AT', 'BE', 'BO', 'BR', 'BG', 'CA', 'CL', 'CO', 'CR', 'CY', 'CZ', 'DK', 'DO', 'DE', 'EC', 'EE', 'SV', 'FI', 'FR', 'GR', 'GT', 'HN', 'HK', 'HU', 'IS', 'IE', 'IT', 'LV', 'LT', 'LU', 'MY', 'MT', 'MX', 'NL', 'NZ', 'NI', 'NO', 'PA', 'PY', 'PE', 'PH', 'PL', 'PT', 'SG', 'SK', 'ES', 'SE', 'CH', 'TW', 'TR', 'UY', 'US', 'GB', 'AD', 'LI', 'MC', 'ID'], 'type': 'album', 'href': 'https://api.spotify.com/v1/albums/717UG2du6utFe7CdmpuUe3'}, 'popularity': 71, 'id': '69gRFGOWY9OMpFJgFol1u0', 'external_urls': {'spotify': 'https://open.spotify.com/track/69gRFGOWY9OMpFJgFol1u0'}, 'explicit': False, 'duration_ms': 282706, 'preview_url': 'https://p.scdn.co/mp3-preview/4bdac87857d69b1fec0a174b13e3b9a51cade0a4', 'name': 'Gasolina - DJ Buddah Remix', 'external_ids': {'isrc': 'ITF250500068'}, 'available_markets': ['AR', 'AU', 'AT', 'BE', 'BO', 'BR', 'BG', 'CA', 'CL', 'CO', 'CR', 'CY', 'CZ', 'DK', 'DO', 'DE', 'EC', 'EE', 'SV', 'FI', 'FR', 'GR', 'GT', 'HN', 'HK', 'HU', 'IS', 'IE', 'IT', 'LV', 'LT', 'LU', 'MY', 'MT', 'MX', 'NL', 'NZ', 'NI', 'NO', 'PA', 'PY', 'PE', 'PH', 'PL', 'PT', 'SG', 'SK', 'ES', 'SE', 'CH', 'TW', 'TR', 'UY', 'US', 'GB', 'AD', 'LI', 'MC', 'ID'], 'track_number': 6}, {'type': 'track', 'artists': [{'id': '2OqENqJFXPORP4BUGnu2Qq', 'external_urls': {'spotify': 'https://open.spotify.com/artist/2OqENqJFXPORP4BUGnu2Qq'}, 'uri': 'spotify:artist:2OqENqJFXPORP4BUGnu2Qq', 'name': 'Youngbloodz', 'href': 'https://api.spotify.com/v1/artists/2OqENqJFXPORP4BUGnu2Qq', 'type': 'artist'}, {'id': '3dwESUD2sahwxyFL6SYtEn', 'external_urls': {'spotify': 'https://open.spotify.com/artist/3dwESUD2sahwxyFL6SYtEn'}, 'uri': 'spotify:artist:3dwESUD2sahwxyFL6SYtEn', 'name': 'Sean Paul', 'href': 'https://api.spotify.com/v1/artists/3dwESUD2sahwxyFL6SYtEn', 'type': 'artist'}, {'id': '3crnzLy8R4lVwaigKEOz7V', 'external_urls': {'spotify': 'https://open.spotify.com/artist/3crnzLy8R4lVwaigKEOz7V'}, 'uri': 'spotify:artist:3crnzLy8R4lVwaigKEOz7V', 'name': 'E-40', 'href': 'https://api.spotify.com/v1/artists/3crnzLy8R4lVwaigKEOz7V', 'type': 'artist'}, {'id': '7sfl4Xt5KmfyDs2T3SVSMK', 'external_urls': {'spotify': 'https://open.spotify.com/artist/7sfl4Xt5KmfyDs2T3SVSMK'}, 'uri': 'spotify:artist:7sfl4Xt5KmfyDs2T3SVSMK', 'name': 'Lil Jon', 'href': 'https://api.spotify.com/v1/artists/7sfl4Xt5KmfyDs2T3SVSMK', 'type': 'artist'}], 'uri': 'spotify:track:6o3s08kk2fQI37vxGZDrJ1', 'disc_number': 1, 'href': 'https://api.spotify.com/v1/tracks/6o3s08kk2fQI37vxGZDrJ1', 'album': {'id': '5ot3hAGLgvrmfZ3ddosFZf', 'external_urls': {'spotify': 'https://open.spotify.com/album/5ot3hAGLgvrmfZ3ddosFZf'}, 'album_type': 'single', 'images': [{'url': 'https://i.scdn.co/image/868844a5a4a1943bcffbfa1bd59a7ce5dee1ce01', 'height': 640, 'width': 640}, {'url': 'https://i.scdn.co/image/e8d636e671156629210a95e0c8595e865aa60c0c', 'height': 300, 'width': 300}, {'url': 'https://i.scdn.co/image/23f6eec357f5fd675bbd0752f584fc14f4586e24', 'height': 64, 'width': 64}], 'uri': 'spotify:album:5ot3hAGLgvrmfZ3ddosFZf', 'name': 'Snap Yo Fingers - Single', 'available_markets': ['AR', 'AU', 'AT', 'BE', 'BO', 'BR', 'BG', 'CA', 'CL', 'CO', 'CR', 'CY', 'CZ', 'DK', 'DO', 'DE', 'EC', 'EE', 'SV', 'FI', 'FR', 'GR', 'GT', 'HN', 'HK', 'HU', 'IS', 'IE', 'IT', 'LV', 'LT', 'LU', 'MY', 'MT', 'MX', 'NL', 'NZ', 'NI', 'NO', 'PA', 'PY', 'PE', 'PH', 'PL', 'PT', 'SG', 'SK', 'ES', 'SE', 'CH', 'TW', 'TR', 'UY', 'US', 'GB', 'AD', 'LI', 'MC', 'ID'], 'type': 'album', 'href': 'https://api.spotify.com/v1/albums/5ot3hAGLgvrmfZ3ddosFZf'}, 'popularity': 65, 'id': '6o3s08kk2fQI37vxGZDrJ1', 'external_urls': {'spotify': 'https://open.spotify.com/track/6o3s08kk2fQI37vxGZDrJ1'}, 'explicit': False, 'duration_ms': 274386, 'preview_url': 'https://p.scdn.co/mp3-preview/fa9b9ff0464a50c5ebf4ebf2fb089a96ff40d5c4', 'name': 'Snap Yo Fingers', 'external_ids': {'isrc': 'USTV10600013'}, 'available_markets': ['AR', 'AU', 'AT', 'BE', 'BO', 'BR', 'BG', 'CA', 'CL', 'CO', 'CR', 'CY', 'CZ', 'DK', 'DO', 'DE', 'EC', 'EE', 'SV', 'FI', 'FR', 'GR', 'GT', 'HN', 'HK', 'HU', 'IS', 'IE', 'IT', 'LV', 'LT', 'LU', 'MY', 'MT', 'MX', 'NL', 'NZ', 'NI', 'NO', 'PA', 'PY', 'PE', 'PH', 'PL', 'PT', 'SG', 'SK', 'ES', 'SE', 'CH', 'TW', 'TR', 'UY', 'US', 'GB', 'AD', 'LI', 'MC', 'ID'], 'track_number': 1}, {'type': 'track', 'artists': [{'id': '7sfl4Xt5KmfyDs2T3SVSMK', 'external_urls': {'spotify': 'https://open.spotify.com/artist/7sfl4Xt5KmfyDs2T3SVSMK'}, 'uri': 'spotify:artist:7sfl4Xt5KmfyDs2T3SVSMK', 'name': 'Lil Jon', 'href': 'https://api.spotify.com/v1/artists/7sfl4Xt5KmfyDs2T3SVSMK', 'type': 'artist'}, {'id': '5LHRHt1k9lMyONurDHEdrp', 'external_urls': {'spotify': 'https://open.spotify.com/artist/5LHRHt1k9lMyONurDHEdrp'}, 'uri': 'spotify:artist:5LHRHt1k9lMyONurDHEdrp', 'name': 'Tyga', 'href': 'https://api.spotify.com/v1/artists/5LHRHt1k9lMyONurDHEdrp', 'type': 'artist'}], 'uri': 'spotify:track:35x6JdLCr4VWWR5ShNoAWo', 'disc_number': 1, 'href': 'https://api.spotify.com/v1/tracks/35x6JdLCr4VWWR5ShNoAWo', 'album': {'id': '7hSGhpAzdMDnh1UVcwBomX', 'external_urls': {'spotify': 'https://open.spotify.com/album/7hSGhpAzdMDnh1UVcwBomX'}, 'album_type': 'single', 'images': [{'url': 'https://i.scdn.co/image/850c1c5ff6f7111a6dd314e189d846ee7824599f', 'height': 640, 'width': 640}, {'url': 'https://i.scdn.co/image/06f668cf67c6b7ee262d20528071da6f80aaddfa', 'height': 300, 'width': 300}, {'url': 'https://i.scdn.co/image/1baaf4d9051eacad9a7a0105ca7d87dbbaf85274', 'height': 64, 'width': 64}], 'uri': 'spotify:album:7hSGhpAzdMDnh1UVcwBomX', 'name': 'Bend Ova', 'available_markets': ['AR', 'AU', 'AT', 'BE', 'BO', 'BR', 'BG', 'CA', 'CL', 'CO', 'CR', 'CY', 'CZ', 'DK', 'DO', 'DE', 'EC', 'EE', 'SV', 'FI', 'FR', 'GR', 'GT', 'HN', 'HK', 'HU', 'IS', 'IE', 'IT', 'LV', 'LT', 'LU', 'MY', 'MT', 'MX', 'NL', 'NZ', 'NI', 'NO', 'PA', 'PY', 'PE', 'PH', 'PL', 'PT', 'SG', 'SK', 'ES', 'SE', 'CH', 'TW', 'TR', 'UY', 'US', 'GB', 'AD', 'LI', 'MC', 'ID'], 'type': 'album', 'href': 'https://api.spotify.com/v1/albums/7hSGhpAzdMDnh1UVcwBomX'}, 'popularity': 63, 'id': '35x6JdLCr4VWWR5ShNoAWo', 'external_urls': {'spotify': 'https://open.spotify.com/track/35x6JdLCr4VWWR5ShNoAWo'}, 'explicit': True, 'duration_ms': 226106, 'preview_url': 'https://p.scdn.co/mp3-preview/68c9bc12674f66f79f0d967ea528f8e9f8ea5a79', 'name': 'Bend Ova', 'external_ids': {'isrc': 'QMEPP1400100'}, 'available_markets': ['AR', 'AU', 'AT', 'BE', 'BO', 'BR', 'BG', 'CA', 'CL', 'CO', 'CR', 'CY', 'CZ', 'DK', 'DO', 'DE', 'EC', 'EE', 'SV', 'FI', 'FR', 'GR', 'GT', 'HN', 'HK', 'HU', 'IS', 'IE', 'IT', 'LV', 'LT', 'LU', 'MY', 'MT', 'MX', 'NL', 'NZ', 'NI', 'NO', 'PA', 'PY', 'PE', 'PH', 'PL', 'PT', 'SG', 'SK', 'ES', 'SE', 'CH', 'TW', 'TR', 'UY', 'US', 'GB', 'AD', 'LI', 'MC', 'ID'], 'track_number': 1}, {'type': 'track', 'artists': [{'id': '540vIaP2JwjQb9dm3aArA4', 'external_urls': {'spotify': 'https://open.spotify.com/artist/540vIaP2JwjQb9dm3aArA4'}, 'uri': 'spotify:artist:540vIaP2JwjQb9dm3aArA4', 'name': 'DJ Snake', 'href': 'https://api.spotify.com/v1/artists/540vIaP2JwjQb9dm3aArA4', 'type': 'artist'}, {'id': '7sfl4Xt5KmfyDs2T3SVSMK', 'external_urls': {'spotify': 'https://open.spotify.com/artist/7sfl4Xt5KmfyDs2T3SVSMK'}, 'uri': 'spotify:artist:7sfl4Xt5KmfyDs2T3SVSMK', 'name': 'Lil Jon', 'href': 'https://api.spotify.com/v1/artists/7sfl4Xt5KmfyDs2T3SVSMK', 'type': 'artist'}, {'id': '5gCRApTajqwbnHHPbr2Fpi', 'external_urls': {'spotify': 'https://open.spotify.com/artist/5gCRApTajqwbnHHPbr2Fpi'}, 'uri': 'spotify:artist:5gCRApTajqwbnHHPbr2Fpi', 'name': 'Juicy J', 'href': 'https://api.spotify.com/v1/artists/5gCRApTajqwbnHHPbr2Fpi', 'type': 'artist'}, {'id': '17lzZA2AlOHwCwFALHttmp', 'external_urls': {'spotify': 'https://open.spotify.com/artist/17lzZA2AlOHwCwFALHttmp'}, 'uri': 'spotify:artist:17lzZA2AlOHwCwFALHttmp', 'name': '2 Chainz', 'href': 'https://api.spotify.com/v1/artists/17lzZA2AlOHwCwFALHttmp', 'type': 'artist'}, {'id': '6vXTefBL93Dj5IqAWq6OTv', 'external_urls': {'spotify': 'https://open.spotify.com/artist/6vXTefBL93Dj5IqAWq6OTv'}, 'uri': 'spotify:artist:6vXTefBL93Dj5IqAWq6OTv', 'name': 'French Montana', 'href': 'https://api.spotify.com/v1/artists/6vXTefBL93Dj5IqAWq6OTv', 'type': 'artist'}], 'uri': 'spotify:track:6h5yOjQNDaLZ0rW2OGoXTB', 'disc_number': 1, 'href': 'https://api.spotify.com/v1/tracks/6h5yOjQNDaLZ0rW2OGoXTB', 'album': {'id': '6zHQJ3ZtK1sRYJu7moegfj', 'external_urls': {'spotify': 'https://open.spotify.com/album/6zHQJ3ZtK1sRYJu7moegfj'}, 'album_type': 'single', 'images': [{'url': 'https://i.scdn.co/image/797aec01e29a6fc4984541db1e9dd0a5991b131d', 'height': 640, 'width': 640}, {'url': 'https://i.scdn.co/image/7a2ffd896206a10ec416329510f4e8ce95c3164d', 'height': 300, 'width': 300}, {'url': 'https://i.scdn.co/image/3d71fb06aed1655524ee0589b619f899b0956355', 'height': 64, 'width': 64}], 'uri': 'spotify:album:6zHQJ3ZtK1sRYJu7moegfj', 'name': 'Turn Down for What (Official Remix)', 'available_markets': ['AR', 'AU', 'AT', 'BE', 'BO', 'BR', 'BG', 'CA', 'CL', 'CO', 'CR', 'CY', 'CZ', 'DK', 'DO', 'DE', 'EC', 'EE', 'SV', 'FI', 'FR', 'GR', 'GT', 'HN', 'HK', 'HU', 'IS', 'IE', 'IT', 'LV', 'LT', 'LU', 'MY', 'MT', 'MX', 'NL', 'NZ', 'NI', 'NO', 'PA', 'PY', 'PE', 'PH', 'PL', 'PT', 'SG', 'SK', 'ES', 'SE', 'CH', 'TW', 'TR', 'UY', 'US', 'GB', 'AD', 'LI', 'MC', 'ID'], 'type': 'album', 'href': 'https://api.spotify.com/v1/albums/6zHQJ3ZtK1sRYJu7moegfj'}, 'popularity': 63, 'id': '6h5yOjQNDaLZ0rW2OGoXTB', 'external_urls': {'spotify': 'https://open.spotify.com/track/6h5yOjQNDaLZ0rW2OGoXTB'}, 'explicit': True, 'duration_ms': 225560, 'preview_url': 'https://p.scdn.co/mp3-preview/ba84ccf3c24e68adee0089f35d1e4edd808846c1', 'name': 'Turn Down for What - Official Remix', 'external_ids': {'isrc': 'USSM11402817'}, 'available_markets': ['AR', 'AU', 'AT', 'BE', 'BO', 'BR', 'BG', 'CA', 'CL', 'CO', 'CR', 'CY', 'CZ', 'DK', 'DO', 'DE', 'EC', 'EE', 'SV', 'FI', 'FR', 'GR', 'GT', 'HN', 'HK', 'HU', 'IS', 'IE', 'IT', 'LV', 'LT', 'LU', 'MY', 'MT', 'MX', 'NL', 'NZ', 'NI', 'NO', 'PA', 'PY', 'PE', 'PH', 'PL', 'PT', 'SG', 'SK', 'ES', 'SE', 'CH', 'TW', 'TR', 'UY', 'US', 'GB', 'AD', 'LI', 'MC', 'ID'], 'track_number': 1}, {'type': 'track', 'artists': [{'id': '7sfl4Xt5KmfyDs2T3SVSMK', 'external_urls': {'spotify': 'https://open.spotify.com/artist/7sfl4Xt5KmfyDs2T3SVSMK'}, 'uri': 'spotify:artist:7sfl4Xt5KmfyDs2T3SVSMK', 'name': 'Lil Jon', 'href': 'https://api.spotify.com/v1/artists/7sfl4Xt5KmfyDs2T3SVSMK', 'type': 'artist'}, {'id': '0TnOYISbd1XYRBk9myaseg', 'external_urls': {'spotify': 'https://open.spotify.com/artist/0TnOYISbd1XYRBk9myaseg'}, 'uri': 'spotify:artist:0TnOYISbd1XYRBk9myaseg', 'name': 'Pitbull', 'href': 'https://api.spotify.com/v1/artists/0TnOYISbd1XYRBk9myaseg', 'type': 'artist'}], 'uri': 'spotify:track:4tAru66VGVLWYjg90UV4vJ', 'disc_number': 1, 'href': 'https://api.spotify.com/v1/tracks/4tAru66VGVLWYjg90UV4vJ', 'album': {'id': '76N6imyjQ9h5p2NzakHT32', 'external_urls': {'spotify': 'https://open.spotify.com/album/76N6imyjQ9h5p2NzakHT32'}, 'album_type': 'album', 'images': [{'url': 'https://i.scdn.co/image/963ccc301158d51d999ea3f0f7f8cf1232606236', 'height': 640, 'width': 640}, {'url': 'https://i.scdn.co/image/887c20ba4508d968272ae371a5a10c52352e666c', 'height': 300, 'width': 300}, {'url': 'https://i.scdn.co/image/a2a5886a18396fe4c025b1de74be66177773d51b', 'height': 64, 'width': 64}], 'uri': 'spotify:album:76N6imyjQ9h5p2NzakHT32', 'name': 'M.I.A.M.I.', 'available_markets': ['AR', 'AU', 'AT', 'BE', 'BO', 'BR', 'BG', 'CA', 'CL', 'CO', 'CR', 'CY', 'CZ', 'DK', 'DO', 'DE', 'EC', 'EE', 'SV', 'FI', 'FR', 'GR', 'GT', 'HN', 'HK', 'HU', 'IS', 'IE', 'IT', 'LV', 'LT', 'LU', 'MY', 'MT', 'MX', 'NL', 'NZ', 'NI', 'NO', 'PA', 'PY', 'PE', 'PH', 'PL', 'PT', 'SG', 'SK', 'ES', 'SE', 'CH', 'TW', 'TR', 'UY', 'US', 'GB', 'AD', 'LI', 'MC', 'ID'], 'type': 'album', 'href': 'https://api.spotify.com/v1/albums/76N6imyjQ9h5p2NzakHT32'}, 'popularity': 59, 'id': '4tAru66VGVLWYjg90UV4vJ', 'external_urls': {'spotify': 'https://open.spotify.com/track/4tAru66VGVLWYjg90UV4vJ'}, 'explicit': True, 'duration_ms': 219080, 'preview_url': 'https://p.scdn.co/mp3-preview/edbfc7c1a9353d32ba3a577376ddfabb49cd8a71', 'name': 'Culo', 'external_ids': {'isrc': 'USTV10400126'}, 'available_markets': ['AR', 'AU', 'AT', 'BE', 'BO', 'BR', 'BG', 'CA', 'CL', 'CO', 'CR', 'CY', 'CZ', 'DK', 'DO', 'DE', 'EC', 'EE', 'SV', 'FI', 'FR', 'GR', 'GT', 'HN', 'HK', 'HU', 'IS', 'IE', 'IT', 'LV', 'LT', 'LU', 'MY', 'MT', 'MX', 'NL', 'NZ', 'NI', 'NO', 'PA', 'PY', 'PE', 'PH', 'PL', 'PT', 'SG', 'SK', 'ES', 'SE', 'CH', 'TW', 'TR', 'UY', 'US', 'GB', 'AD', 'LI', 'MC', 'ID'], 'track_number': 2}, {'type': 'track', 'artists': [{'id': '7sfl4Xt5KmfyDs2T3SVSMK', 'external_urls': {'spotify': 'https://open.spotify.com/artist/7sfl4Xt5KmfyDs2T3SVSMK'}, 'uri': 'spotify:artist:7sfl4Xt5KmfyDs2T3SVSMK', 'name': 'Lil Jon', 'href': 'https://api.spotify.com/v1/artists/7sfl4Xt5KmfyDs2T3SVSMK', 'type': 'artist'}], 'uri': 'spotify:track:1ArSJ2NBOhw4x0sxGbWFSn', 'disc_number': 1, 'href': 'https://api.spotify.com/v1/tracks/1ArSJ2NBOhw4x0sxGbWFSn', 'album': {'id': '4MeowM4zxeluX4brfdZOWa', 'external_urls': {'spotify': 'https://open.spotify.com/album/4MeowM4zxeluX4brfdZOWa'}, 'album_type': 'single', 'images': [{'url': 'https://i.scdn.co/image/068efb6e30dd7c68e53b9b6857e8e52746ee88b8', 'height': 640, 'width': 640}, {'url': 'https://i.scdn.co/image/fa8d117e635d6b152cfbe5d2cca4504fa939ea60', 'height': 300, 'width': 300}, {'url': 'https://i.scdn.co/image/031038d338e7f936b5c7a52bece966ec8be368ec', 'height': 64, 'width': 64}], 'uri': 'spotify:album:4MeowM4zxeluX4brfdZOWa', 'name': 'Get Loose (Remixes)', 'available_markets': ['AR', 'AU', 'AT', 'BE', 'BO', 'BR', 'BG', 'CA', 'CL', 'CO', 'CR', 'CY', 'CZ', 'DK', 'DO', 'DE', 'EC', 'EE', 'SV', 'FI', 'FR', 'GR', 'GT', 'HN', 'HK', 'HU', 'IS', 'IE', 'IT', 'LV', 'LT', 'LU', 'MY', 'MT', 'MX', 'NL', 'NZ', 'NI', 'NO', 'PA', 'PY', 'PE', 'PH', 'PL', 'PT', 'SG', 'SK', 'ES', 'SE', 'CH', 'TW', 'TR', 'UY', 'US', 'GB', 'AD', 'LI', 'MC', 'ID'], 'type': 'album', 'href': 'https://api.spotify.com/v1/albums/4MeowM4zxeluX4brfdZOWa'}, 'popularity': 53, 'id': '1ArSJ2NBOhw4x0sxGbWFSn', 'external_urls': {'spotify': 'https://open.spotify.com/track/1ArSJ2NBOhw4x0sxGbWFSn'}, 'explicit': True, 'duration_ms': 120878, 'preview_url': 'https://p.scdn.co/mp3-preview/a0000c5116d5220fc721e1854ad73e6c9f21a924', 'name': 'Get Loose', 'external_ids': {'isrc': 'USDM31575801'}, 'available_markets': ['AR', 'AU', 'AT', 'BE', 'BO', 'BR', 'BG', 'CA', 'CL', 'CO', 'CR', 'CY', 'CZ', 'DK', 'DO', 'DE', 'EC', 'EE', 'SV', 'FI', 'FR', 'GR', 'GT', 'HN', 'HK', 'HU', 'IS', 'IE', 'IT', 'LV', 'LT', 'LU', 'MY', 'MT', 'MX', 'NL', 'NZ', 'NI', 'NO', 'PA', 'PY', 'PE', 'PH', 'PL', 'PT', 'SG', 'SK', 'ES', 'SE', 'CH', 'TW', 'TR', 'UY', 'US', 'GB', 'AD', 'LI', 'MC', 'ID'], 'track_number': 1}, {'type': 'track', 'artists': [{'id': '7sfl4Xt5KmfyDs2T3SVSMK', 'external_urls': {'spotify': 'https://open.spotify.com/artist/7sfl4Xt5KmfyDs2T3SVSMK'}, 'uri': 'spotify:artist:7sfl4Xt5KmfyDs2T3SVSMK', 'name': 'Lil Jon', 'href': 'https://api.spotify.com/v1/artists/7sfl4Xt5KmfyDs2T3SVSMK', 'type': 'artist'}, {'id': '0TnOYISbd1XYRBk9myaseg', 'external_urls': {'spotify': 'https://open.spotify.com/artist/0TnOYISbd1XYRBk9myaseg'}, 'uri': 'spotify:artist:0TnOYISbd1XYRBk9myaseg', 'name': 'Pitbull', 'href': 'https://api.spotify.com/v1/artists/0TnOYISbd1XYRBk9myaseg', 'type': 'artist'}], 'uri': 'spotify:track:2cZ5ACJfBj2uAXARdHpjAW', 'disc_number': 1, 'href': 'https://api.spotify.com/v1/tracks/2cZ5ACJfBj2uAXARdHpjAW', 'album': {'id': '7m9AYxqeFPagkaqlg6WE0J', 'external_urls': {'spotify': 'https://open.spotify.com/album/7m9AYxqeFPagkaqlg6WE0J'}, 'album_type': 'album', 'images': [{'url': 'https://i.scdn.co/image/187a47a2d653ae440f2b2ed2eaebe7a6c7fb68a1', 'height': 640, 'width': 640}, {'url': 'https://i.scdn.co/image/bc9839b1a7b55e5a6f88a9cd5cb919c486a875b9', 'height': 300, 'width': 300}, {'url': 'https://i.scdn.co/image/02f3edf5596596cfb54060e7b51b6e7f2f6df245', 'height': 64, 'width': 64}], 'uri': 'spotify:album:7m9AYxqeFPagkaqlg6WE0J', 'name': 'The Boatlift', 'available_markets': ['AR', 'AU', 'AT', 'BE', 'BO', 'BR', 'BG', 'CA', 'CL', 'CO', 'CR', 'CY', 'CZ', 'DK', 'DO', 'DE', 'EC', 'EE', 'SV', 'FI', 'FR', 'GR', 'GT', 'HN', 'HK', 'HU', 'IS', 'IE', 'IT', 'LV', 'LT', 'LU', 'MY', 'MT', 'MX', 'NL', 'NZ', 'NI', 'NO', 'PA', 'PY', 'PE', 'PH', 'PL', 'PT', 'SG', 'SK', 'ES', 'SE', 'CH', 'TW', 'TR', 'UY', 'US', 'GB', 'AD', 'LI', 'MC', 'ID'], 'type': 'album', 'href': 'https://api.spotify.com/v1/albums/7m9AYxqeFPagkaqlg6WE0J'}, 'popularity': 51, 'id': '2cZ5ACJfBj2uAXARdHpjAW', 'external_urls': {'spotify': 'https://open.spotify.com/track/2cZ5ACJfBj2uAXARdHpjAW'}, 'explicit': True, 'duration_ms': 245054, 'preview_url': 'https://p.scdn.co/mp3-preview/74ad46988661814bd41d3d5523693685a1157d67', 'name': 'The Anthem', 'external_ids': {'isrc': 'USTV10701037'}, 'available_markets': ['AR', 'AU', 'AT', 'BE', 'BO', 'BR', 'BG', 'CA', 'CL', 'CO', 'CR', 'CY', 'CZ', 'DK', 'DO', 'DE', 'EC', 'EE', 'SV', 'FI', 'FR', 'GR', 'GT', 'HN', 'HK', 'HU', 'IS', 'IE', 'IT', 'LV', 'LT', 'LU', 'MY', 'MT', 'MX', 'NL', 'NZ', 'NI', 'NO', 'PA', 'PY', 'PE', 'PH', 'PL', 'PT', 'SG', 'SK', 'ES', 'SE', 'CH', 'TW', 'TR', 'UY', 'US', 'GB', 'AD', 'LI', 'MC', 'ID'], 'track_number': 7}, {'type': 'track', 'artists': [{'id': '2FmzVitXZjIkFolH8HXd4j', 'external_urls': {'spotify': 'https://open.spotify.com/artist/2FmzVitXZjIkFolH8HXd4j'}, 'uri': 'spotify:artist:2FmzVitXZjIkFolH8HXd4j', 'name': 'Flosstradamus', 'href': 'https://api.spotify.com/v1/artists/2FmzVitXZjIkFolH8HXd4j', 'type': 'artist'}, {'id': '6M7RdR9ZP52h2mfNLmiHtU', 'external_urls': {'spotify': 'https://open.spotify.com/artist/6M7RdR9ZP52h2mfNLmiHtU'}, 'uri': 'spotify:artist:6M7RdR9ZP52h2mfNLmiHtU', 'name': 'GTA', 'href': 'https://api.spotify.com/v1/artists/6M7RdR9ZP52h2mfNLmiHtU', 'type': 'artist'}, {'id': '7sfl4Xt5KmfyDs2T3SVSMK', 'external_urls': {'spotify': 'https://open.spotify.com/artist/7sfl4Xt5KmfyDs2T3SVSMK'}, 'uri': 'spotify:artist:7sfl4Xt5KmfyDs2T3SVSMK', 'name': 'Lil Jon', 'href': 'https://api.spotify.com/v1/artists/7sfl4Xt5KmfyDs2T3SVSMK', 'type': 'artist'}], 'uri': 'spotify:track:7JUWmg5qxqlL1t1FJhgp81', 'disc_number': 1, 'href': 'https://api.spotify.com/v1/tracks/7JUWmg5qxqlL1t1FJhgp81', 'album': {'id': '5oHN6zfydzNd8yx7QHztCs', 'external_urls': {'spotify': 'https://open.spotify.com/album/5oHN6zfydzNd8yx7QHztCs'}, 'album_type': 'album', 'images': [{'url': 'https://i.scdn.co/image/24c0648433921dbd94d8d5c79cfdd0da33a1983b', 'height': 640, 'width': 640}, {'url': 'https://i.scdn.co/image/70caa2873aba1836cdecc538026816079c7af9ac', 'height': 300, 'width': 300}, {'url': 'https://i.scdn.co/image/e54a37764d265695629dd638eb5b037e187ceff2', 'height': 64, 'width': 64}], 'uri': 'spotify:album:5oHN6zfydzNd8yx7QHztCs', 'name': 'Soundclash', 'available_markets': ['AR', 'AT', 'BE', 'BO', 'BR', 'BG', 'CA', 'CL', 'CO', 'CR', 'CY', 'CZ', 'DK', 'DO', 'DE', 'EC', 'EE', 'SV', 'FI', 'FR', 'GR', 'GT', 'HN', 'HU', 'IS', 'IE', 'IT', 'LV', 'LT', 'LU', 'MT', 'NL', 'NI', 'NO', 'PA', 'PY', 'PE', 'PL', 'PT', 'SK', 'ES', 'SE', 'CH', 'TR', 'UY', 'US', 'GB', 'AD', 'LI', 'MC'], 'type': 'album', 'href': 'https://api.spotify.com/v1/albums/5oHN6zfydzNd8yx7QHztCs'}, 'popularity': 50, 'id': '7JUWmg5qxqlL1t1FJhgp81', 'external_urls': {'spotify': 'https://open.spotify.com/track/7JUWmg5qxqlL1t1FJhgp81'}, 'explicit': True, 'duration_ms': 189834, 'preview_url': 'https://p.scdn.co/mp3-preview/c9934e46fa7467eef841e9fc7d09624192583a98', 'name': 'Prison Riot', 'external_ids': {'isrc': 'USUS11203354'}, 'available_markets': ['AR', 'AT', 'BE', 'BO', 'BR', 'BG', 'CA', 'CL', 'CO', 'CR', 'CY', 'CZ', 'DK', 'DO', 'DE', 'EC', 'EE', 'SV', 'FI', 'FR', 'GR', 'GT', 'HN', 'HU', 'IS', 'IE', 'IT', 'LV', 'LT', 'LU', 'MT', 'NL', 'NI', 'NO', 'PA', 'PY', 'PE', 'PL', 'PT', 'SK', 'ES', 'SE', 'CH', 'TR', 'UY', 'US', 'GB', 'AD', 'LI', 'MC'], 'track_number': 6}, {'type': 'track', 'artists': [{'id': '7sfl4Xt5KmfyDs2T3SVSMK', 'external_urls': {'spotify': 'https://open.spotify.com/artist/7sfl4Xt5KmfyDs2T3SVSMK'}, 'uri': 'spotify:artist:7sfl4Xt5KmfyDs2T3SVSMK', 'name': 'Lil Jon', 'href': 'https://api.spotify.com/v1/artists/7sfl4Xt5KmfyDs2T3SVSMK', 'type': 'artist'}, {'id': '3sgFRtyBnxXD5ESfmbK4dl', 'external_urls': {'spotify': 'https://open.spotify.com/artist/3sgFRtyBnxXD5ESfmbK4dl'}, 'uri': 'spotify:artist:3sgFRtyBnxXD5ESfmbK4dl', 'name': 'LMFAO', 'href': 'https://api.spotify.com/v1/artists/3sgFRtyBnxXD5ESfmbK4dl', 'type': 'artist'}], 'uri': 'spotify:track:1Oenqmtbzt331Pgv0ODfS2', 'disc_number': 1, 'href': 'https://api.spotify.com/v1/tracks/1Oenqmtbzt331Pgv0ODfS2', 'album': {'id': '49qpwRDGLfNAkUG9UeGoTV', 'external_urls': {'spotify': 'https://open.spotify.com/album/49qpwRDGLfNAkUG9UeGoTV'}, 'album_type': 'album', 'images': [{'url': 'https://i.scdn.co/image/5c64ec0b49afd0b39cdb97b982cc62d1f94696f7', 'height': 640, 'width': 640}, {'url': 'https://i.scdn.co/image/d4e7679cceca907a7a875371feda1f1d2f774a5b', 'height': 300, 'width': 300}, {'url': 'https://i.scdn.co/image/357e16094534b24f8dd30fe621a326c3e74b45dd', 'height': 64, 'width': 64}], 'uri': 'spotify:album:49qpwRDGLfNAkUG9UeGoTV', 'name': 'Crunk Rock (Deluxe Edition Explicit)', 'available_markets': ['CA', 'US'], 'type': 'album', 'href': 'https://api.spotify.com/v1/albums/49qpwRDGLfNAkUG9UeGoTV'}, 'popularity': 48, 'id': '1Oenqmtbzt331Pgv0ODfS2', 'external_urls': {'spotify': 'https://open.spotify.com/track/1Oenqmtbzt331Pgv0ODfS2'}, 'explicit': True, 'duration_ms': 250746, 'preview_url': 'https://p.scdn.co/mp3-preview/cbe241286d2bca2f2672a11be4d5ac420dcd7499', 'name': 'Outta Your Mind', 'external_ids': {'isrc': 'USUM71013738'}, 'available_markets': ['CA', 'US'], 'track_number': 10}]\n"
     ]
    }
   ],
   "source": [
    "print(lil_jon['tracks'])"
   ]
  },
  {
   "cell_type": "code",
   "execution_count": 44,
   "metadata": {
    "collapsed": false
   },
   "outputs": [
    {
     "name": "stdout",
     "output_type": "stream",
     "text": [
      "Lil Jon's top tracks are:\n"
     ]
    }
   ],
   "source": [
    "tracks = ['tracks']\n",
    "for lil_jon in tracks:\n",
    "    print(\"Lil Jon's top tracks are:\")\n"
   ]
  },
  {
   "cell_type": "markdown",
   "metadata": {},
   "source": [
    "# 6) Will the world explode if a musicians swears? Get an average popularity for their explicit songs vs. their non-explicit songs. How many minutes of explicit songs do they have? Non-explicit?"
   ]
  },
  {
   "cell_type": "code",
   "execution_count": null,
   "metadata": {
    "collapsed": false
   },
   "outputs": [],
   "source": [
    "\n"
   ]
  },
  {
   "cell_type": "code",
   "execution_count": 75,
   "metadata": {
    "collapsed": false
   },
   "outputs": [
    {
     "name": "stdout",
     "output_type": "stream",
     "text": [
      "Forever True\n",
      "We have found 1 explicit tracks, and 0 tracks are clean\n",
      "Nothing But Trouble - Instagram Models True\n",
      "We have found 2 explicit tracks, and 0 tracks are clean\n",
      "6 Foot 7 Foot True\n",
      "We have found 3 explicit tracks, and 0 tracks are clean\n",
      "A Milli True\n",
      "We have found 4 explicit tracks, and 0 tracks are clean\n",
      "Right Above It True\n",
      "We have found 5 explicit tracks, and 0 tracks are clean\n",
      "Lollipop True\n",
      "We have found 6 explicit tracks, and 0 tracks are clean\n",
      "Love Me True\n",
      "We have found 7 explicit tracks, and 0 tracks are clean\n",
      "Rich As Fuck True\n",
      "We have found 8 explicit tracks, and 0 tracks are clean\n",
      "Mirror True\n",
      "We have found 9 explicit tracks, and 0 tracks are clean\n",
      "Believe Me True\n",
      "We have found 10 explicit tracks, and 0 tracks are clean\n",
      "Overall, We discovered 10 explicit tracks\n",
      "And 0 were non-explicit\n",
      "Which means 0.0  percent of tracks were clean\n"
     ]
    }
   ],
   "source": [
    "response = requests.get(\"https://api.spotify.com/v1/artists/55Aa2cqylxrFIXC767Z865/top-tracks?country=US\")\n",
    "data = response.json()\n",
    "tracks = data['tracks']\n",
    "explicit_count = 0 \n",
    "clean_count = 0 \n",
    "for track in tracks:\n",
    "    print(track['name'], track['explicit'])\n",
    "    if True:\n",
    "        explicit_count = explicit_count + 1\n",
    "    if not track['explicit']:\n",
    "        clean_count = clean_count + 1\n",
    "    print(\"We have found\", explicit_count, \"explicit tracks, and\", clean_count, \"tracks are clean\")\n",
    "if track_count > 0:\n",
    "    print(\"Overall, We discovered\", explicit_count, \"explicit tracks\")\n",
    "    print(\"And\", clean_count, \"were non-explicit\")\n",
    "    print(\"Which means\", 100 * clean_count / explicit_count, \" percent of tracks were clean\")\n",
    "else:\n",
    "    print(\"No top tracks found\")"
   ]
  },
  {
   "cell_type": "code",
   "execution_count": 76,
   "metadata": {
    "collapsed": false
   },
   "outputs": [
    {
     "name": "stdout",
     "output_type": "stream",
     "text": [
      "Forever True\n",
      "The number of explicit songs are 1 with a popularity of 75\n",
      "Lil Wayne has 35.7346 minutes of explicit songs\n",
      "Lil Wayne has 1 explicit tracks, and 0 clean tracks\n",
      "Lil Wayne has 0.0 minutes of clean songs\n",
      "Nothing But Trouble - Instagram Models True\n",
      "The number of explicit songs are 2 with a popularity of 148\n",
      "Lil Wayne has 57.533 minutes of explicit songs\n",
      "Lil Wayne has 2 explicit tracks, and 0 clean tracks\n",
      "Lil Wayne has 0.0 minutes of clean songs\n",
      "6 Foot 7 Foot True\n",
      "The number of explicit songs are 3 with a popularity of 220\n",
      "Lil Wayne has 82.3916 minutes of explicit songs\n",
      "Lil Wayne has 3 explicit tracks, and 0 clean tracks\n",
      "Lil Wayne has 0.0 minutes of clean songs\n",
      "A Milli True\n",
      "The number of explicit songs are 4 with a popularity of 291\n",
      "Lil Wayne has 104.5756 minutes of explicit songs\n",
      "Lil Wayne has 4 explicit tracks, and 0 clean tracks\n",
      "Lil Wayne has 0.0 minutes of clean songs\n",
      "Right Above It True\n",
      "The number of explicit songs are 5 with a popularity of 361\n",
      "Lil Wayne has 131.7702 minutes of explicit songs\n",
      "Lil Wayne has 5 explicit tracks, and 0 clean tracks\n",
      "Lil Wayne has 0.0 minutes of clean songs\n",
      "Lollipop True\n",
      "The number of explicit songs are 6 with a popularity of 428\n",
      "Lil Wayne has 161.7035 minutes of explicit songs\n",
      "Lil Wayne has 6 explicit tracks, and 0 clean tracks\n",
      "Lil Wayne has 0.0 minutes of clean songs\n",
      "Love Me True\n",
      "The number of explicit songs are 7 with a popularity of 495\n",
      "Lil Wayne has 187.0475 minutes of explicit songs\n",
      "Lil Wayne has 7 explicit tracks, and 0 clean tracks\n",
      "Lil Wayne has 0.0 minutes of clean songs\n",
      "Rich As Fuck True\n",
      "The number of explicit songs are 8 with a popularity of 562\n",
      "Lil Wayne has 209.3648 minutes of explicit songs\n",
      "Lil Wayne has 8 explicit tracks, and 0 clean tracks\n",
      "Lil Wayne has 0.0 minutes of clean songs\n",
      "Mirror True\n",
      "The number of explicit songs are 9 with a popularity of 628\n",
      "Lil Wayne has 232.1741 minutes of explicit songs\n",
      "Lil Wayne has 9 explicit tracks, and 0 clean tracks\n",
      "Lil Wayne has 0.0 minutes of clean songs\n",
      "Believe Me True\n",
      "The number of explicit songs are 10 with a popularity of 694\n",
      "Lil Wayne has 265.9381 minutes of explicit songs\n",
      "Lil Wayne has 10 explicit tracks, and 0 clean tracks\n",
      "Lil Wayne has 0.0 minutes of clean songs\n",
      "The average popularity of Lil Wayne's explicit tracks is 69.4\n"
     ]
    }
   ],
   "source": [
    "import requests\n",
    "response = requests.get('https://api.spotify.com/v1/artists/55Aa2cqylxrFIXC767Z865/top-tracks?country=US')\n",
    "data = response.json()\n",
    "tracks = data['tracks']\n",
    "#print(tracks)\n",
    "explicit_count = 0 \n",
    "clean_count = 0\n",
    "popularity_explicit = 0\n",
    "popularity_nonexplicit = 0\n",
    "minutes_explicit = 0 \n",
    "minutes_not_explicit = 0 \n",
    "\n",
    "for track in tracks:\n",
    "    print(track['name'], track['explicit'])\n",
    "    if track['explicit'] == True:\n",
    "        explicit_count = explicit_count + 1\n",
    "        popularity_explicit = popularity_explicit + track['popularity']\n",
    "        minutes_explicit = minutes_explicit + track['duration_ms']\n",
    "        print(\"The number of explicit songs are\", explicit_count, \"with a popularity of\", popularity_explicit)\n",
    "        print( \"Lil Wayne has\", minutes_explicit/10000, \"minutes of explicit songs\" )\n",
    "    elif track['explicit'] == False:\n",
    "        clean_count = clean_count + 1\n",
    "        popularity_nonexplicit = popularity_nonexplicit + track['popularity']\n",
    "        minutes_not_explicit = minutes_not_explicit + track['duration_ms']\n",
    "    print(\"Lil Wayne has\", explicit_count, \"explicit tracks, and\", clean_count, \"clean tracks\")\n",
    "    print( \"Lil Wayne has\", minutes_not_explicit/10000, \"minutes of clean songs\")\n",
    "print(\"The average popularity of Lil Wayne's explicit tracks is\", popularity_explicit/explicit_count)\n"
   ]
  },
  {
   "cell_type": "code",
   "execution_count": 77,
   "metadata": {
    "collapsed": false
   },
   "outputs": [
    {
     "name": "stdout",
     "output_type": "stream",
     "text": [
      "Turn Down for What False\n",
      "Lil Jon has 1 explicit tracks, and 1 clean tracks\n",
      "Gasolina - DJ Buddah Remix False\n",
      "Lil Jon has 2 explicit tracks, and 2 clean tracks\n",
      "Snap Yo Fingers False\n",
      "Lil Jon has 3 explicit tracks, and 3 clean tracks\n",
      "Bend Ova True\n",
      "Lil Jon has 4 explicit tracks, and 3 clean tracks\n",
      "Turn Down for What - Official Remix True\n",
      "Lil Jon has 5 explicit tracks, and 3 clean tracks\n",
      "Culo True\n",
      "Lil Jon has 6 explicit tracks, and 3 clean tracks\n",
      "Get Loose True\n",
      "Lil Jon has 7 explicit tracks, and 3 clean tracks\n",
      "The Anthem True\n",
      "Lil Jon has 8 explicit tracks, and 3 clean tracks\n",
      "Prison Riot True\n",
      "Lil Jon has 9 explicit tracks, and 3 clean tracks\n",
      "Outta Your Mind True\n",
      "Lil Jon has 10 explicit tracks, and 3 clean tracks\n"
     ]
    }
   ],
   "source": [
    "import requests\n",
    "response = requests.get('https://api.spotify.com/v1/artists/7sfl4Xt5KmfyDs2T3SVSMK/top-tracks?country=US')\n",
    "data = response.json()\n",
    "tracks = data['tracks']\n",
    "#print(tracks)\n",
    "explicit_count = 0 \n",
    "clean_count = 0\n",
    "for track in tracks:\n",
    "    print(track['name'], track['explicit'])\n",
    "    if True:\n",
    "        explicit_count = explicit_count + 1\n",
    "    if not track['explicit']:\n",
    "        clean_count = clean_count + 1\n",
    "    print(\"Lil Jon has\", explicit_count, \"explicit tracks, and\", clean_count, \"clean tracks\")"
   ]
  },
  {
   "cell_type": "code",
   "execution_count": 58,
   "metadata": {
    "collapsed": false
   },
   "outputs": [
    {
     "name": "stdout",
     "output_type": "stream",
     "text": [
      "Turn Down for What False\n",
      "We have found 1 explicit tracks, and 1 tracks are clean\n",
      "Gasolina - DJ Buddah Remix False\n",
      "We have found 2 explicit tracks, and 2 tracks are clean\n",
      "Snap Yo Fingers False\n",
      "We have found 3 explicit tracks, and 3 tracks are clean\n",
      "Bend Ova True\n",
      "We have found 4 explicit tracks, and 3 tracks are clean\n",
      "Turn Down for What - Official Remix True\n",
      "We have found 5 explicit tracks, and 3 tracks are clean\n",
      "Culo True\n",
      "We have found 6 explicit tracks, and 3 tracks are clean\n",
      "Get Loose True\n",
      "We have found 7 explicit tracks, and 3 tracks are clean\n",
      "The Anthem True\n",
      "We have found 8 explicit tracks, and 3 tracks are clean\n",
      "Prison Riot True\n",
      "We have found 9 explicit tracks, and 3 tracks are clean\n",
      "Outta Your Mind True\n",
      "We have found 10 explicit tracks, and 3 tracks are clean\n",
      "Overall, We discovered 10 explicit tracks\n",
      "And 3 were non-explicit\n",
      "Which means 30.0  percent of tracks were clean\n"
     ]
    }
   ],
   "source": [
    "response = requests.get(\"https://api.spotify.com/v1/artists/7sfl4Xt5KmfyDs2T3SVSMK/top-tracks?country=US\")\n",
    "data = response.json()\n",
    "tracks = data['tracks']\n",
    "explicit_count = 0 \n",
    "clean_count = 0 \n",
    "for track in tracks:\n",
    "    print(track['name'], track['explicit'])\n",
    "    if True:\n",
    "        explicit_count = explicit_count + 1\n",
    "    if not track['explicit']:\n",
    "        clean_count = clean_count + 1\n",
    "    print(\"We have found\", explicit_count, \"explicit tracks, and\", clean_count, \"tracks are clean\")\n",
    "if track_count > 0:\n",
    "    print(\"Overall, We discovered\", explicit_count, \"explicit tracks\")\n",
    "    print(\"And\", clean_count, \"were non-explicit\")\n",
    "    print(\"Which means\", 100 * clean_count / explicit_count, \" percent of tracks were clean\")\n",
    "else:\n",
    "    print(\"No top tracks found\") "
   ]
  },
  {
   "cell_type": "code",
   "execution_count": 72,
   "metadata": {
    "collapsed": false
   },
   "outputs": [
    {
     "name": "stdout",
     "output_type": "stream",
     "text": [
      "Turn Down for What False\n",
      "Lil Jon has 0 explicit tracks, and 1 clean tracks\n",
      "Lil Jon has 213.733 minutes of clean songs\n",
      "Gasolina - DJ Buddah Remix False\n",
      "Lil Jon has 0 explicit tracks, and 2 clean tracks\n",
      "Lil Jon has 496.439 minutes of clean songs\n",
      "Snap Yo Fingers False\n",
      "Lil Jon has 0 explicit tracks, and 3 clean tracks\n",
      "Lil Jon has 770.825 minutes of clean songs\n",
      "Bend Ova True\n",
      "The number of explicit songs are 1 with a popularity of 63\n",
      "Lil Jon has 226.106 minutes of explicit songs\n",
      "Lil Jon has 1 explicit tracks, and 3 clean tracks\n",
      "Lil Jon has 770.825 minutes of clean songs\n",
      "Turn Down for What - Official Remix True\n",
      "The number of explicit songs are 2 with a popularity of 126\n",
      "Lil Jon has 451.666 minutes of explicit songs\n",
      "Lil Jon has 2 explicit tracks, and 3 clean tracks\n",
      "Lil Jon has 770.825 minutes of clean songs\n",
      "Culo True\n",
      "The number of explicit songs are 3 with a popularity of 185\n",
      "Lil Jon has 670.746 minutes of explicit songs\n",
      "Lil Jon has 3 explicit tracks, and 3 clean tracks\n",
      "Lil Jon has 770.825 minutes of clean songs\n",
      "Get Loose True\n",
      "The number of explicit songs are 4 with a popularity of 238\n",
      "Lil Jon has 791.624 minutes of explicit songs\n",
      "Lil Jon has 4 explicit tracks, and 3 clean tracks\n",
      "Lil Jon has 770.825 minutes of clean songs\n",
      "The Anthem True\n",
      "The number of explicit songs are 5 with a popularity of 289\n",
      "Lil Jon has 1036.678 minutes of explicit songs\n",
      "Lil Jon has 5 explicit tracks, and 3 clean tracks\n",
      "Lil Jon has 770.825 minutes of clean songs\n",
      "Prison Riot True\n",
      "The number of explicit songs are 6 with a popularity of 339\n",
      "Lil Jon has 1226.512 minutes of explicit songs\n",
      "Lil Jon has 6 explicit tracks, and 3 clean tracks\n",
      "Lil Jon has 770.825 minutes of clean songs\n",
      "Outta Your Mind True\n",
      "The number of explicit songs are 7 with a popularity of 387\n",
      "Lil Jon has 1477.258 minutes of explicit songs\n",
      "Lil Jon has 7 explicit tracks, and 3 clean tracks\n",
      "Lil Jon has 770.825 minutes of clean songs\n",
      "The average popularity of Lil Jon's explicit tracks is 55.285714285714285\n"
     ]
    }
   ],
   "source": [
    "import requests\n",
    "response = requests.get('https://api.spotify.com/v1/artists/7sfl4Xt5KmfyDs2T3SVSMK/top-tracks?country=US')\n",
    "data = response.json()\n",
    "tracks = data['tracks']\n",
    "#print(tracks)\n",
    "explicit_count = 0 \n",
    "clean_count = 0\n",
    "popularity_explicit = 0\n",
    "popularity_nonexplicit = 0\n",
    "minutes_explicit = 0 \n",
    "minutes_not_explicit = 0 \n",
    "\n",
    "for track in tracks:\n",
    "    print(track['name'], track['explicit'])\n",
    "    if track['explicit'] == True:\n",
    "        explicit_count = explicit_count + 1\n",
    "        popularity_explicit = popularity_explicit + track['popularity']\n",
    "        minutes_explicit = minutes_explicit + track['duration_ms']\n",
    "        print(\"The number of explicit songs are\", explicit_count, \"with a popularity of\", popularity_explicit)\n",
    "        print( \"Lil Jon has\", minutes_explicit/1000, \"minutes of explicit songs\" )\n",
    "    elif track['explicit'] == False:\n",
    "        clean_count = clean_count + 1\n",
    "        popularity_nonexplicit = popularity_nonexplicit + track['popularity']\n",
    "        minutes_not_explicit = minutes_not_explicit + track['duration_ms']\n",
    "    print(\"Lil Jon has\", explicit_count, \"explicit tracks, and\", clean_count, \"clean tracks\")\n",
    "    print( \"Lil Jon has\", minutes_not_explicit/1000, \"minutes of clean songs\")\n",
    "print(\"The average popularity of Lil Jon's explicit tracks is\", popularity_explicit/explicit_count)"
   ]
  },
  {
   "cell_type": "code",
   "execution_count": null,
   "metadata": {
    "collapsed": false
   },
   "outputs": [],
   "source": []
  },
  {
   "cell_type": "code",
   "execution_count": null,
   "metadata": {
    "collapsed": true
   },
   "outputs": [],
   "source": []
  }
 ],
 "metadata": {
  "kernelspec": {
   "display_name": "Python 3",
   "language": "python",
   "name": "python3"
  },
  "language_info": {
   "codemirror_mode": {
    "name": "ipython",
    "version": 3
   },
   "file_extension": ".py",
   "mimetype": "text/x-python",
   "name": "python",
   "nbconvert_exporter": "python",
   "pygments_lexer": "ipython3",
   "version": "3.5.1"
  }
 },
 "nbformat": 4,
 "nbformat_minor": 0
}
