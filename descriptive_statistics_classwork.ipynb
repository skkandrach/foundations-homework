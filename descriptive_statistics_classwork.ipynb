{
 "cells": [
  {
   "cell_type": "code",
   "execution_count": null,
   "metadata": {
    "collapsed": true
   },
   "outputs": [],
   "source": [
    "import pandas as pd\n",
    "import numpy as np\n",
    "import matplotlib.pyplot as plt\n",
    "%matplotlib inline\n",
    "plt.style.use('ggplot')\n",
    "import dateutil.parser\n",
    "import math"
   ]
  },
  {
   "cell_type": "code",
   "execution_count": null,
   "metadata": {
    "collapsed": true
   },
   "outputs": [],
   "source": [
    "# Let's build a data set\n",
    "reviews_df = pd.DataFrame([\n",
    " { 'restaurant': 'Burger King', 'reviewer': 'Jeff', 'yelp_stars': 2 } ,\n",
    " { 'restaurant': 'Burger King', 'reviewer': 'Jen', 'yelp_stars': 2 },\n",
    " { 'restaurant': 'Burger King', 'reviewer': 'James', 'yelp_stars': 5 },\n",
    " { 'restaurant': 'Burger King', 'reviewer': 'John', 'yelp_stars': 4 },\n",
    " { 'restaurant': 'Burger King', 'reviewer': 'Josephine', 'yelp_stars': 4 },\n",
    " { 'restaurant': 'Burger King', 'reviewer': 'Jacques', 'yelp_stars': 3 },\n",
    " { 'restaurant': 'Burger King', 'reviewer': 'Jill', 'yelp_stars': 2 }    \n",
    "])\n",
    "reviews_df"
   ]
  }
 ],
 "metadata": {
  "kernelspec": {
   "display_name": "Python 3",
   "language": "python",
   "name": "python3"
  },
  "language_info": {
   "codemirror_mode": {
    "name": "ipython",
    "version": 3
   },
   "file_extension": ".py",
   "mimetype": "text/x-python",
   "name": "python",
   "nbconvert_exporter": "python",
   "pygments_lexer": "ipython3",
   "version": "3.5.1"
  }
 },
 "nbformat": 4,
 "nbformat_minor": 0
}
